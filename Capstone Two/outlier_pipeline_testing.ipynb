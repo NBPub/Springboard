{
 "cells": [
  {
   "cell_type": "code",
   "execution_count": null,
   "id": "f47b92f5-24b9-4dcb-a5fe-57f3546c333f",
   "metadata": {},
   "outputs": [],
   "source": [
    "from imblearn.pipeline import make_pipeline as make_imb_pipeline"
   ]
  },
  {
   "cell_type": "code",
   "execution_count": null,
   "id": "911a3098-f833-447d-aeb5-b1db9b2c7d84",
   "metadata": {},
   "outputs": [],
   "source": [
    "from sklearn.base import TransformerMixin\n",
    "from sklearn.pipeline import make_pipeline, Pipeline"
   ]
  },
  {
   "cell_type": "markdown",
   "id": "d7dca279-d01e-4dbc-ab40-76ea5b243fa6",
   "metadata": {},
   "source": [
    "---"
   ]
  },
  {
   "cell_type": "code",
   "execution_count": null,
   "id": "6b671dd5-04e6-405d-b080-6daf111ea5b0",
   "metadata": {},
   "outputs": [],
   "source": [
    "class RemoveOutliers(TransformerMixin):\n",
    "    def __init__(self, threshold, **kwargs):\n",
    "        self.threshold = threshold\n",
    "        self.kwargs = kwargs\n",
    "        \n",
    "    def transform(self, *args):\n",
    "        # X = self.X.values\n",
    "        # y = self.y.values\n",
    "        detection = pd.Series(self.iso_forest.predict(self.X), index=self.X.index)\n",
    "        inliers = detection[detection==1].index\n",
    "        return X.loc[inliers,:], y[inliers]\n",
    "    \n",
    "    def fit(self, *args, **kwargs):\n",
    "        self.X = args[0]\n",
    "        self.y = args[1]\n",
    "        self.iso_forest = IsolationForest(contamination=self.threshold, random_state=42)\n",
    "        self.iso_forest.fit(args[0])\n",
    "        return self\n",
    "        "
   ]
  },
  {
   "cell_type": "code",
   "execution_count": null,
   "id": "b3f5f4ad-1177-4d59-abaa-4c656bb41745",
   "metadata": {},
   "outputs": [],
   "source": [
    "class RemoveOutliers(TransformerMixin):\n",
    "    def __init__(self, threshold, **kwargs):\n",
    "        self.threshold = threshold\n",
    "        self.kwargs = kwargs\n",
    "        \n",
    "    def fit_transform(self, X, y):\n",
    "        iso_forest = IsolationForest(contamination=self.threshold, random_state=42)\n",
    "        iso_forest.fit(X)\n",
    "        detection = pd.Series(iso_forest.predict(X), index=X.index)\n",
    "        inliers = detection[detection==1].index\n",
    "        return X.loc[inliers,:], y[inliers]\n"
   ]
  },
  {
   "cell_type": "code",
   "execution_count": null,
   "id": "603c4e86-3d39-49ed-8ee3-86640b142a74",
   "metadata": {},
   "outputs": [],
   "source": [
    "iso = RemoveOutliers(0.01)"
   ]
  },
  {
   "cell_type": "code",
   "execution_count": null,
   "id": "d555ea70-7a4e-4dcd-8ba5-63108da0bbee",
   "metadata": {},
   "outputs": [],
   "source": [
    "knn_pipe = make_pipeline(SelectKBest(score_func=f_regression, k=7), \n",
    "                         RemoveOutliers(0.01),\n",
    "                         KNeighborsRegressor(n_jobs=-1))\n"
   ]
  },
  {
   "cell_type": "code",
   "execution_count": null,
   "id": "a7462a80-5fb5-4be6-b1f6-2fcc9772a5b2",
   "metadata": {},
   "outputs": [],
   "source": []
  },
  {
   "cell_type": "code",
   "execution_count": null,
   "id": "e45e3609-64bf-4fed-8080-f449dcea7509",
   "metadata": {},
   "outputs": [],
   "source": [
    "a,b= iso.fit(X_train,None).transform(X_train)"
   ]
  },
  {
   "cell_type": "code",
   "execution_count": null,
   "id": "0662330d-32fb-4b89-be54-dc2e36e24b8d",
   "metadata": {},
   "outputs": [],
   "source": [
    "class RemoveOutliers(TransformerMixin):\n",
    "    def __init__(self, threshold, **kwargs):\n",
    "        self.threshold = threshold\n",
    "        self.kwargs = kwargs\n",
    "        \n",
    "    def fit_transform(self, X, y):\n",
    "        iso_forest = IsolationForest(contamination=self.threshold, random_state=42)\n",
    "        iso_forest.fit(X)\n",
    "        detection = pd.Series(iso_forest.predict(X), index=X.index)\n",
    "        inliers = \n",
    "        return X.loc[inliers,:], y[inliers]\n"
   ]
  }
 ],
 "metadata": {
  "kernelspec": {
   "display_name": "Python 3 (ipykernel)",
   "language": "python",
   "name": "python3"
  },
  "language_info": {
   "codemirror_mode": {
    "name": "ipython",
    "version": 3
   },
   "file_extension": ".py",
   "mimetype": "text/x-python",
   "name": "python",
   "nbconvert_exporter": "python",
   "pygments_lexer": "ipython3",
   "version": "3.10.13"
  }
 },
 "nbformat": 4,
 "nbformat_minor": 5
}
