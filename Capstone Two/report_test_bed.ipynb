{
 "cells": [
  {
   "cell_type": "code",
   "execution_count": 2,
   "id": "78d258db-db70-454d-aa35-1ed00141a5bb",
   "metadata": {
    "tags": []
   },
   "outputs": [],
   "source": [
    "from time import time\n",
    "from tqdm import tqdm\n",
    "from pathlib import Path\n",
    "from joblib import dump,load\n",
    "\n",
    "import pandas as pd\n",
    "import numpy as np\n",
    "np.random.seed(42)\n",
    "from scipy.stats import loguniform, powerlaw, uniform, nbinom, randint, boltzmann, binom, beta\n",
    "import matplotlib.pyplot as plt\n",
    "import seaborn as sns\n",
    "\n",
    "from sklearn.model_selection import train_test_split, cross_validate, GridSearchCV, RandomizedSearchCV\n",
    "from sklearn.base import TransformerMixin\n",
    "from sklearn.pipeline import make_pipeline, Pipeline\n",
    "from sklearn.preprocessing import StandardScaler\n",
    "from sklearn.feature_selection import SelectKBest, f_regression\n",
    "from sklearn.metrics import mean_absolute_error, mean_squared_error, r2_score, mean_absolute_percentage_error\n",
    "\n",
    "from sklearn.linear_model import LinearRegression, Ridge, SGDRegressor\n",
    "from sklearn.kernel_ridge import KernelRidge\n",
    "from sklearn.ensemble import RandomForestRegressor, GradientBoostingRegressor, ExtraTreesRegressor, IsolationForest, VotingRegressor, StackingRegressor\n",
    "from sklearn.neighbors import KNeighborsRegressor\n",
    "from catboost import CatBoost, CatBoostRegressor\n",
    "import lightgbm as lgb\n",
    "import xgboost as xgb"
   ]
  },
  {
   "cell_type": "markdown",
   "id": "fe4ae546-d71f-4e1a-9a97-7d33c50e922a",
   "metadata": {},
   "source": [
    "**Load Data, Model, fit model**"
   ]
  },
  {
   "cell_type": "code",
   "execution_count": 3,
   "id": "4043bb44-fad7-45ad-a2fa-5e89a8e6add0",
   "metadata": {
    "tags": []
   },
   "outputs": [
    {
     "name": "stdout",
     "output_type": "stream",
     "text": [
      "(1216, 12)\n",
      "(305, 12)\n"
     ]
    }
   ],
   "source": [
    "data = pd.read_parquet(Path('data/game_stats.parquet'))\n",
    "X = data.iloc[:,6:-2]\n",
    "y = data['home_margin'] # target for regression\n",
    "\n",
    "# Initial Split, this test set will be hold out for scoring\n",
    "X_train, X_test, y_train, y_test = train_test_split(X, y, test_size=0.2)\n",
    "features = X_train.columns\n",
    "print(X_train.shape)\n",
    "print(X_test.shape)"
   ]
  },
  {
   "cell_type": "code",
   "execution_count": 9,
   "id": "49ad149b-15fa-4173-85bf-2c75090bc456",
   "metadata": {
    "tags": []
   },
   "outputs": [],
   "source": [
    "gbr_pipe = Pipeline([('norm',StandardScaler()),\n",
    "                     ('GradientBoostingRegressor', GradientBoostingRegressor(random_state=42, ))])\n",
    "cat_pipe = Pipeline([('norm', StandardScaler()), \n",
    "                     ('CatBoostRegressor', CatBoostRegressor(random_seed=42, verbose=False))])\n",
    "\n",
    "tuning_grids = {\n",
    "    'GradientBoostingRegressor': {'iterations': 60, 'grid': {\n",
    "        'loss':['huber'],\n",
    "        'learning_rate': loguniform(.04,1,0,1),\n",
    "        'n_estimators': boltzmann(0.01,200,10),\n",
    "    }},\n",
    "    'CatBoostRegressor': {'iterations': 20, 'grid': {\n",
    "        'l2_leaf_reg':uniform(0,4), # def=3\n",
    "        'random_strength':uniform(0,3), # def=1\n",
    "        'learning_rate':beta(2,20,0,1), # def=0.043\n",
    "    }},\n",
    "}"
   ]
  },
  {
   "cell_type": "code",
   "execution_count": 10,
   "id": "b9783d8e-2781-4d47-bc72-c32cc009a12f",
   "metadata": {
    "tags": []
   },
   "outputs": [
    {
     "name": "stderr",
     "output_type": "stream",
     "text": [
      "100%|██████████| 2/2 [02:59<00:00, 89.96s/it]"
     ]
    },
    {
     "name": "stdout",
     "output_type": "stream",
     "text": [
      "CPU times: total: 33.2 s\n",
      "Wall time: 2min 59s\n"
     ]
    },
    {
     "name": "stderr",
     "output_type": "stream",
     "text": [
      "\n"
     ]
    }
   ],
   "source": [
    "%%time\n",
    "\n",
    "# tune GBR, Cat | record test results\n",
    "test_results = pd.DataFrame()\n",
    "top_tuned = []\n",
    "model_params = {}\n",
    "\n",
    "for pipe in tqdm([gbr_pipe, cat_pipe]):\n",
    "    start = time()\n",
    "    ind = pipe[-1].__class__.__name__\n",
    "    \n",
    "    # tune hyperparameters\n",
    "    grid = {f'{ind}__{key}':val \n",
    "            for key,val in tuning_grids[ind]['grid'].items()}\n",
    "    search = RandomizedSearchCV(pipe, grid, n_iter=tuning_grids[ind]['iterations'],\n",
    "                            scoring='r2', refit=True,  random_state=42, cv=10, n_jobs=-1)\n",
    "    cv = search.fit(X_train,y_train)\n",
    "    \n",
    "    # make predictions, record final parameters\n",
    "    tuned = cv.best_estimator_\n",
    "    tuned.fit(X_train,y_train)\n",
    "    y_pred = tuned.predict(X_test)\n",
    "    model_params[ind] = cv.best_params_\n",
    "    top_tuned.append(tuned)\n",
    "\n",
    "    # test results\n",
    "    test_results.loc[ind,'R2'] = r2_score(y_test,y_pred)\n",
    "    test_results.loc[ind,'RMSE'] = np.sqrt(mean_squared_error(y_test,y_pred))\n",
    "    test_results.loc[ind,'MAE'] = mean_absolute_error(y_test,y_pred)\n",
    "    test_results.loc[ind,'MAPE'] = mean_absolute_percentage_error(y_test,y_pred) \n",
    "    test_results.loc[ind,'time'] = round(start-time())"
   ]
  },
  {
   "cell_type": "code",
   "execution_count": 11,
   "id": "92619eeb-f96b-448b-a89e-caf9025a9674",
   "metadata": {
    "tags": []
   },
   "outputs": [
    {
     "data": {
      "text/plain": [
       "[Pipeline(steps=[('norm', StandardScaler()),\n",
       "                 ('GradientBoostingRegressor',\n",
       "                  GradientBoostingRegressor(learning_rate=0.1335502201652365,\n",
       "                                            loss='huber', n_estimators=182,\n",
       "                                            random_state=42))]),\n",
       " Pipeline(steps=[('norm', StandardScaler()),\n",
       "                 ('CatBoostRegressor',\n",
       "                  <catboost.core.CatBoostRegressor object at 0x000001A2FE931C30>)])]"
      ]
     },
     "execution_count": 11,
     "metadata": {},
     "output_type": "execute_result"
    }
   ],
   "source": [
    "top_tuned"
   ]
  },
  {
   "cell_type": "code",
   "execution_count": 15,
   "id": "13549520-a08c-4d19-969a-001e5bc26792",
   "metadata": {
    "tags": []
   },
   "outputs": [
    {
     "name": "stdout",
     "output_type": "stream",
     "text": [
      "CPU times: total: 14.5 s\n",
      "Wall time: 3.14 s\n"
     ]
    }
   ],
   "source": [
    "%%time\n",
    "# start = time()\n",
    "\n",
    "# create blend, pipeline\n",
    "blend = VotingRegressor([\n",
    "    ('gbr',top_tuned[0][-1]), ('catboost',top_tuned[1][-1]),\n",
    "])\n",
    "pipe_blend = Pipeline([('norm', StandardScaler()), ('vr', blend)])\n",
    "\n",
    "# fit to train, predict test\n",
    "ind = 'voting_GBR-Cat'\n",
    "pipe_blend.fit(X_train,y_train)\n",
    "y_pred = pipe_blend.predict(X_test)\n",
    "\n",
    "# test results\n",
    "test_results.loc[ind,'R2'] = r2_score(y_test,y_pred)\n",
    "test_results.loc[ind,'RMSE'] = np.sqrt(mean_squared_error(y_test,y_pred))\n",
    "test_results.loc[ind,'MAE'] = mean_absolute_error(y_test,y_pred)\n",
    "test_results.loc[ind,'MAPE'] = mean_absolute_percentage_error(y_test,y_pred) \n",
    "# test_results.loc[ind,'time'] = round(start-time())"
   ]
  },
  {
   "cell_type": "code",
   "execution_count": 17,
   "id": "847d8039-ae45-48a0-b94a-f5785e7fddd4",
   "metadata": {
    "tags": []
   },
   "outputs": [
    {
     "data": {
      "text/html": [
       "<style type=\"text/css\">\n",
       "#T_78497_row0_col0, #T_78497_row0_col1, #T_78497_row2_col2, #T_78497_row2_col3 {\n",
       "  background-color: #fde725;\n",
       "  color: #000000;\n",
       "}\n",
       "#T_78497_row0_col2 {\n",
       "  background-color: #a2da37;\n",
       "  color: #000000;\n",
       "}\n",
       "#T_78497_row0_col3 {\n",
       "  background-color: #eae51a;\n",
       "  color: #000000;\n",
       "}\n",
       "#T_78497_row1_col0 {\n",
       "  background-color: #26ad81;\n",
       "  color: #f1f1f1;\n",
       "}\n",
       "#T_78497_row1_col1 {\n",
       "  background-color: #25ac82;\n",
       "  color: #f1f1f1;\n",
       "}\n",
       "#T_78497_row1_col2, #T_78497_row1_col3, #T_78497_row2_col0, #T_78497_row2_col1 {\n",
       "  background-color: #440154;\n",
       "  color: #f1f1f1;\n",
       "}\n",
       "</style>\n",
       "<table id=\"T_78497\">\n",
       "  <thead>\n",
       "    <tr>\n",
       "      <th class=\"blank level0\" >&nbsp;</th>\n",
       "      <th id=\"T_78497_level0_col0\" class=\"col_heading level0 col0\" >R2</th>\n",
       "      <th id=\"T_78497_level0_col1\" class=\"col_heading level0 col1\" >RMSE</th>\n",
       "      <th id=\"T_78497_level0_col2\" class=\"col_heading level0 col2\" >MAE</th>\n",
       "      <th id=\"T_78497_level0_col3\" class=\"col_heading level0 col3\" >MAPE</th>\n",
       "    </tr>\n",
       "  </thead>\n",
       "  <tbody>\n",
       "    <tr>\n",
       "      <th id=\"T_78497_level0_row0\" class=\"row_heading level0 row0\" >voting_GBR-Cat</th>\n",
       "      <td id=\"T_78497_row0_col0\" class=\"data row0 col0\" >0.849</td>\n",
       "      <td id=\"T_78497_row0_col1\" class=\"data row0 col1\" >2.789</td>\n",
       "      <td id=\"T_78497_row0_col2\" class=\"data row0 col2\" >1.640</td>\n",
       "      <td id=\"T_78497_row0_col3\" class=\"data row0 col3\" >0.435</td>\n",
       "    </tr>\n",
       "    <tr>\n",
       "      <th id=\"T_78497_level0_row1\" class=\"row_heading level0 row1\" >GradientBoostingRegressor</th>\n",
       "      <td id=\"T_78497_row1_col0\" class=\"data row1 col0\" >0.846</td>\n",
       "      <td id=\"T_78497_row1_col1\" class=\"data row1 col1\" >2.811</td>\n",
       "      <td id=\"T_78497_row1_col2\" class=\"data row1 col2\" >1.721</td>\n",
       "      <td id=\"T_78497_row1_col3\" class=\"data row1 col3\" >0.455</td>\n",
       "    </tr>\n",
       "    <tr>\n",
       "      <th id=\"T_78497_level0_row2\" class=\"row_heading level0 row2\" >CatBoostRegressor</th>\n",
       "      <td id=\"T_78497_row2_col0\" class=\"data row2 col0\" >0.843</td>\n",
       "      <td id=\"T_78497_row2_col1\" class=\"data row2 col1\" >2.845</td>\n",
       "      <td id=\"T_78497_row2_col2\" class=\"data row2 col2\" >1.627</td>\n",
       "      <td id=\"T_78497_row2_col3\" class=\"data row2 col3\" >0.435</td>\n",
       "    </tr>\n",
       "  </tbody>\n",
       "</table>\n"
      ],
      "text/plain": [
       "<pandas.io.formats.style.Styler at 0x1a2fe906ad0>"
      ]
     },
     "execution_count": 17,
     "metadata": {},
     "output_type": "execute_result"
    }
   ],
   "source": [
    "test_results.sort_values('R2', ascending=False).style\\\n",
    "    .background_gradient(subset='R2', cmap='viridis')\\\n",
    "    .background_gradient(subset=['RMSE', 'MAE', 'MAPE'], cmap='viridis_r')\\\n",
    "    .format('{:.3f}')"
   ]
  },
  {
   "cell_type": "code",
   "execution_count": null,
   "id": "29c33b20-10f1-4c3b-878a-678aaa0a5716",
   "metadata": {},
   "outputs": [],
   "source": [
    "# dump\n",
    "dump(pipe_blend, 'final_model_training_v1.3.joblib')"
   ]
  },
  {
   "cell_type": "code",
   "execution_count": 20,
   "id": "95bce010-f875-49bc-aec8-e5c60c7f1d5a",
   "metadata": {
    "tags": []
   },
   "outputs": [
    {
     "data": {
      "text/html": [
       "<style>#sk-container-id-1 {color: black;}#sk-container-id-1 pre{padding: 0;}#sk-container-id-1 div.sk-toggleable {background-color: white;}#sk-container-id-1 label.sk-toggleable__label {cursor: pointer;display: block;width: 100%;margin-bottom: 0;padding: 0.3em;box-sizing: border-box;text-align: center;}#sk-container-id-1 label.sk-toggleable__label-arrow:before {content: \"▸\";float: left;margin-right: 0.25em;color: #696969;}#sk-container-id-1 label.sk-toggleable__label-arrow:hover:before {color: black;}#sk-container-id-1 div.sk-estimator:hover label.sk-toggleable__label-arrow:before {color: black;}#sk-container-id-1 div.sk-toggleable__content {max-height: 0;max-width: 0;overflow: hidden;text-align: left;background-color: #f0f8ff;}#sk-container-id-1 div.sk-toggleable__content pre {margin: 0.2em;color: black;border-radius: 0.25em;background-color: #f0f8ff;}#sk-container-id-1 input.sk-toggleable__control:checked~div.sk-toggleable__content {max-height: 200px;max-width: 100%;overflow: auto;}#sk-container-id-1 input.sk-toggleable__control:checked~label.sk-toggleable__label-arrow:before {content: \"▾\";}#sk-container-id-1 div.sk-estimator input.sk-toggleable__control:checked~label.sk-toggleable__label {background-color: #d4ebff;}#sk-container-id-1 div.sk-label input.sk-toggleable__control:checked~label.sk-toggleable__label {background-color: #d4ebff;}#sk-container-id-1 input.sk-hidden--visually {border: 0;clip: rect(1px 1px 1px 1px);clip: rect(1px, 1px, 1px, 1px);height: 1px;margin: -1px;overflow: hidden;padding: 0;position: absolute;width: 1px;}#sk-container-id-1 div.sk-estimator {font-family: monospace;background-color: #f0f8ff;border: 1px dotted black;border-radius: 0.25em;box-sizing: border-box;margin-bottom: 0.5em;}#sk-container-id-1 div.sk-estimator:hover {background-color: #d4ebff;}#sk-container-id-1 div.sk-parallel-item::after {content: \"\";width: 100%;border-bottom: 1px solid gray;flex-grow: 1;}#sk-container-id-1 div.sk-label:hover label.sk-toggleable__label {background-color: #d4ebff;}#sk-container-id-1 div.sk-serial::before {content: \"\";position: absolute;border-left: 1px solid gray;box-sizing: border-box;top: 0;bottom: 0;left: 50%;z-index: 0;}#sk-container-id-1 div.sk-serial {display: flex;flex-direction: column;align-items: center;background-color: white;padding-right: 0.2em;padding-left: 0.2em;position: relative;}#sk-container-id-1 div.sk-item {position: relative;z-index: 1;}#sk-container-id-1 div.sk-parallel {display: flex;align-items: stretch;justify-content: center;background-color: white;position: relative;}#sk-container-id-1 div.sk-item::before, #sk-container-id-1 div.sk-parallel-item::before {content: \"\";position: absolute;border-left: 1px solid gray;box-sizing: border-box;top: 0;bottom: 0;left: 50%;z-index: -1;}#sk-container-id-1 div.sk-parallel-item {display: flex;flex-direction: column;z-index: 1;position: relative;background-color: white;}#sk-container-id-1 div.sk-parallel-item:first-child::after {align-self: flex-end;width: 50%;}#sk-container-id-1 div.sk-parallel-item:last-child::after {align-self: flex-start;width: 50%;}#sk-container-id-1 div.sk-parallel-item:only-child::after {width: 0;}#sk-container-id-1 div.sk-dashed-wrapped {border: 1px dashed gray;margin: 0 0.4em 0.5em 0.4em;box-sizing: border-box;padding-bottom: 0.4em;background-color: white;}#sk-container-id-1 div.sk-label label {font-family: monospace;font-weight: bold;display: inline-block;line-height: 1.2em;}#sk-container-id-1 div.sk-label-container {text-align: center;}#sk-container-id-1 div.sk-container {/* jupyter's `normalize.less` sets `[hidden] { display: none; }` but bootstrap.min.css set `[hidden] { display: none !important; }` so we also need the `!important` here to be able to override the default hidden behavior on the sphinx rendered scikit-learn.org. See: https://github.com/scikit-learn/scikit-learn/issues/21755 */display: inline-block !important;position: relative;}#sk-container-id-1 div.sk-text-repr-fallback {display: none;}</style><div id=\"sk-container-id-1\" class=\"sk-top-container\"><div class=\"sk-text-repr-fallback\"><pre>Pipeline(steps=[(&#x27;norm&#x27;, StandardScaler()),\n",
       "                (&#x27;vr&#x27;,\n",
       "                 VotingRegressor(estimators=[(&#x27;gbr&#x27;,\n",
       "                                              GradientBoostingRegressor(learning_rate=0.1335502201652365,\n",
       "                                                                        loss=&#x27;huber&#x27;,\n",
       "                                                                        n_estimators=182,\n",
       "                                                                        random_state=42)),\n",
       "                                             (&#x27;catboost&#x27;,\n",
       "                                              &lt;catboost.core.CatBoostRegressor object at 0x000001A2FE931C30&gt;)]))])</pre><b>In a Jupyter environment, please rerun this cell to show the HTML representation or trust the notebook. <br />On GitHub, the HTML representation is unable to render, please try loading this page with nbviewer.org.</b></div><div class=\"sk-container\" hidden><div class=\"sk-item sk-dashed-wrapped\"><div class=\"sk-label-container\"><div class=\"sk-label sk-toggleable\"><input class=\"sk-toggleable__control sk-hidden--visually\" id=\"sk-estimator-id-1\" type=\"checkbox\" ><label for=\"sk-estimator-id-1\" class=\"sk-toggleable__label sk-toggleable__label-arrow\">Pipeline</label><div class=\"sk-toggleable__content\"><pre>Pipeline(steps=[(&#x27;norm&#x27;, StandardScaler()),\n",
       "                (&#x27;vr&#x27;,\n",
       "                 VotingRegressor(estimators=[(&#x27;gbr&#x27;,\n",
       "                                              GradientBoostingRegressor(learning_rate=0.1335502201652365,\n",
       "                                                                        loss=&#x27;huber&#x27;,\n",
       "                                                                        n_estimators=182,\n",
       "                                                                        random_state=42)),\n",
       "                                             (&#x27;catboost&#x27;,\n",
       "                                              &lt;catboost.core.CatBoostRegressor object at 0x000001A2FE931C30&gt;)]))])</pre></div></div></div><div class=\"sk-serial\"><div class=\"sk-item\"><div class=\"sk-estimator sk-toggleable\"><input class=\"sk-toggleable__control sk-hidden--visually\" id=\"sk-estimator-id-2\" type=\"checkbox\" ><label for=\"sk-estimator-id-2\" class=\"sk-toggleable__label sk-toggleable__label-arrow\">StandardScaler</label><div class=\"sk-toggleable__content\"><pre>StandardScaler()</pre></div></div></div><div class=\"sk-item sk-dashed-wrapped\"><div class=\"sk-label-container\"><div class=\"sk-label sk-toggleable\"><input class=\"sk-toggleable__control sk-hidden--visually\" id=\"sk-estimator-id-3\" type=\"checkbox\" ><label for=\"sk-estimator-id-3\" class=\"sk-toggleable__label sk-toggleable__label-arrow\">vr: VotingRegressor</label><div class=\"sk-toggleable__content\"><pre>VotingRegressor(estimators=[(&#x27;gbr&#x27;,\n",
       "                             GradientBoostingRegressor(learning_rate=0.1335502201652365,\n",
       "                                                       loss=&#x27;huber&#x27;,\n",
       "                                                       n_estimators=182,\n",
       "                                                       random_state=42)),\n",
       "                            (&#x27;catboost&#x27;,\n",
       "                             &lt;catboost.core.CatBoostRegressor object at 0x000001A2FE931C30&gt;)])</pre></div></div></div><div class=\"sk-parallel\"><div class=\"sk-parallel-item\"><div class=\"sk-item\"><div class=\"sk-label-container\"><div class=\"sk-label sk-toggleable\"><label>gbr</label></div></div><div class=\"sk-serial\"><div class=\"sk-item\"><div class=\"sk-estimator sk-toggleable\"><input class=\"sk-toggleable__control sk-hidden--visually\" id=\"sk-estimator-id-4\" type=\"checkbox\" ><label for=\"sk-estimator-id-4\" class=\"sk-toggleable__label sk-toggleable__label-arrow\">GradientBoostingRegressor</label><div class=\"sk-toggleable__content\"><pre>GradientBoostingRegressor(learning_rate=0.1335502201652365, loss=&#x27;huber&#x27;,\n",
       "                          n_estimators=182, random_state=42)</pre></div></div></div></div></div></div><div class=\"sk-parallel-item\"><div class=\"sk-item\"><div class=\"sk-label-container\"><div class=\"sk-label sk-toggleable\"><label>catboost</label></div></div><div class=\"sk-serial\"><div class=\"sk-item\"><div class=\"sk-estimator sk-toggleable\"><input class=\"sk-toggleable__control sk-hidden--visually\" id=\"sk-estimator-id-5\" type=\"checkbox\" ><label for=\"sk-estimator-id-5\" class=\"sk-toggleable__label sk-toggleable__label-arrow\">CatBoostRegressor</label><div class=\"sk-toggleable__content\"><pre>&lt;catboost.core.CatBoostRegressor object at 0x000001A2FE931C30&gt;</pre></div></div></div></div></div></div></div></div></div></div></div></div>"
      ],
      "text/plain": [
       "Pipeline(steps=[('norm', StandardScaler()),\n",
       "                ('vr',\n",
       "                 VotingRegressor(estimators=[('gbr',\n",
       "                                              GradientBoostingRegressor(learning_rate=0.1335502201652365,\n",
       "                                                                        loss='huber',\n",
       "                                                                        n_estimators=182,\n",
       "                                                                        random_state=42)),\n",
       "                                             ('catboost',\n",
       "                                              <catboost.core.CatBoostRegressor object at 0x000001A2FE931C30>)]))])"
      ]
     },
     "execution_count": 20,
     "metadata": {},
     "output_type": "execute_result"
    }
   ],
   "source": [
    "# fit to entire dataset\n",
    "pipe_blend.fit(X,y)"
   ]
  },
  {
   "cell_type": "code",
   "execution_count": 38,
   "id": "20a00921-77bd-4515-858d-d16cc309c4d2",
   "metadata": {
    "tags": []
   },
   "outputs": [
    {
     "data": {
      "text/html": [
       "<style>#sk-container-id-2 {color: black;}#sk-container-id-2 pre{padding: 0;}#sk-container-id-2 div.sk-toggleable {background-color: white;}#sk-container-id-2 label.sk-toggleable__label {cursor: pointer;display: block;width: 100%;margin-bottom: 0;padding: 0.3em;box-sizing: border-box;text-align: center;}#sk-container-id-2 label.sk-toggleable__label-arrow:before {content: \"▸\";float: left;margin-right: 0.25em;color: #696969;}#sk-container-id-2 label.sk-toggleable__label-arrow:hover:before {color: black;}#sk-container-id-2 div.sk-estimator:hover label.sk-toggleable__label-arrow:before {color: black;}#sk-container-id-2 div.sk-toggleable__content {max-height: 0;max-width: 0;overflow: hidden;text-align: left;background-color: #f0f8ff;}#sk-container-id-2 div.sk-toggleable__content pre {margin: 0.2em;color: black;border-radius: 0.25em;background-color: #f0f8ff;}#sk-container-id-2 input.sk-toggleable__control:checked~div.sk-toggleable__content {max-height: 200px;max-width: 100%;overflow: auto;}#sk-container-id-2 input.sk-toggleable__control:checked~label.sk-toggleable__label-arrow:before {content: \"▾\";}#sk-container-id-2 div.sk-estimator input.sk-toggleable__control:checked~label.sk-toggleable__label {background-color: #d4ebff;}#sk-container-id-2 div.sk-label input.sk-toggleable__control:checked~label.sk-toggleable__label {background-color: #d4ebff;}#sk-container-id-2 input.sk-hidden--visually {border: 0;clip: rect(1px 1px 1px 1px);clip: rect(1px, 1px, 1px, 1px);height: 1px;margin: -1px;overflow: hidden;padding: 0;position: absolute;width: 1px;}#sk-container-id-2 div.sk-estimator {font-family: monospace;background-color: #f0f8ff;border: 1px dotted black;border-radius: 0.25em;box-sizing: border-box;margin-bottom: 0.5em;}#sk-container-id-2 div.sk-estimator:hover {background-color: #d4ebff;}#sk-container-id-2 div.sk-parallel-item::after {content: \"\";width: 100%;border-bottom: 1px solid gray;flex-grow: 1;}#sk-container-id-2 div.sk-label:hover label.sk-toggleable__label {background-color: #d4ebff;}#sk-container-id-2 div.sk-serial::before {content: \"\";position: absolute;border-left: 1px solid gray;box-sizing: border-box;top: 0;bottom: 0;left: 50%;z-index: 0;}#sk-container-id-2 div.sk-serial {display: flex;flex-direction: column;align-items: center;background-color: white;padding-right: 0.2em;padding-left: 0.2em;position: relative;}#sk-container-id-2 div.sk-item {position: relative;z-index: 1;}#sk-container-id-2 div.sk-parallel {display: flex;align-items: stretch;justify-content: center;background-color: white;position: relative;}#sk-container-id-2 div.sk-item::before, #sk-container-id-2 div.sk-parallel-item::before {content: \"\";position: absolute;border-left: 1px solid gray;box-sizing: border-box;top: 0;bottom: 0;left: 50%;z-index: -1;}#sk-container-id-2 div.sk-parallel-item {display: flex;flex-direction: column;z-index: 1;position: relative;background-color: white;}#sk-container-id-2 div.sk-parallel-item:first-child::after {align-self: flex-end;width: 50%;}#sk-container-id-2 div.sk-parallel-item:last-child::after {align-self: flex-start;width: 50%;}#sk-container-id-2 div.sk-parallel-item:only-child::after {width: 0;}#sk-container-id-2 div.sk-dashed-wrapped {border: 1px dashed gray;margin: 0 0.4em 0.5em 0.4em;box-sizing: border-box;padding-bottom: 0.4em;background-color: white;}#sk-container-id-2 div.sk-label label {font-family: monospace;font-weight: bold;display: inline-block;line-height: 1.2em;}#sk-container-id-2 div.sk-label-container {text-align: center;}#sk-container-id-2 div.sk-container {/* jupyter's `normalize.less` sets `[hidden] { display: none; }` but bootstrap.min.css set `[hidden] { display: none !important; }` so we also need the `!important` here to be able to override the default hidden behavior on the sphinx rendered scikit-learn.org. See: https://github.com/scikit-learn/scikit-learn/issues/21755 */display: inline-block !important;position: relative;}#sk-container-id-2 div.sk-text-repr-fallback {display: none;}</style><div id=\"sk-container-id-2\" class=\"sk-top-container\"><div class=\"sk-text-repr-fallback\"><pre>Pipeline(steps=[(&#x27;norm&#x27;, StandardScaler()),\n",
       "                (&#x27;vr&#x27;,\n",
       "                 VotingRegressor(estimators=[(&#x27;gbr&#x27;,\n",
       "                                              GradientBoostingRegressor(learning_rate=0.1335502201652365,\n",
       "                                                                        loss=&#x27;huber&#x27;,\n",
       "                                                                        n_estimators=182,\n",
       "                                                                        random_state=42)),\n",
       "                                             (&#x27;catboost&#x27;,\n",
       "                                              &lt;catboost.core.CatBoostRegressor object at 0x000001A2FE931C30&gt;)]))])</pre><b>In a Jupyter environment, please rerun this cell to show the HTML representation or trust the notebook. <br />On GitHub, the HTML representation is unable to render, please try loading this page with nbviewer.org.</b></div><div class=\"sk-container\" hidden><div class=\"sk-item sk-dashed-wrapped\"><div class=\"sk-label-container\"><div class=\"sk-label sk-toggleable\"><input class=\"sk-toggleable__control sk-hidden--visually\" id=\"sk-estimator-id-6\" type=\"checkbox\" ><label for=\"sk-estimator-id-6\" class=\"sk-toggleable__label sk-toggleable__label-arrow\">Pipeline</label><div class=\"sk-toggleable__content\"><pre>Pipeline(steps=[(&#x27;norm&#x27;, StandardScaler()),\n",
       "                (&#x27;vr&#x27;,\n",
       "                 VotingRegressor(estimators=[(&#x27;gbr&#x27;,\n",
       "                                              GradientBoostingRegressor(learning_rate=0.1335502201652365,\n",
       "                                                                        loss=&#x27;huber&#x27;,\n",
       "                                                                        n_estimators=182,\n",
       "                                                                        random_state=42)),\n",
       "                                             (&#x27;catboost&#x27;,\n",
       "                                              &lt;catboost.core.CatBoostRegressor object at 0x000001A2FE931C30&gt;)]))])</pre></div></div></div><div class=\"sk-serial\"><div class=\"sk-item\"><div class=\"sk-estimator sk-toggleable\"><input class=\"sk-toggleable__control sk-hidden--visually\" id=\"sk-estimator-id-7\" type=\"checkbox\" ><label for=\"sk-estimator-id-7\" class=\"sk-toggleable__label sk-toggleable__label-arrow\">StandardScaler</label><div class=\"sk-toggleable__content\"><pre>StandardScaler()</pre></div></div></div><div class=\"sk-item sk-dashed-wrapped\"><div class=\"sk-label-container\"><div class=\"sk-label sk-toggleable\"><input class=\"sk-toggleable__control sk-hidden--visually\" id=\"sk-estimator-id-8\" type=\"checkbox\" ><label for=\"sk-estimator-id-8\" class=\"sk-toggleable__label sk-toggleable__label-arrow\">vr: VotingRegressor</label><div class=\"sk-toggleable__content\"><pre>VotingRegressor(estimators=[(&#x27;gbr&#x27;,\n",
       "                             GradientBoostingRegressor(learning_rate=0.1335502201652365,\n",
       "                                                       loss=&#x27;huber&#x27;,\n",
       "                                                       n_estimators=182,\n",
       "                                                       random_state=42)),\n",
       "                            (&#x27;catboost&#x27;,\n",
       "                             &lt;catboost.core.CatBoostRegressor object at 0x000001A2FE931C30&gt;)])</pre></div></div></div><div class=\"sk-parallel\"><div class=\"sk-parallel-item\"><div class=\"sk-item\"><div class=\"sk-label-container\"><div class=\"sk-label sk-toggleable\"><label>gbr</label></div></div><div class=\"sk-serial\"><div class=\"sk-item\"><div class=\"sk-estimator sk-toggleable\"><input class=\"sk-toggleable__control sk-hidden--visually\" id=\"sk-estimator-id-9\" type=\"checkbox\" ><label for=\"sk-estimator-id-9\" class=\"sk-toggleable__label sk-toggleable__label-arrow\">GradientBoostingRegressor</label><div class=\"sk-toggleable__content\"><pre>GradientBoostingRegressor(learning_rate=0.1335502201652365, loss=&#x27;huber&#x27;,\n",
       "                          n_estimators=182, random_state=42)</pre></div></div></div></div></div></div><div class=\"sk-parallel-item\"><div class=\"sk-item\"><div class=\"sk-label-container\"><div class=\"sk-label sk-toggleable\"><label>catboost</label></div></div><div class=\"sk-serial\"><div class=\"sk-item\"><div class=\"sk-estimator sk-toggleable\"><input class=\"sk-toggleable__control sk-hidden--visually\" id=\"sk-estimator-id-10\" type=\"checkbox\" ><label for=\"sk-estimator-id-10\" class=\"sk-toggleable__label sk-toggleable__label-arrow\">CatBoostRegressor</label><div class=\"sk-toggleable__content\"><pre>&lt;catboost.core.CatBoostRegressor object at 0x000001A2FE931C30&gt;</pre></div></div></div></div></div></div></div></div></div></div></div></div>"
      ],
      "text/plain": [
       "Pipeline(steps=[('norm', StandardScaler()),\n",
       "                ('vr',\n",
       "                 VotingRegressor(estimators=[('gbr',\n",
       "                                              GradientBoostingRegressor(learning_rate=0.1335502201652365,\n",
       "                                                                        loss='huber',\n",
       "                                                                        n_estimators=182,\n",
       "                                                                        random_state=42)),\n",
       "                                             ('catboost',\n",
       "                                              <catboost.core.CatBoostRegressor object at 0x000001A2FE931C30>)]))])"
      ]
     },
     "execution_count": 38,
     "metadata": {},
     "output_type": "execute_result"
    }
   ],
   "source": [
    "pipe_blend"
   ]
  },
  {
   "cell_type": "code",
   "execution_count": 21,
   "id": "3ed03f6b-8454-458d-872c-4ad56921fbae",
   "metadata": {
    "tags": []
   },
   "outputs": [
    {
     "data": {
      "text/plain": [
       "['final_model_all_v1.3.joblib']"
      ]
     },
     "execution_count": 21,
     "metadata": {},
     "output_type": "execute_result"
    }
   ],
   "source": [
    "# dump\n",
    "dump(pipe_blend, 'final_model_all_v1.3.joblib')"
   ]
  },
  {
   "cell_type": "markdown",
   "id": "68d9ac72-5a90-4485-a0b4-da1391a3d10e",
   "metadata": {},
   "source": [
    "---\n",
    "**Reload Voting Regressor (sklearn v1.3)**"
   ]
  },
  {
   "cell_type": "code",
   "execution_count": 36,
   "id": "27b46b53-389f-4011-ab6a-93128236011b",
   "metadata": {
    "tags": []
   },
   "outputs": [],
   "source": [
    "# load from file or create above\n",
    "final_model = load('final_model_all_v1.3.joblib')"
   ]
  },
  {
   "cell_type": "markdown",
   "id": "042ae915-18d7-4a3b-9c5f-c544b6136355",
   "metadata": {},
   "source": [
    "---\n",
    "**Example for Slides**"
   ]
  },
  {
   "cell_type": "code",
   "execution_count": 5,
   "id": "0a960e8b-be0b-40e2-a4f8-1ecfbd90168f",
   "metadata": {
    "tags": []
   },
   "outputs": [],
   "source": [
    "gid = '2023-05-19-LA-SLC'"
   ]
  },
  {
   "cell_type": "code",
   "execution_count": 8,
   "id": "ee7f3d86-6fad-4929-95ec-9781f038f88d",
   "metadata": {
    "tags": []
   },
   "outputs": [
    {
     "data": {
      "text/html": [
       "<div>\n",
       "<style scoped>\n",
       "    .dataframe tbody tr th:only-of-type {\n",
       "        vertical-align: middle;\n",
       "    }\n",
       "\n",
       "    .dataframe tbody tr th {\n",
       "        vertical-align: top;\n",
       "    }\n",
       "\n",
       "    .dataframe thead th {\n",
       "        text-align: right;\n",
       "    }\n",
       "</style>\n",
       "<table border=\"1\" class=\"dataframe\">\n",
       "  <thead>\n",
       "    <tr style=\"text-align: right;\">\n",
       "      <th></th>\n",
       "      <th>3101</th>\n",
       "    </tr>\n",
       "  </thead>\n",
       "  <tbody>\n",
       "    <tr>\n",
       "      <th>game</th>\n",
       "      <td>2023-05-19-LA-SLC</td>\n",
       "    </tr>\n",
       "    <tr>\n",
       "      <th>date</th>\n",
       "      <td>2023-05-19 19:00:00+00:00</td>\n",
       "    </tr>\n",
       "    <tr>\n",
       "      <th>home</th>\n",
       "      <td>Shred</td>\n",
       "    </tr>\n",
       "    <tr>\n",
       "      <th>away</th>\n",
       "      <td>Aviators</td>\n",
       "    </tr>\n",
       "    <tr>\n",
       "      <th>home_score</th>\n",
       "      <td>25</td>\n",
       "    </tr>\n",
       "    <tr>\n",
       "      <th>away_score</th>\n",
       "      <td>13</td>\n",
       "    </tr>\n",
       "    <tr>\n",
       "      <th>home_completions</th>\n",
       "      <td>233</td>\n",
       "    </tr>\n",
       "    <tr>\n",
       "      <th>away_completions</th>\n",
       "      <td>268</td>\n",
       "    </tr>\n",
       "    <tr>\n",
       "      <th>home_throws</th>\n",
       "      <td>244</td>\n",
       "    </tr>\n",
       "    <tr>\n",
       "      <th>away_throws</th>\n",
       "      <td>292</td>\n",
       "    </tr>\n",
       "    <tr>\n",
       "      <th>home_blocks</th>\n",
       "      <td>11</td>\n",
       "    </tr>\n",
       "    <tr>\n",
       "      <th>away_blocks</th>\n",
       "      <td>3</td>\n",
       "    </tr>\n",
       "    <tr>\n",
       "      <th>home_turnovers</th>\n",
       "      <td>11</td>\n",
       "    </tr>\n",
       "    <tr>\n",
       "      <th>away_turnovers</th>\n",
       "      <td>24</td>\n",
       "    </tr>\n",
       "    <tr>\n",
       "      <th>home_completion_rate</th>\n",
       "      <td>0.954918</td>\n",
       "    </tr>\n",
       "    <tr>\n",
       "      <th>away_completion_rate</th>\n",
       "      <td>0.917808</td>\n",
       "    </tr>\n",
       "    <tr>\n",
       "      <th>comp_rate_diff</th>\n",
       "      <td>0.03711</td>\n",
       "    </tr>\n",
       "    <tr>\n",
       "      <th>block_turnover_diff</th>\n",
       "      <td>21</td>\n",
       "    </tr>\n",
       "    <tr>\n",
       "      <th>home_win</th>\n",
       "      <td>True</td>\n",
       "    </tr>\n",
       "    <tr>\n",
       "      <th>home_margin</th>\n",
       "      <td>12</td>\n",
       "    </tr>\n",
       "  </tbody>\n",
       "</table>\n",
       "</div>"
      ],
      "text/plain": [
       "                                           3101\n",
       "game                          2023-05-19-LA-SLC\n",
       "date                  2023-05-19 19:00:00+00:00\n",
       "home                                      Shred\n",
       "away                                   Aviators\n",
       "home_score                                   25\n",
       "away_score                                   13\n",
       "home_completions                            233\n",
       "away_completions                            268\n",
       "home_throws                                 244\n",
       "away_throws                                 292\n",
       "home_blocks                                  11\n",
       "away_blocks                                   3\n",
       "home_turnovers                               11\n",
       "away_turnovers                               24\n",
       "home_completion_rate                   0.954918\n",
       "away_completion_rate                   0.917808\n",
       "comp_rate_diff                          0.03711\n",
       "block_turnover_diff                          21\n",
       "home_win                                   True\n",
       "home_margin                                  12"
      ]
     },
     "execution_count": 8,
     "metadata": {},
     "output_type": "execute_result"
    }
   ],
   "source": [
    "data[data.game==gid].T"
   ]
  },
  {
   "cell_type": "code",
   "execution_count": 46,
   "id": "c44f4aa3-dbf8-4760-baee-5d12c72d2d55",
   "metadata": {
    "tags": []
   },
   "outputs": [
    {
     "name": "stdout",
     "output_type": "stream",
     "text": [
      "model predicted home margin\n",
      " 12\n"
     ]
    }
   ],
   "source": [
    "gid = '2023-05-19-LA-SLC'\n",
    "print('model predicted home margin\\n',\n",
    "round(final_model.predict(data[\\\n",
    "data.game==gid].iloc[:,6:-2])[0]))"
   ]
  },
  {
   "cell_type": "code",
   "execution_count": null,
   "id": "97cdd8af-5074-425d-9f0b-8615caffdfde",
   "metadata": {},
   "outputs": [],
   "source": []
  }
 ],
 "metadata": {
  "kernelspec": {
   "display_name": "Python 3 (ipykernel)",
   "language": "python",
   "name": "python3"
  },
  "language_info": {
   "codemirror_mode": {
    "name": "ipython",
    "version": 3
   },
   "file_extension": ".py",
   "mimetype": "text/x-python",
   "name": "python",
   "nbconvert_exporter": "python",
   "pygments_lexer": "ipython3",
   "version": "3.10.13"
  }
 },
 "nbformat": 4,
 "nbformat_minor": 5
}
