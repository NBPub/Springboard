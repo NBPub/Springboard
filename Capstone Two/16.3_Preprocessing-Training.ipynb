{
 "cells": [
  {
   "cell_type": "markdown",
   "id": "47204cdc-0ec4-4cdb-b4c1-9bd3251fbf3e",
   "metadata": {},
   "source": [
    "**To Do**\n",
    "<font color=\"red\"><ul>\n",
    "    <li>let bulk of feature selection exploration happen in EDA notebook</li>\n",
    "    <li>here, do final feature selection, then train/test split, then scaling</li>\n",
    "    <li>keep full features for a comparison model</li>\n",
    "    <li>basic hyperparameter tuning here, more extensive in next notebook</li>\n",
    "</ul></font>"
   ]
  },
  {
   "cell_type": "markdown",
   "id": "aef35c5b-dd52-4f13-8255-8594a299d839",
   "metadata": {},
   "source": [
    "**New To Do**\n",
    "<font color=\"red\"><ul>\n",
    "    <li>need to create dummy variable, could use 0,1 playoff/allstar games then remove</li>\n",
    "    <li>model selection goes in next notebook, just do feature limitation with regression models here</li>\n",
    "    <li></li>\n",
    "</ul></font>"
   ]
  },
  {
   "cell_type": "code",
   "execution_count": 41,
   "id": "3cb247bb-5798-40a4-84ab-43985f36a0d7",
   "metadata": {
    "tags": []
   },
   "outputs": [],
   "source": [
    "\n",
    "import pandas as pd\n",
    "import numpy as np\n",
    "\n",
    "import seaborn as sns\n",
    "import matplotlib.pyplot as plt\n",
    "from pathlib import Path\n",
    "\n",
    "from sklearn.decomposition import PCA\n",
    "from sklearn.preprocessing import StandardScaler\n",
    "from sklearn.model_selection import train_test_split, cross_validate, GridSearchCV, RandomizedSearchCV\n",
    "from sklearn.feature_selection import SelectKBest, f_regression,  mutual_info_regression# other ways to automatically feature select?\n",
    "from sklearn.linear_model import LinearRegression, Ridge,  Lasso, SGDRegressor # Logistic Regression\n",
    "from sklearn.kernel_ridge import KernelRidge\n",
    "from sklearn.ensemble import RandomForestRegressor, GradientBoostingRegressor, ExtraTreesRegressor\n",
    "import xgboost as xgb\n",
    "\n",
    "from sklearn.pipeline import make_pipeline"
   ]
  },
  {
   "cell_type": "code",
   "execution_count": 42,
   "id": "61276a67-e414-4f76-8e92-1c9e336c15da",
   "metadata": {
    "tags": []
   },
   "outputs": [],
   "source": [
    "# read dataset prepared for models\n",
    "# note that index has not been modified, \n",
    "# and can be used to add descriptive information \n",
    "# removed from previous cleaning steps\n",
    "data = pd.read_parquet('data/game_stats_0.parquet', engine='pyarrow')"
   ]
  },
  {
   "cell_type": "code",
   "execution_count": 43,
   "id": "3bcb9a21-82e0-41a0-b9d1-6af9e01e1909",
   "metadata": {
    "tags": []
   },
   "outputs": [
    {
     "data": {
      "text/plain": [
       "(1428, 45)"
      ]
     },
     "execution_count": 43,
     "metadata": {},
     "output_type": "execute_result"
    }
   ],
   "source": [
    "data.shape"
   ]
  },
  {
   "cell_type": "code",
   "execution_count": 3,
   "id": "eeea6cd9-bc1f-470d-97c7-b76f12869c9c",
   "metadata": {
    "tags": []
   },
   "outputs": [],
   "source": [
    "# let y be \"home_win\" for classification problems\n",
    "X = data.drop(\n",
    "        columns = ['game','date','week','home','away','home_score','away_score', 'home_margin','home_win']\n",
    ")\n",
    "y = data['home_margin']\n"
   ]
  },
  {
   "cell_type": "code",
   "execution_count": null,
   "id": "1d8d0df3-2ea6-448e-bb4c-7658deffe5db",
   "metadata": {},
   "outputs": [],
   "source": []
  },
  {
   "cell_type": "code",
   "execution_count": 4,
   "id": "c6fc659c-f940-44aa-83d6-dfaf43c3b00b",
   "metadata": {
    "tags": []
   },
   "outputs": [
    {
     "name": "stdout",
     "output_type": "stream",
     "text": [
      "(999, 36)\n",
      "(429, 36)\n"
     ]
    }
   ],
   "source": [
    "# train/test split, \n",
    "# test_size=0.2/0.3, default is 0.25. will ultimately determine ideal folds for cross-validation\n",
    "X_train, X_test, y_train, y_test = train_test_split(X, y, test_size=0.3)\n",
    "features = X_train.columns\n",
    "print(X_train.shape)\n",
    "print(X_test.shape)"
   ]
  },
  {
   "cell_type": "code",
   "execution_count": 8,
   "id": "e9982cdc-fadc-459e-81f5-1944c89d1358",
   "metadata": {
    "tags": []
   },
   "outputs": [
    {
     "data": {
      "text/html": [
       "<div>\n",
       "<style scoped>\n",
       "    .dataframe tbody tr th:only-of-type {\n",
       "        vertical-align: middle;\n",
       "    }\n",
       "\n",
       "    .dataframe tbody tr th {\n",
       "        vertical-align: top;\n",
       "    }\n",
       "\n",
       "    .dataframe thead th {\n",
       "        text-align: right;\n",
       "    }\n",
       "</style>\n",
       "<table border=\"1\" class=\"dataframe\">\n",
       "  <thead>\n",
       "    <tr style=\"text-align: right;\">\n",
       "      <th></th>\n",
       "      <th>away_completions</th>\n",
       "      <th>away_throws</th>\n",
       "      <th>away_blocks</th>\n",
       "      <th>away_turnovers</th>\n",
       "      <th>away_o_scores</th>\n",
       "      <th>away_o_points</th>\n",
       "      <th>away_o_possessions</th>\n",
       "      <th>away_d_scores</th>\n",
       "      <th>away_d_points</th>\n",
       "      <th>away_d_possessions</th>\n",
       "      <th>...</th>\n",
       "      <th>home_hold_rate</th>\n",
       "      <th>away_hold_rate</th>\n",
       "      <th>home_o_poss_per_hold</th>\n",
       "      <th>away_o_poss_per_hold</th>\n",
       "      <th>home_break_rate</th>\n",
       "      <th>away_break_rate</th>\n",
       "      <th>home_d_poss_per_pt</th>\n",
       "      <th>away_d_poss_per_pt</th>\n",
       "      <th>home_break_per_poss</th>\n",
       "      <th>away_break_per_poss</th>\n",
       "    </tr>\n",
       "  </thead>\n",
       "  <tbody>\n",
       "    <tr>\n",
       "      <th>1413</th>\n",
       "      <td>21</td>\n",
       "      <td>44</td>\n",
       "      <td>6</td>\n",
       "      <td>23</td>\n",
       "      <td>17</td>\n",
       "      <td>34</td>\n",
       "      <td>40</td>\n",
       "      <td>3</td>\n",
       "      <td>22</td>\n",
       "      <td>6</td>\n",
       "      <td>...</td>\n",
       "      <td>0.863636</td>\n",
       "      <td>0.500000</td>\n",
       "      <td>1.368421</td>\n",
       "      <td>2.352941</td>\n",
       "      <td>0.382353</td>\n",
       "      <td>0.136364</td>\n",
       "      <td>0.676471</td>\n",
       "      <td>0.272727</td>\n",
       "      <td>0.565217</td>\n",
       "      <td>0.500000</td>\n",
       "    </tr>\n",
       "    <tr>\n",
       "      <th>2847</th>\n",
       "      <td>259</td>\n",
       "      <td>278</td>\n",
       "      <td>9</td>\n",
       "      <td>19</td>\n",
       "      <td>16</td>\n",
       "      <td>26</td>\n",
       "      <td>29</td>\n",
       "      <td>5</td>\n",
       "      <td>23</td>\n",
       "      <td>12</td>\n",
       "      <td>...</td>\n",
       "      <td>0.739130</td>\n",
       "      <td>0.615385</td>\n",
       "      <td>1.705882</td>\n",
       "      <td>1.812500</td>\n",
       "      <td>0.269231</td>\n",
       "      <td>0.217391</td>\n",
       "      <td>0.423077</td>\n",
       "      <td>0.521739</td>\n",
       "      <td>0.636364</td>\n",
       "      <td>0.416667</td>\n",
       "    </tr>\n",
       "    <tr>\n",
       "      <th>1580</th>\n",
       "      <td>240</td>\n",
       "      <td>252</td>\n",
       "      <td>6</td>\n",
       "      <td>12</td>\n",
       "      <td>21</td>\n",
       "      <td>26</td>\n",
       "      <td>33</td>\n",
       "      <td>13</td>\n",
       "      <td>36</td>\n",
       "      <td>16</td>\n",
       "      <td>...</td>\n",
       "      <td>0.611111</td>\n",
       "      <td>0.807692</td>\n",
       "      <td>1.863636</td>\n",
       "      <td>1.571429</td>\n",
       "      <td>0.076923</td>\n",
       "      <td>0.361111</td>\n",
       "      <td>0.346154</td>\n",
       "      <td>0.444444</td>\n",
       "      <td>0.222222</td>\n",
       "      <td>0.812500</td>\n",
       "    </tr>\n",
       "  </tbody>\n",
       "</table>\n",
       "<p>3 rows × 36 columns</p>\n",
       "</div>"
      ],
      "text/plain": [
       "      away_completions  away_throws  away_blocks  away_turnovers  \\\n",
       "1413                21           44            6              23   \n",
       "2847               259          278            9              19   \n",
       "1580               240          252            6              12   \n",
       "\n",
       "      away_o_scores  away_o_points  away_o_possessions  away_d_scores  \\\n",
       "1413             17             34                  40              3   \n",
       "2847             16             26                  29              5   \n",
       "1580             21             26                  33             13   \n",
       "\n",
       "      away_d_points  away_d_possessions  ...  home_hold_rate  away_hold_rate  \\\n",
       "1413             22                   6  ...        0.863636        0.500000   \n",
       "2847             23                  12  ...        0.739130        0.615385   \n",
       "1580             36                  16  ...        0.611111        0.807692   \n",
       "\n",
       "      home_o_poss_per_hold  away_o_poss_per_hold  home_break_rate  \\\n",
       "1413              1.368421              2.352941         0.382353   \n",
       "2847              1.705882              1.812500         0.269231   \n",
       "1580              1.863636              1.571429         0.076923   \n",
       "\n",
       "      away_break_rate  home_d_poss_per_pt  away_d_poss_per_pt  \\\n",
       "1413         0.136364            0.676471            0.272727   \n",
       "2847         0.217391            0.423077            0.521739   \n",
       "1580         0.361111            0.346154            0.444444   \n",
       "\n",
       "      home_break_per_poss  away_break_per_poss  \n",
       "1413             0.565217             0.500000  \n",
       "2847             0.636364             0.416667  \n",
       "1580             0.222222             0.812500  \n",
       "\n",
       "[3 rows x 36 columns]"
      ]
     },
     "execution_count": 8,
     "metadata": {},
     "output_type": "execute_result"
    }
   ],
   "source": [
    "X_train.sample(3)"
   ]
  },
  {
   "cell_type": "code",
   "execution_count": 5,
   "id": "765be59b-1469-44e2-a614-a53fdad5f395",
   "metadata": {
    "tags": []
   },
   "outputs": [],
   "source": [
    "# scale data, fit to training, transform training+testing sets\n",
    "scaler = StandardScaler()\n",
    "X_train = scaler.fit_transform(X_train)\n",
    "X_test = scaler.transform(X_test)"
   ]
  },
  {
   "cell_type": "code",
   "execution_count": 128,
   "id": "81831a09-a99b-4d84-b060-052552d9d14c",
   "metadata": {
    "tags": []
   },
   "outputs": [
    {
     "data": {
      "text/html": [
       "<div>\n",
       "<style scoped>\n",
       "    .dataframe tbody tr th:only-of-type {\n",
       "        vertical-align: middle;\n",
       "    }\n",
       "\n",
       "    .dataframe tbody tr th {\n",
       "        vertical-align: top;\n",
       "    }\n",
       "\n",
       "    .dataframe thead th {\n",
       "        text-align: right;\n",
       "    }\n",
       "</style>\n",
       "<table border=\"1\" class=\"dataframe\">\n",
       "  <thead>\n",
       "    <tr style=\"text-align: right;\">\n",
       "      <th></th>\n",
       "      <th>away_completions</th>\n",
       "      <th>away_throws</th>\n",
       "      <th>away_blocks</th>\n",
       "      <th>away_turnovers</th>\n",
       "      <th>away_o_scores</th>\n",
       "      <th>away_o_points</th>\n",
       "      <th>away_o_possessions</th>\n",
       "      <th>away_d_scores</th>\n",
       "      <th>away_d_points</th>\n",
       "      <th>away_d_possessions</th>\n",
       "      <th>...</th>\n",
       "      <th>home_hold_rate</th>\n",
       "      <th>away_hold_rate</th>\n",
       "      <th>home_o_poss_per_hold</th>\n",
       "      <th>away_o_poss_per_hold</th>\n",
       "      <th>home_break_rate</th>\n",
       "      <th>away_break_rate</th>\n",
       "      <th>home_d_poss_per_pt</th>\n",
       "      <th>away_d_poss_per_pt</th>\n",
       "      <th>home_break_per_poss</th>\n",
       "      <th>away_break_per_poss</th>\n",
       "    </tr>\n",
       "  </thead>\n",
       "  <tbody>\n",
       "    <tr>\n",
       "      <th>138</th>\n",
       "      <td>-0.240108</td>\n",
       "      <td>-0.282342</td>\n",
       "      <td>-0.500478</td>\n",
       "      <td>-0.218161</td>\n",
       "      <td>-0.003705</td>\n",
       "      <td>0.470537</td>\n",
       "      <td>-0.093032</td>\n",
       "      <td>-0.274296</td>\n",
       "      <td>-0.393567</td>\n",
       "      <td>-0.463544</td>\n",
       "      <td>...</td>\n",
       "      <td>0.341816</td>\n",
       "      <td>-0.524578</td>\n",
       "      <td>-0.327879</td>\n",
       "      <td>-0.194758</td>\n",
       "      <td>0.639870</td>\n",
       "      <td>-0.092488</td>\n",
       "      <td>-0.299287</td>\n",
       "      <td>-0.330070</td>\n",
       "      <td>1.066029</td>\n",
       "      <td>0.163069</td>\n",
       "    </tr>\n",
       "    <tr>\n",
       "      <th>586</th>\n",
       "      <td>-0.337032</td>\n",
       "      <td>-0.282342</td>\n",
       "      <td>-0.940406</td>\n",
       "      <td>0.395417</td>\n",
       "      <td>1.135016</td>\n",
       "      <td>1.032369</td>\n",
       "      <td>0.964596</td>\n",
       "      <td>-0.839288</td>\n",
       "      <td>0.216319</td>\n",
       "      <td>-0.624503</td>\n",
       "      <td>...</td>\n",
       "      <td>0.535570</td>\n",
       "      <td>0.053029</td>\n",
       "      <td>-0.581903</td>\n",
       "      <td>-0.230053</td>\n",
       "      <td>0.519526</td>\n",
       "      <td>-1.037153</td>\n",
       "      <td>-0.095727</td>\n",
       "      <td>-0.764141</td>\n",
       "      <td>0.620875</td>\n",
       "      <td>-0.736217</td>\n",
       "    </tr>\n",
       "    <tr>\n",
       "      <th>861</th>\n",
       "      <td>-0.337032</td>\n",
       "      <td>-0.461744</td>\n",
       "      <td>1.699159</td>\n",
       "      <td>-0.709023</td>\n",
       "      <td>-1.427105</td>\n",
       "      <td>-2.338624</td>\n",
       "      <td>-1.943882</td>\n",
       "      <td>5.093131</td>\n",
       "      <td>2.655863</td>\n",
       "      <td>3.560443</td>\n",
       "      <td>...</td>\n",
       "      <td>-3.278972</td>\n",
       "      <td>1.538305</td>\n",
       "      <td>4.798034</td>\n",
       "      <td>-0.613886</td>\n",
       "      <td>-1.584184</td>\n",
       "      <td>3.487296</td>\n",
       "      <td>-0.012452</td>\n",
       "      <td>1.599134</td>\n",
       "      <td>-1.901665</td>\n",
       "      <td>1.397384</td>\n",
       "    </tr>\n",
       "  </tbody>\n",
       "</table>\n",
       "<p>3 rows × 36 columns</p>\n",
       "</div>"
      ],
      "text/plain": [
       "     away_completions  away_throws  away_blocks  away_turnovers  \\\n",
       "138         -0.240108    -0.282342    -0.500478       -0.218161   \n",
       "586         -0.337032    -0.282342    -0.940406        0.395417   \n",
       "861         -0.337032    -0.461744     1.699159       -0.709023   \n",
       "\n",
       "     away_o_scores  away_o_points  away_o_possessions  away_d_scores  \\\n",
       "138      -0.003705       0.470537           -0.093032      -0.274296   \n",
       "586       1.135016       1.032369            0.964596      -0.839288   \n",
       "861      -1.427105      -2.338624           -1.943882       5.093131   \n",
       "\n",
       "     away_d_points  away_d_possessions  ...  home_hold_rate  away_hold_rate  \\\n",
       "138      -0.393567           -0.463544  ...        0.341816       -0.524578   \n",
       "586       0.216319           -0.624503  ...        0.535570        0.053029   \n",
       "861       2.655863            3.560443  ...       -3.278972        1.538305   \n",
       "\n",
       "     home_o_poss_per_hold  away_o_poss_per_hold  home_break_rate  \\\n",
       "138             -0.327879             -0.194758         0.639870   \n",
       "586             -0.581903             -0.230053         0.519526   \n",
       "861              4.798034             -0.613886        -1.584184   \n",
       "\n",
       "     away_break_rate  home_d_poss_per_pt  away_d_poss_per_pt  \\\n",
       "138        -0.092488           -0.299287           -0.330070   \n",
       "586        -1.037153           -0.095727           -0.764141   \n",
       "861         3.487296           -0.012452            1.599134   \n",
       "\n",
       "     home_break_per_poss  away_break_per_poss  \n",
       "138             1.066029             0.163069  \n",
       "586             0.620875            -0.736217  \n",
       "861            -1.901665             1.397384  \n",
       "\n",
       "[3 rows x 36 columns]"
      ]
     },
     "execution_count": 128,
     "metadata": {},
     "output_type": "execute_result"
    }
   ],
   "source": [
    "pd.DataFrame(X_train, columns=features).sample(3)"
   ]
  },
  {
   "cell_type": "markdown",
   "id": "ee412d60-1a5b-4f22-9afc-49d6e28c58ef",
   "metadata": {},
   "source": [
    "### Preprocessing, Initial Modeling\n",
    " - Split into Train / Test sets for data\n",
    " - evaluate models and data processing via pipeline, basic metrics\n",
    " - Scaling data should be beneficial\n",
    " - Feature Selection / Dimension Reduction\n",
    "   - PCA, SelectKBest, manual selection? other?\n",
    " - Initial Models (chose some and tune in next notebook)\n",
    "   - Linear Regression, Ridge, SGD\n",
    "   - RandomForest, GradientBoosting, XGBoost"
   ]
  },
  {
   "cell_type": "markdown",
   "id": "dfdd65c3-6fe3-410f-a18d-190a25afbe88",
   "metadata": {},
   "source": [
    "**Key Questions**\n",
    " - What treatment / transformation / decomposition of training features works best for model performance?\n",
    "   - consider with simple LinearRegression model\n",
    "     - can let all data through with `k='all'` for other models, test in param tuning\n",
    "   - scaled vs SelectKBest vs PCA\n",
    "     - how many features to use for KBest/PCA?\n",
    "   - **Current Decision** --> SelectKBest (6) with scoring_function = `mutual_info_regression`\n",
    " - How should models be evaluated?\n",
    "   - scoring metrics\n",
    "     - MSE, RMSE, R2?\n",
    "   - plot predicted vs actual\n",
    "     - can illustrate with a set of games: season,team\n",
    " - Which models show best performance? Does this make sense with source data?\n",
    " - Do models show performance gain with hyperparameter tuning?\n",
    "   - grid search vs random search CV\n",
    "   - consider search + training time\n",
    " - Which few models to nominate for further tuning?"
   ]
  },
  {
   "cell_type": "markdown",
   "id": "fbb980a6-2e8a-44ac-bb81-fb9084057bba",
   "metadata": {
    "tags": []
   },
   "source": [
    "#### Optimize Data Treatment with Simple Models\n",
    " - Linear Regression vs Random Forest vs ?\n",
    " - scaled vs PCA decomp vs KBest"
   ]
  },
  {
   "cell_type": "markdown",
   "id": "77ba6536-5557-48a2-aed7-a0cbf3a592fd",
   "metadata": {
    "jp-MarkdownHeadingCollapsed": true,
    "tags": []
   },
   "source": [
    "##### Part 1: scaled data vs PCA decomp vs selection via KBest\n",
    "**Conclusions**\n",
    " - using entire dataset (**scaled data**) shows very good performance\n",
    "   - *good baseline to consider*, for ex: what value is there to predict margin with limited data? is accuracy reduction ok given easy data input?\n",
    " - **PCA(10)** reduces performance\n",
    "   - still worthwhile in evaluating feature performance\n",
    " - **SelectKBest(10)** mostly maintains perforamnce\n",
    "   - *worth doing a gridsearch with various k values and scoring functions*"
   ]
  },
  {
   "cell_type": "code",
   "execution_count": 129,
   "id": "cc1e6c70-5af2-487c-921c-d5c7b53bce51",
   "metadata": {
    "tags": []
   },
   "outputs": [],
   "source": [
    "y_pred = {}\n",
    "base_pipe = make_pipeline(LinearRegression())\n",
    "pca_pipe = make_pipeline(PCA(n_components=10), LinearRegression())\n",
    "kb_pipe = make_pipeline(SelectKBest(score_func=f_regression, k=10), LinearRegression())"
   ]
  },
  {
   "cell_type": "code",
   "execution_count": 146,
   "id": "8a5991de-9a4f-47a8-a8c6-ca67feb47ec6",
   "metadata": {
    "jupyter": {
     "source_hidden": true
    },
    "tags": []
   },
   "outputs": [
    {
     "data": {
      "image/png": "[encoded data removed]",
      "text/plain": [
       "<Figure size 900x400 with 3 Axes>"
      ]
     },
     "metadata": {},
     "output_type": "display_data"
    }
   ],
   "source": [
    "fig, axs = plt.subplots(1,3, figsize=(9,4))\n",
    "\n",
    "axs[0].plot(y_test, y_pred['base'], 'k.', alpha=0.5)\n",
    "xlim = axs[0].get_xlim()\n",
    "axs[0].plot(xlim,xlim, 'r--')\n",
    "axs[0].set_xlim(xlim)\n",
    "axs[0].set_title('All Data (scaled)')\n",
    "axs[0].set_xlabel('')\n",
    "axs[0].set_ylabel('Predicted')\n",
    "\n",
    "axs[1].plot(y_test, y_pred['pca'], 'k.', alpha=0.5)\n",
    "xlim = axs[1].get_xlim()\n",
    "axs[1].plot(xlim,xlim, 'r--')\n",
    "axs[1].set_xlim(xlim)\n",
    "axs[1].set_title('PCA(10)')\n",
    "axs[1].set_xlabel('Actual')\n",
    "axs[1].set_ylabel('')\n",
    "\n",
    "axs[2].plot(y_test, y_pred['kb'], 'k.', alpha=0.5)\n",
    "xlim = axs[2].get_xlim()\n",
    "axs[2].plot(xlim,xlim, 'r--')\n",
    "axs[2].set_xlim(xlim)\n",
    "axs[2].set_title('SelectKBest(10)')\n",
    "axs[2].set_xlabel('')\n",
    "axs[2].set_ylabel('')\n",
    "\n",
    "plt.show()"
   ]
  },
  {
   "cell_type": "code",
   "execution_count": null,
   "id": "fe794692-fedf-4dae-beef-ac3011fcefa0",
   "metadata": {},
   "outputs": [],
   "source": []
  },
  {
   "cell_type": "markdown",
   "id": "3f0c6081-ef62-438b-9b8d-a08a68f05fdd",
   "metadata": {},
   "source": [
    "**PCA Pipeline**"
   ]
  },
  {
   "cell_type": "code",
   "execution_count": 136,
   "id": "48605a06-949a-403b-83a1-2285d2dd7a09",
   "metadata": {
    "tags": []
   },
   "outputs": [
    {
     "name": "stdout",
     "output_type": "stream",
     "text": [
      "0.9811780606485924\n"
     ]
    }
   ],
   "source": [
    "pca_pipe.fit(X_train,y_train)\n",
    "print(pca_pipe.score(X_test,y_test))\n",
    "y_pred['pca'] = pca_pipe.predict(X_test)"
   ]
  },
  {
   "cell_type": "code",
   "execution_count": 137,
   "id": "3b681001-d831-440f-a66a-e498e2388fef",
   "metadata": {
    "tags": []
   },
   "outputs": [
    {
     "data": {
      "text/plain": [
       "away_blocks             2.010821\n",
       "home_block_rate         1.963358\n",
       "away_block_rate         1.911272\n",
       "home_blocks             1.859771\n",
       "away_completion_rate    1.772008\n",
       "home_completion_rate    1.586438\n",
       "away_completions        1.553468\n",
       "away_throws             1.536061\n",
       "dtype: float64"
      ]
     },
     "execution_count": 137,
     "metadata": {},
     "output_type": "execute_result"
    }
   ],
   "source": [
    "pd.DataFrame(np.abs(pca_pipe[0].components_), columns=X.columns).sum().sort_values(ascending=False).head(8)"
   ]
  },
  {
   "cell_type": "code",
   "execution_count": 138,
   "id": "1a4eb2ce-f252-4750-87a6-4f4aee5006a7",
   "metadata": {
    "tags": []
   },
   "outputs": [
    {
     "data": {
      "image/png": "[encoded data removed]",
      "text/plain": [
       "<Figure size 500x500 with 1 Axes>"
      ]
     },
     "metadata": {},
     "output_type": "display_data"
    }
   ],
   "source": [
    "sns.relplot(x=y_test, y=y_pred['pca'])\n",
    "xlim = plt.xlim()\n",
    "plt.plot(xlim,xlim, 'r--')\n",
    "plt.xlim(xlim)\n",
    "plt.xlabel('Actual')\n",
    "plt.ylabel('Predicted')\n",
    "plt.show()"
   ]
  },
  {
   "cell_type": "markdown",
   "id": "3e66ea84-1aa5-48c6-bc04-7e3e4400e5b1",
   "metadata": {},
   "source": [
    "**Select K Best pipeline**"
   ]
  },
  {
   "cell_type": "code",
   "execution_count": 15,
   "id": "349a42d3-f49d-45aa-b594-a0c264fe56dc",
   "metadata": {
    "tags": []
   },
   "outputs": [
    {
     "name": "stdout",
     "output_type": "stream",
     "text": [
      "0.9983694455177913\n"
     ]
    }
   ],
   "source": [
    "kb_pipe.fit(pd.DataFrame(X_train, columns=X.columns),y_train)\n",
    "print(kb_pipe.score(pd.DataFrame(X_test, columns=X.columns),y_test))\n",
    "y_pred['kb'] = kb_pipe.predict(pd.DataFrame(X_test, columns=X.columns))"
   ]
  },
  {
   "cell_type": "code",
   "execution_count": 16,
   "id": "bdbfaec0-bae7-4e3a-8635-e4f1de387009",
   "metadata": {
    "tags": []
   },
   "outputs": [
    {
     "data": {
      "text/html": [
       "<div>\n",
       "<style scoped>\n",
       "    .dataframe tbody tr th:only-of-type {\n",
       "        vertical-align: middle;\n",
       "    }\n",
       "\n",
       "    .dataframe tbody tr th {\n",
       "        vertical-align: top;\n",
       "    }\n",
       "\n",
       "    .dataframe thead th {\n",
       "        text-align: right;\n",
       "    }\n",
       "</style>\n",
       "<table border=\"1\" class=\"dataframe\">\n",
       "  <thead>\n",
       "    <tr style=\"text-align: right;\">\n",
       "      <th></th>\n",
       "      <th>0</th>\n",
       "    </tr>\n",
       "  </thead>\n",
       "  <tbody>\n",
       "    <tr>\n",
       "      <th>home_d_scores</th>\n",
       "      <td>4.340393</td>\n",
       "    </tr>\n",
       "    <tr>\n",
       "      <th>away_d_scores</th>\n",
       "      <td>3.397611</td>\n",
       "    </tr>\n",
       "    <tr>\n",
       "      <th>away_hold_rate</th>\n",
       "      <td>1.672203</td>\n",
       "    </tr>\n",
       "    <tr>\n",
       "      <th>home_hold_rate</th>\n",
       "      <td>1.398470</td>\n",
       "    </tr>\n",
       "    <tr>\n",
       "      <th>home_break_rate</th>\n",
       "      <td>1.298332</td>\n",
       "    </tr>\n",
       "  </tbody>\n",
       "</table>\n",
       "</div>"
      ],
      "text/plain": [
       "                        0\n",
       "home_d_scores    4.340393\n",
       "away_d_scores    3.397611\n",
       "away_hold_rate   1.672203\n",
       "home_hold_rate   1.398470\n",
       "home_break_rate  1.298332"
      ]
     },
     "execution_count": 16,
     "metadata": {},
     "output_type": "execute_result"
    }
   ],
   "source": [
    "pd.DataFrame(np.abs(kb_pipe[-1].coef_), index = kb_pipe[0].get_feature_names_out()).sort_values(0,ascending=False).head()"
   ]
  },
  {
   "cell_type": "code",
   "execution_count": 17,
   "id": "b9089615-6705-433e-b6b6-2aa9ecb7d310",
   "metadata": {
    "tags": []
   },
   "outputs": [
    {
     "data": {
      "text/html": [
       "<div>\n",
       "<style scoped>\n",
       "    .dataframe tbody tr th:only-of-type {\n",
       "        vertical-align: middle;\n",
       "    }\n",
       "\n",
       "    .dataframe tbody tr th {\n",
       "        vertical-align: top;\n",
       "    }\n",
       "\n",
       "    .dataframe thead th {\n",
       "        text-align: right;\n",
       "    }\n",
       "</style>\n",
       "<table border=\"1\" class=\"dataframe\">\n",
       "  <thead>\n",
       "    <tr style=\"text-align: right;\">\n",
       "      <th></th>\n",
       "      <th>0</th>\n",
       "    </tr>\n",
       "  </thead>\n",
       "  <tbody>\n",
       "    <tr>\n",
       "      <th>away_hold_rate</th>\n",
       "      <td>2032.383638</td>\n",
       "    </tr>\n",
       "    <tr>\n",
       "      <th>home_d_possessions</th>\n",
       "      <td>971.875785</td>\n",
       "    </tr>\n",
       "    <tr>\n",
       "      <th>away_break_rate</th>\n",
       "      <td>942.581242</td>\n",
       "    </tr>\n",
       "    <tr>\n",
       "      <th>home_hold_rate</th>\n",
       "      <td>930.199798</td>\n",
       "    </tr>\n",
       "    <tr>\n",
       "      <th>home_break_rate</th>\n",
       "      <td>806.507376</td>\n",
       "    </tr>\n",
       "    <tr>\n",
       "      <th>home_d_scores</th>\n",
       "      <td>405.816090</td>\n",
       "    </tr>\n",
       "    <tr>\n",
       "      <th>away_d_possessions</th>\n",
       "      <td>230.253962</td>\n",
       "    </tr>\n",
       "  </tbody>\n",
       "</table>\n",
       "</div>"
      ],
      "text/plain": [
       "                              0\n",
       "away_hold_rate      2032.383638\n",
       "home_d_possessions   971.875785\n",
       "away_break_rate      942.581242\n",
       "home_hold_rate       930.199798\n",
       "home_break_rate      806.507376\n",
       "home_d_scores        405.816090\n",
       "away_d_possessions   230.253962"
      ]
     },
     "execution_count": 17,
     "metadata": {},
     "output_type": "execute_result"
    }
   ],
   "source": [
    "pd.DataFrame(kb_pipe[0].scores_[:10], index = kb_pipe[0].get_feature_names_out()).sort_values(0,ascending=False).head(7)"
   ]
  },
  {
   "cell_type": "code",
   "execution_count": 18,
   "id": "2b9ea4e4-a33d-40b4-b269-c77f634155d8",
   "metadata": {
    "tags": []
   },
   "outputs": [
    {
     "data": {
      "image/png": "[encoded data removed]",
      "text/plain": [
       "<Figure size 500x500 with 1 Axes>"
      ]
     },
     "metadata": {},
     "output_type": "display_data"
    }
   ],
   "source": [
    "sns.relplot(x=y_test, y=y_pred['kb'])\n",
    "xlim = plt.xlim()\n",
    "plt.plot(xlim,xlim, 'r--')\n",
    "plt.xlim(xlim)\n",
    "plt.xlabel('Actual')\n",
    "plt.ylabel('Predicted')\n",
    "plt.show()"
   ]
  },
  {
   "cell_type": "markdown",
   "id": "bca1177c-e3dc-44e8-a817-f57153d4edc5",
   "metadata": {},
   "source": [
    "**Base Pipeline - all data**"
   ]
  },
  {
   "cell_type": "code",
   "execution_count": 144,
   "id": "ef0e9840-9956-49e2-af79-63917726ed2d",
   "metadata": {
    "tags": []
   },
   "outputs": [
    {
     "name": "stdout",
     "output_type": "stream",
     "text": [
      "0.9989398208700998\n"
     ]
    }
   ],
   "source": [
    "base_pipe.fit(X_train,y_train)\n",
    "print(base_pipe.score(X_test,y_test))\n",
    "y_pred['base'] = base_pipe.predict(X_test)"
   ]
  },
  {
   "cell_type": "code",
   "execution_count": 147,
   "id": "e69590cd-7b1a-48c3-abf6-6ec8df5fc07b",
   "metadata": {
    "tags": []
   },
   "outputs": [
    {
     "data": {
      "text/html": [
       "<div>\n",
       "<style scoped>\n",
       "    .dataframe tbody tr th:only-of-type {\n",
       "        vertical-align: middle;\n",
       "    }\n",
       "\n",
       "    .dataframe tbody tr th {\n",
       "        vertical-align: top;\n",
       "    }\n",
       "\n",
       "    .dataframe thead th {\n",
       "        text-align: right;\n",
       "    }\n",
       "</style>\n",
       "<table border=\"1\" class=\"dataframe\">\n",
       "  <thead>\n",
       "    <tr style=\"text-align: right;\">\n",
       "      <th></th>\n",
       "      <th>0</th>\n",
       "    </tr>\n",
       "  </thead>\n",
       "  <tbody>\n",
       "    <tr>\n",
       "      <th>away_completions</th>\n",
       "      <td>4.543254e+12</td>\n",
       "    </tr>\n",
       "    <tr>\n",
       "      <th>away_throws</th>\n",
       "      <td>4.418184e+12</td>\n",
       "    </tr>\n",
       "    <tr>\n",
       "      <th>away_turnovers</th>\n",
       "      <td>7.176773e+11</td>\n",
       "    </tr>\n",
       "    <tr>\n",
       "      <th>home_completions</th>\n",
       "      <td>9.218818e+10</td>\n",
       "    </tr>\n",
       "    <tr>\n",
       "      <th>home_throws</th>\n",
       "      <td>9.184545e+10</td>\n",
       "    </tr>\n",
       "  </tbody>\n",
       "</table>\n",
       "</div>"
      ],
      "text/plain": [
       "                             0\n",
       "away_completions  4.543254e+12\n",
       "away_throws       4.418184e+12\n",
       "away_turnovers    7.176773e+11\n",
       "home_completions  9.218818e+10\n",
       "home_throws       9.184545e+10"
      ]
     },
     "execution_count": 147,
     "metadata": {},
     "output_type": "execute_result"
    }
   ],
   "source": [
    "pd.DataFrame(np.abs(base_pipe[-1].coef_), index = X.columns).sort_values(0,ascending=False).head()"
   ]
  },
  {
   "cell_type": "code",
   "execution_count": 146,
   "id": "4836fa81-b1cb-4bd7-b425-2173d9888c82",
   "metadata": {
    "tags": []
   },
   "outputs": [
    {
     "data": {
      "image/png": "[encoded data removed]",
      "text/plain": [
       "<Figure size 500x500 with 1 Axes>"
      ]
     },
     "metadata": {},
     "output_type": "display_data"
    }
   ],
   "source": [
    "sns.relplot(x=y_test, y=y_pred['base'])\n",
    "xlim = plt.xlim()\n",
    "plt.plot(xlim,xlim, 'r--')\n",
    "plt.xlim(xlim)\n",
    "plt.xlabel('Actual')\n",
    "plt.ylabel('Predicted')\n",
    "plt.show()"
   ]
  },
  {
   "cell_type": "markdown",
   "id": "3d1e0cdd-ad11-4b39-8034-b9b0763b818f",
   "metadata": {
    "tags": []
   },
   "source": [
    "##### Part 2: KBest GridSearchCV\n",
    "- k [1,10]\n",
    "- scoring_func = f_regression, mutual_info_regression\n",
    "\n",
    "**Conclusions**\n",
    " - k 7-10 peak performance, both score functions\n",
    " - mutual information better than f_regression for some k, more prominent at low k\n",
    " - `k=6, score_func=mutual_info_regression`"
   ]
  },
  {
   "cell_type": "code",
   "execution_count": 22,
   "id": "8ee54ea3-0cda-4e92-9c24-d564832d8b1d",
   "metadata": {
    "tags": []
   },
   "outputs": [],
   "source": [
    "ks = [val+1 for val in range(10)]\n",
    "kb_pipe = make_pipeline(SelectKBest(score_func=f_regression, k=10), LinearRegression())\n",
    "grid_params = {\n",
    "    'selectkbest__k': ks,\n",
    "    'selectkbest__score_func': [f_regression, mutual_info_regression]\n",
    "}"
   ]
  },
  {
   "cell_type": "code",
   "execution_count": 23,
   "id": "d9380ba1-ec7a-45e7-9a03-dd7bacbc7fd7",
   "metadata": {
    "tags": []
   },
   "outputs": [],
   "source": [
    "cv = GridSearchCV(kb_pipe, param_grid=grid_params, cv=5,\n",
    "                  scoring='neg_root_mean_squared_error', \n",
    "                  n_jobs=-1,)"
   ]
  },
  {
   "cell_type": "code",
   "execution_count": 24,
   "id": "5aacb1bb-1717-48b5-a8cf-6f757b896910",
   "metadata": {
    "tags": []
   },
   "outputs": [
    {
     "name": "stdout",
     "output_type": "stream",
     "text": [
      "CPU times: total: 328 ms\n",
      "Wall time: 4.98 s\n"
     ]
    },
    {
     "data": {
      "text/html": [
       "<style>#sk-container-id-1 {color: black;}#sk-container-id-1 pre{padding: 0;}#sk-container-id-1 div.sk-toggleable {background-color: white;}#sk-container-id-1 label.sk-toggleable__label {cursor: pointer;display: block;width: 100%;margin-bottom: 0;padding: 0.3em;box-sizing: border-box;text-align: center;}#sk-container-id-1 label.sk-toggleable__label-arrow:before {content: \"▸\";float: left;margin-right: 0.25em;color: #696969;}#sk-container-id-1 label.sk-toggleable__label-arrow:hover:before {color: black;}#sk-container-id-1 div.sk-estimator:hover label.sk-toggleable__label-arrow:before {color: black;}#sk-container-id-1 div.sk-toggleable__content {max-height: 0;max-width: 0;overflow: hidden;text-align: left;background-color: #f0f8ff;}#sk-container-id-1 div.sk-toggleable__content pre {margin: 0.2em;color: black;border-radius: 0.25em;background-color: #f0f8ff;}#sk-container-id-1 input.sk-toggleable__control:checked~div.sk-toggleable__content {max-height: 200px;max-width: 100%;overflow: auto;}#sk-container-id-1 input.sk-toggleable__control:checked~label.sk-toggleable__label-arrow:before {content: \"▾\";}#sk-container-id-1 div.sk-estimator input.sk-toggleable__control:checked~label.sk-toggleable__label {background-color: #d4ebff;}#sk-container-id-1 div.sk-label input.sk-toggleable__control:checked~label.sk-toggleable__label {background-color: #d4ebff;}#sk-container-id-1 input.sk-hidden--visually {border: 0;clip: rect(1px 1px 1px 1px);clip: rect(1px, 1px, 1px, 1px);height: 1px;margin: -1px;overflow: hidden;padding: 0;position: absolute;width: 1px;}#sk-container-id-1 div.sk-estimator {font-family: monospace;background-color: #f0f8ff;border: 1px dotted black;border-radius: 0.25em;box-sizing: border-box;margin-bottom: 0.5em;}#sk-container-id-1 div.sk-estimator:hover {background-color: #d4ebff;}#sk-container-id-1 div.sk-parallel-item::after {content: \"\";width: 100%;border-bottom: 1px solid gray;flex-grow: 1;}#sk-container-id-1 div.sk-label:hover label.sk-toggleable__label {background-color: #d4ebff;}#sk-container-id-1 div.sk-serial::before {content: \"\";position: absolute;border-left: 1px solid gray;box-sizing: border-box;top: 0;bottom: 0;left: 50%;z-index: 0;}#sk-container-id-1 div.sk-serial {display: flex;flex-direction: column;align-items: center;background-color: white;padding-right: 0.2em;padding-left: 0.2em;position: relative;}#sk-container-id-1 div.sk-item {position: relative;z-index: 1;}#sk-container-id-1 div.sk-parallel {display: flex;align-items: stretch;justify-content: center;background-color: white;position: relative;}#sk-container-id-1 div.sk-item::before, #sk-container-id-1 div.sk-parallel-item::before {content: \"\";position: absolute;border-left: 1px solid gray;box-sizing: border-box;top: 0;bottom: 0;left: 50%;z-index: -1;}#sk-container-id-1 div.sk-parallel-item {display: flex;flex-direction: column;z-index: 1;position: relative;background-color: white;}#sk-container-id-1 div.sk-parallel-item:first-child::after {align-self: flex-end;width: 50%;}#sk-container-id-1 div.sk-parallel-item:last-child::after {align-self: flex-start;width: 50%;}#sk-container-id-1 div.sk-parallel-item:only-child::after {width: 0;}#sk-container-id-1 div.sk-dashed-wrapped {border: 1px dashed gray;margin: 0 0.4em 0.5em 0.4em;box-sizing: border-box;padding-bottom: 0.4em;background-color: white;}#sk-container-id-1 div.sk-label label {font-family: monospace;font-weight: bold;display: inline-block;line-height: 1.2em;}#sk-container-id-1 div.sk-label-container {text-align: center;}#sk-container-id-1 div.sk-container {/* jupyter's `normalize.less` sets `[hidden] { display: none; }` but bootstrap.min.css set `[hidden] { display: none !important; }` so we also need the `!important` here to be able to override the default hidden behavior on the sphinx rendered scikit-learn.org. See: https://github.com/scikit-learn/scikit-learn/issues/21755 */display: inline-block !important;position: relative;}#sk-container-id-1 div.sk-text-repr-fallback {display: none;}</style><div id=\"sk-container-id-1\" class=\"sk-top-container\"><div class=\"sk-text-repr-fallback\"><pre>GridSearchCV(cv=5,\n",
       "             estimator=Pipeline(steps=[(&#x27;selectkbest&#x27;,\n",
       "                                        SelectKBest(score_func=&lt;function f_regression at 0x0000018CE2D01360&gt;)),\n",
       "                                       (&#x27;linearregression&#x27;,\n",
       "                                        LinearRegression())]),\n",
       "             n_jobs=-1,\n",
       "             param_grid={&#x27;selectkbest__k&#x27;: [1, 2, 3, 4, 5, 6, 7, 8, 9, 10],\n",
       "                         &#x27;selectkbest__score_func&#x27;: [&lt;function f_regression at 0x0000018CE2D01360&gt;,\n",
       "                                                     &lt;function mutual_info_regression at 0x0000018CE75CF5B0&gt;]},\n",
       "             scoring=&#x27;neg_root_mean_squared_error&#x27;)</pre><b>In a Jupyter environment, please rerun this cell to show the HTML representation or trust the notebook. <br />On GitHub, the HTML representation is unable to render, please try loading this page with nbviewer.org.</b></div><div class=\"sk-container\" hidden><div class=\"sk-item sk-dashed-wrapped\"><div class=\"sk-label-container\"><div class=\"sk-label sk-toggleable\"><input class=\"sk-toggleable__control sk-hidden--visually\" id=\"sk-estimator-id-1\" type=\"checkbox\" ><label for=\"sk-estimator-id-1\" class=\"sk-toggleable__label sk-toggleable__label-arrow\">GridSearchCV</label><div class=\"sk-toggleable__content\"><pre>GridSearchCV(cv=5,\n",
       "             estimator=Pipeline(steps=[(&#x27;selectkbest&#x27;,\n",
       "                                        SelectKBest(score_func=&lt;function f_regression at 0x0000018CE2D01360&gt;)),\n",
       "                                       (&#x27;linearregression&#x27;,\n",
       "                                        LinearRegression())]),\n",
       "             n_jobs=-1,\n",
       "             param_grid={&#x27;selectkbest__k&#x27;: [1, 2, 3, 4, 5, 6, 7, 8, 9, 10],\n",
       "                         &#x27;selectkbest__score_func&#x27;: [&lt;function f_regression at 0x0000018CE2D01360&gt;,\n",
       "                                                     &lt;function mutual_info_regression at 0x0000018CE75CF5B0&gt;]},\n",
       "             scoring=&#x27;neg_root_mean_squared_error&#x27;)</pre></div></div></div><div class=\"sk-parallel\"><div class=\"sk-parallel-item\"><div class=\"sk-item\"><div class=\"sk-label-container\"><div class=\"sk-label sk-toggleable\"><input class=\"sk-toggleable__control sk-hidden--visually\" id=\"sk-estimator-id-2\" type=\"checkbox\" ><label for=\"sk-estimator-id-2\" class=\"sk-toggleable__label sk-toggleable__label-arrow\">estimator: Pipeline</label><div class=\"sk-toggleable__content\"><pre>Pipeline(steps=[(&#x27;selectkbest&#x27;,\n",
       "                 SelectKBest(score_func=&lt;function f_regression at 0x0000018CE2D01360&gt;)),\n",
       "                (&#x27;linearregression&#x27;, LinearRegression())])</pre></div></div></div><div class=\"sk-serial\"><div class=\"sk-item\"><div class=\"sk-serial\"><div class=\"sk-item\"><div class=\"sk-estimator sk-toggleable\"><input class=\"sk-toggleable__control sk-hidden--visually\" id=\"sk-estimator-id-3\" type=\"checkbox\" ><label for=\"sk-estimator-id-3\" class=\"sk-toggleable__label sk-toggleable__label-arrow\">SelectKBest</label><div class=\"sk-toggleable__content\"><pre>SelectKBest(score_func=&lt;function f_regression at 0x0000018CE2D01360&gt;)</pre></div></div></div><div class=\"sk-item\"><div class=\"sk-estimator sk-toggleable\"><input class=\"sk-toggleable__control sk-hidden--visually\" id=\"sk-estimator-id-4\" type=\"checkbox\" ><label for=\"sk-estimator-id-4\" class=\"sk-toggleable__label sk-toggleable__label-arrow\">LinearRegression</label><div class=\"sk-toggleable__content\"><pre>LinearRegression()</pre></div></div></div></div></div></div></div></div></div></div></div></div>"
      ],
      "text/plain": [
       "GridSearchCV(cv=5,\n",
       "             estimator=Pipeline(steps=[('selectkbest',\n",
       "                                        SelectKBest(score_func=<function f_regression at 0x0000018CE2D01360>)),\n",
       "                                       ('linearregression',\n",
       "                                        LinearRegression())]),\n",
       "             n_jobs=-1,\n",
       "             param_grid={'selectkbest__k': [1, 2, 3, 4, 5, 6, 7, 8, 9, 10],\n",
       "                         'selectkbest__score_func': [<function f_regression at 0x0000018CE2D01360>,\n",
       "                                                     <function mutual_info_regression at 0x0000018CE75CF5B0>]},\n",
       "             scoring='neg_root_mean_squared_error')"
      ]
     },
     "execution_count": 24,
     "metadata": {},
     "output_type": "execute_result"
    }
   ],
   "source": [
    "%%time\n",
    "cv.fit(X_train,y_train)"
   ]
  },
  {
   "cell_type": "code",
   "execution_count": 28,
   "id": "30209e23-9b02-4035-9de4-711aa453ceae",
   "metadata": {
    "tags": []
   },
   "outputs": [
    {
     "data": {
      "text/html": [
       "<div>\n",
       "<style scoped>\n",
       "    .dataframe tbody tr th:only-of-type {\n",
       "        vertical-align: middle;\n",
       "    }\n",
       "\n",
       "    .dataframe tbody tr th {\n",
       "        vertical-align: top;\n",
       "    }\n",
       "\n",
       "    .dataframe thead th {\n",
       "        text-align: right;\n",
       "    }\n",
       "</style>\n",
       "<table border=\"1\" class=\"dataframe\">\n",
       "  <thead>\n",
       "    <tr style=\"text-align: right;\">\n",
       "      <th></th>\n",
       "      <th>mean_fit_time</th>\n",
       "      <th>std_fit_time</th>\n",
       "      <th>mean_score_time</th>\n",
       "      <th>std_score_time</th>\n",
       "      <th>param_selectkbest__k</th>\n",
       "      <th>param_selectkbest__score_func</th>\n",
       "      <th>params</th>\n",
       "      <th>split0_test_score</th>\n",
       "      <th>split1_test_score</th>\n",
       "      <th>split2_test_score</th>\n",
       "      <th>split3_test_score</th>\n",
       "      <th>split4_test_score</th>\n",
       "      <th>mean_test_score</th>\n",
       "      <th>std_test_score</th>\n",
       "      <th>rank_test_score</th>\n",
       "    </tr>\n",
       "  </thead>\n",
       "  <tbody>\n",
       "    <tr>\n",
       "      <th>0</th>\n",
       "      <td>0.019001</td>\n",
       "      <td>0.005018</td>\n",
       "      <td>0.001801</td>\n",
       "      <td>3.994343e-04</td>\n",
       "      <td>1</td>\n",
       "      <td>&lt;function f_regression at 0x0000018CE2D01360&gt;</td>\n",
       "      <td>{'selectkbest__k': 1, 'selectkbest__score_func...</td>\n",
       "      <td>-3.085352</td>\n",
       "      <td>-3.623526</td>\n",
       "      <td>-3.330173</td>\n",
       "      <td>-3.479427</td>\n",
       "      <td>-2.943924</td>\n",
       "      <td>-3.292480</td>\n",
       "      <td>0.249141</td>\n",
       "      <td>19</td>\n",
       "    </tr>\n",
       "    <tr>\n",
       "      <th>1</th>\n",
       "      <td>0.347796</td>\n",
       "      <td>0.018508</td>\n",
       "      <td>0.001599</td>\n",
       "      <td>4.891631e-04</td>\n",
       "      <td>1</td>\n",
       "      <td>&lt;function mutual_info_regression at 0x0000018C...</td>\n",
       "      <td>{'selectkbest__k': 1, 'selectkbest__score_func...</td>\n",
       "      <td>-3.085352</td>\n",
       "      <td>-3.623526</td>\n",
       "      <td>-3.330173</td>\n",
       "      <td>-3.479427</td>\n",
       "      <td>-2.943924</td>\n",
       "      <td>-3.292480</td>\n",
       "      <td>0.249141</td>\n",
       "      <td>19</td>\n",
       "    </tr>\n",
       "    <tr>\n",
       "      <th>2</th>\n",
       "      <td>0.009796</td>\n",
       "      <td>0.005492</td>\n",
       "      <td>0.001603</td>\n",
       "      <td>4.896754e-04</td>\n",
       "      <td>2</td>\n",
       "      <td>&lt;function f_regression at 0x0000018CE2D01360&gt;</td>\n",
       "      <td>{'selectkbest__k': 2, 'selectkbest__score_func...</td>\n",
       "      <td>-1.124360</td>\n",
       "      <td>-3.631806</td>\n",
       "      <td>-3.331630</td>\n",
       "      <td>-1.074533</td>\n",
       "      <td>-1.078144</td>\n",
       "      <td>-2.048095</td>\n",
       "      <td>1.174523</td>\n",
       "      <td>18</td>\n",
       "    </tr>\n",
       "    <tr>\n",
       "      <th>3</th>\n",
       "      <td>0.328195</td>\n",
       "      <td>0.010084</td>\n",
       "      <td>0.001599</td>\n",
       "      <td>4.886638e-04</td>\n",
       "      <td>2</td>\n",
       "      <td>&lt;function mutual_info_regression at 0x0000018C...</td>\n",
       "      <td>{'selectkbest__k': 2, 'selectkbest__score_func...</td>\n",
       "      <td>-1.124360</td>\n",
       "      <td>-1.097453</td>\n",
       "      <td>-1.042697</td>\n",
       "      <td>-1.074533</td>\n",
       "      <td>-1.078144</td>\n",
       "      <td>-1.083438</td>\n",
       "      <td>0.026975</td>\n",
       "      <td>17</td>\n",
       "    </tr>\n",
       "    <tr>\n",
       "      <th>4</th>\n",
       "      <td>0.004400</td>\n",
       "      <td>0.000491</td>\n",
       "      <td>0.001199</td>\n",
       "      <td>4.009042e-04</td>\n",
       "      <td>3</td>\n",
       "      <td>&lt;function f_regression at 0x0000018CE2D01360&gt;</td>\n",
       "      <td>{'selectkbest__k': 3, 'selectkbest__score_func...</td>\n",
       "      <td>-1.121435</td>\n",
       "      <td>-1.078426</td>\n",
       "      <td>-1.039469</td>\n",
       "      <td>-1.071359</td>\n",
       "      <td>-1.074366</td>\n",
       "      <td>-1.077011</td>\n",
       "      <td>0.026168</td>\n",
       "      <td>16</td>\n",
       "    </tr>\n",
       "    <tr>\n",
       "      <th>5</th>\n",
       "      <td>0.334600</td>\n",
       "      <td>0.014430</td>\n",
       "      <td>0.001601</td>\n",
       "      <td>4.911482e-04</td>\n",
       "      <td>3</td>\n",
       "      <td>&lt;function mutual_info_regression at 0x0000018C...</td>\n",
       "      <td>{'selectkbest__k': 3, 'selectkbest__score_func...</td>\n",
       "      <td>-1.121435</td>\n",
       "      <td>-1.078426</td>\n",
       "      <td>-1.039469</td>\n",
       "      <td>-0.902718</td>\n",
       "      <td>-0.926761</td>\n",
       "      <td>-1.013762</td>\n",
       "      <td>0.085248</td>\n",
       "      <td>15</td>\n",
       "    </tr>\n",
       "    <tr>\n",
       "      <th>6</th>\n",
       "      <td>0.004799</td>\n",
       "      <td>0.000749</td>\n",
       "      <td>0.001201</td>\n",
       "      <td>4.004762e-04</td>\n",
       "      <td>4</td>\n",
       "      <td>&lt;function f_regression at 0x0000018CE2D01360&gt;</td>\n",
       "      <td>{'selectkbest__k': 4, 'selectkbest__score_func...</td>\n",
       "      <td>-0.552931</td>\n",
       "      <td>-0.513276</td>\n",
       "      <td>-0.522180</td>\n",
       "      <td>-0.562066</td>\n",
       "      <td>-0.492656</td>\n",
       "      <td>-0.528622</td>\n",
       "      <td>0.025612</td>\n",
       "      <td>13</td>\n",
       "    </tr>\n",
       "    <tr>\n",
       "      <th>7</th>\n",
       "      <td>0.334998</td>\n",
       "      <td>0.008486</td>\n",
       "      <td>0.001400</td>\n",
       "      <td>4.904672e-04</td>\n",
       "      <td>4</td>\n",
       "      <td>&lt;function mutual_info_regression at 0x0000018C...</td>\n",
       "      <td>{'selectkbest__k': 4, 'selectkbest__score_func...</td>\n",
       "      <td>-0.552931</td>\n",
       "      <td>-0.513276</td>\n",
       "      <td>-0.522180</td>\n",
       "      <td>-0.562066</td>\n",
       "      <td>-0.492656</td>\n",
       "      <td>-0.528622</td>\n",
       "      <td>0.025612</td>\n",
       "      <td>13</td>\n",
       "    </tr>\n",
       "    <tr>\n",
       "      <th>8</th>\n",
       "      <td>0.003801</td>\n",
       "      <td>0.000399</td>\n",
       "      <td>0.001201</td>\n",
       "      <td>4.000206e-04</td>\n",
       "      <td>5</td>\n",
       "      <td>&lt;function f_regression at 0x0000018CE2D01360&gt;</td>\n",
       "      <td>{'selectkbest__k': 5, 'selectkbest__score_func...</td>\n",
       "      <td>-0.550698</td>\n",
       "      <td>-0.509849</td>\n",
       "      <td>-0.519118</td>\n",
       "      <td>-0.556645</td>\n",
       "      <td>-0.489953</td>\n",
       "      <td>-0.525253</td>\n",
       "      <td>0.025115</td>\n",
       "      <td>12</td>\n",
       "    </tr>\n",
       "    <tr>\n",
       "      <th>9</th>\n",
       "      <td>0.333706</td>\n",
       "      <td>0.009571</td>\n",
       "      <td>0.001400</td>\n",
       "      <td>4.894540e-04</td>\n",
       "      <td>5</td>\n",
       "      <td>&lt;function mutual_info_regression at 0x0000018C...</td>\n",
       "      <td>{'selectkbest__k': 5, 'selectkbest__score_func...</td>\n",
       "      <td>-0.547246</td>\n",
       "      <td>-0.509849</td>\n",
       "      <td>-0.509177</td>\n",
       "      <td>-0.548822</td>\n",
       "      <td>-0.489953</td>\n",
       "      <td>-0.521010</td>\n",
       "      <td>0.023199</td>\n",
       "      <td>11</td>\n",
       "    </tr>\n",
       "    <tr>\n",
       "      <th>10</th>\n",
       "      <td>0.004400</td>\n",
       "      <td>0.001019</td>\n",
       "      <td>0.001600</td>\n",
       "      <td>4.925319e-04</td>\n",
       "      <td>6</td>\n",
       "      <td>&lt;function f_regression at 0x0000018CE2D01360&gt;</td>\n",
       "      <td>{'selectkbest__k': 6, 'selectkbest__score_func...</td>\n",
       "      <td>-0.545900</td>\n",
       "      <td>-0.497324</td>\n",
       "      <td>-0.505293</td>\n",
       "      <td>-0.540403</td>\n",
       "      <td>-0.487873</td>\n",
       "      <td>-0.515359</td>\n",
       "      <td>0.023418</td>\n",
       "      <td>10</td>\n",
       "    </tr>\n",
       "    <tr>\n",
       "      <th>11</th>\n",
       "      <td>0.336709</td>\n",
       "      <td>0.009831</td>\n",
       "      <td>0.001402</td>\n",
       "      <td>4.901987e-04</td>\n",
       "      <td>6</td>\n",
       "      <td>&lt;function mutual_info_regression at 0x0000018C...</td>\n",
       "      <td>{'selectkbest__k': 6, 'selectkbest__score_func...</td>\n",
       "      <td>-0.545900</td>\n",
       "      <td>-0.497324</td>\n",
       "      <td>-0.386253</td>\n",
       "      <td>-0.540403</td>\n",
       "      <td>-0.379731</td>\n",
       "      <td>-0.469922</td>\n",
       "      <td>0.072974</td>\n",
       "      <td>9</td>\n",
       "    </tr>\n",
       "    <tr>\n",
       "      <th>12</th>\n",
       "      <td>0.004162</td>\n",
       "      <td>0.000710</td>\n",
       "      <td>0.001401</td>\n",
       "      <td>4.898432e-04</td>\n",
       "      <td>7</td>\n",
       "      <td>&lt;function f_regression at 0x0000018CE2D01360&gt;</td>\n",
       "      <td>{'selectkbest__k': 7, 'selectkbest__score_func...</td>\n",
       "      <td>-0.349777</td>\n",
       "      <td>-0.406696</td>\n",
       "      <td>-0.386899</td>\n",
       "      <td>-0.365457</td>\n",
       "      <td>-0.380649</td>\n",
       "      <td>-0.377896</td>\n",
       "      <td>0.019305</td>\n",
       "      <td>5</td>\n",
       "    </tr>\n",
       "    <tr>\n",
       "      <th>13</th>\n",
       "      <td>0.328768</td>\n",
       "      <td>0.011993</td>\n",
       "      <td>0.001198</td>\n",
       "      <td>4.005720e-04</td>\n",
       "      <td>7</td>\n",
       "      <td>&lt;function mutual_info_regression at 0x0000018C...</td>\n",
       "      <td>{'selectkbest__k': 7, 'selectkbest__score_func...</td>\n",
       "      <td>-0.349777</td>\n",
       "      <td>-0.406696</td>\n",
       "      <td>-0.386899</td>\n",
       "      <td>-0.365457</td>\n",
       "      <td>-0.380649</td>\n",
       "      <td>-0.377896</td>\n",
       "      <td>0.019305</td>\n",
       "      <td>5</td>\n",
       "    </tr>\n",
       "    <tr>\n",
       "      <th>14</th>\n",
       "      <td>0.004098</td>\n",
       "      <td>0.000665</td>\n",
       "      <td>0.001401</td>\n",
       "      <td>4.927875e-04</td>\n",
       "      <td>8</td>\n",
       "      <td>&lt;function f_regression at 0x0000018CE2D01360&gt;</td>\n",
       "      <td>{'selectkbest__k': 8, 'selectkbest__score_func...</td>\n",
       "      <td>-0.349813</td>\n",
       "      <td>-0.406767</td>\n",
       "      <td>-0.387764</td>\n",
       "      <td>-0.364707</td>\n",
       "      <td>-0.381157</td>\n",
       "      <td>-0.378042</td>\n",
       "      <td>0.019515</td>\n",
       "      <td>8</td>\n",
       "    </tr>\n",
       "    <tr>\n",
       "      <th>15</th>\n",
       "      <td>0.337988</td>\n",
       "      <td>0.006327</td>\n",
       "      <td>0.001200</td>\n",
       "      <td>4.000938e-04</td>\n",
       "      <td>8</td>\n",
       "      <td>&lt;function mutual_info_regression at 0x0000018C...</td>\n",
       "      <td>{'selectkbest__k': 8, 'selectkbest__score_func...</td>\n",
       "      <td>-0.350006</td>\n",
       "      <td>-0.406767</td>\n",
       "      <td>-0.386755</td>\n",
       "      <td>-0.365342</td>\n",
       "      <td>-0.381157</td>\n",
       "      <td>-0.378005</td>\n",
       "      <td>0.019277</td>\n",
       "      <td>7</td>\n",
       "    </tr>\n",
       "    <tr>\n",
       "      <th>16</th>\n",
       "      <td>0.003998</td>\n",
       "      <td>0.000003</td>\n",
       "      <td>0.001400</td>\n",
       "      <td>4.884534e-04</td>\n",
       "      <td>9</td>\n",
       "      <td>&lt;function f_regression at 0x0000018CE2D01360&gt;</td>\n",
       "      <td>{'selectkbest__k': 9, 'selectkbest__score_func...</td>\n",
       "      <td>-0.350414</td>\n",
       "      <td>-0.405929</td>\n",
       "      <td>-0.384554</td>\n",
       "      <td>-0.364615</td>\n",
       "      <td>-0.382140</td>\n",
       "      <td>-0.377531</td>\n",
       "      <td>0.018864</td>\n",
       "      <td>2</td>\n",
       "    </tr>\n",
       "    <tr>\n",
       "      <th>17</th>\n",
       "      <td>0.319282</td>\n",
       "      <td>0.004726</td>\n",
       "      <td>0.001000</td>\n",
       "      <td>2.861023e-07</td>\n",
       "      <td>9</td>\n",
       "      <td>&lt;function mutual_info_regression at 0x0000018C...</td>\n",
       "      <td>{'selectkbest__k': 9, 'selectkbest__score_func...</td>\n",
       "      <td>-0.349569</td>\n",
       "      <td>-0.406775</td>\n",
       "      <td>-0.386097</td>\n",
       "      <td>-0.365828</td>\n",
       "      <td>-0.380346</td>\n",
       "      <td>-0.377723</td>\n",
       "      <td>0.019262</td>\n",
       "      <td>3</td>\n",
       "    </tr>\n",
       "    <tr>\n",
       "      <th>18</th>\n",
       "      <td>0.004598</td>\n",
       "      <td>0.001200</td>\n",
       "      <td>0.001801</td>\n",
       "      <td>7.492399e-04</td>\n",
       "      <td>10</td>\n",
       "      <td>&lt;function f_regression at 0x0000018CE2D01360&gt;</td>\n",
       "      <td>{'selectkbest__k': 10, 'selectkbest__score_fun...</td>\n",
       "      <td>-0.350517</td>\n",
       "      <td>-0.412796</td>\n",
       "      <td>-0.384529</td>\n",
       "      <td>-0.356543</td>\n",
       "      <td>-0.379016</td>\n",
       "      <td>-0.376680</td>\n",
       "      <td>0.022187</td>\n",
       "      <td>1</td>\n",
       "    </tr>\n",
       "    <tr>\n",
       "      <th>19</th>\n",
       "      <td>0.268041</td>\n",
       "      <td>0.036180</td>\n",
       "      <td>0.001000</td>\n",
       "      <td>1.040336e-06</td>\n",
       "      <td>10</td>\n",
       "      <td>&lt;function mutual_info_regression at 0x0000018C...</td>\n",
       "      <td>{'selectkbest__k': 10, 'selectkbest__score_fun...</td>\n",
       "      <td>-0.349865</td>\n",
       "      <td>-0.405436</td>\n",
       "      <td>-0.387091</td>\n",
       "      <td>-0.363189</td>\n",
       "      <td>-0.383729</td>\n",
       "      <td>-0.377862</td>\n",
       "      <td>0.019386</td>\n",
       "      <td>4</td>\n",
       "    </tr>\n",
       "  </tbody>\n",
       "</table>\n",
       "</div>"
      ],
      "text/plain": [
       "    mean_fit_time  std_fit_time  mean_score_time  std_score_time  \\\n",
       "0        0.019001      0.005018         0.001801    3.994343e-04   \n",
       "1        0.347796      0.018508         0.001599    4.891631e-04   \n",
       "2        0.009796      0.005492         0.001603    4.896754e-04   \n",
       "3        0.328195      0.010084         0.001599    4.886638e-04   \n",
       "4        0.004400      0.000491         0.001199    4.009042e-04   \n",
       "5        0.334600      0.014430         0.001601    4.911482e-04   \n",
       "6        0.004799      0.000749         0.001201    4.004762e-04   \n",
       "7        0.334998      0.008486         0.001400    4.904672e-04   \n",
       "8        0.003801      0.000399         0.001201    4.000206e-04   \n",
       "9        0.333706      0.009571         0.001400    4.894540e-04   \n",
       "10       0.004400      0.001019         0.001600    4.925319e-04   \n",
       "11       0.336709      0.009831         0.001402    4.901987e-04   \n",
       "12       0.004162      0.000710         0.001401    4.898432e-04   \n",
       "13       0.328768      0.011993         0.001198    4.005720e-04   \n",
       "14       0.004098      0.000665         0.001401    4.927875e-04   \n",
       "15       0.337988      0.006327         0.001200    4.000938e-04   \n",
       "16       0.003998      0.000003         0.001400    4.884534e-04   \n",
       "17       0.319282      0.004726         0.001000    2.861023e-07   \n",
       "18       0.004598      0.001200         0.001801    7.492399e-04   \n",
       "19       0.268041      0.036180         0.001000    1.040336e-06   \n",
       "\n",
       "   param_selectkbest__k                      param_selectkbest__score_func  \\\n",
       "0                     1      <function f_regression at 0x0000018CE2D01360>   \n",
       "1                     1  <function mutual_info_regression at 0x0000018C...   \n",
       "2                     2      <function f_regression at 0x0000018CE2D01360>   \n",
       "3                     2  <function mutual_info_regression at 0x0000018C...   \n",
       "4                     3      <function f_regression at 0x0000018CE2D01360>   \n",
       "5                     3  <function mutual_info_regression at 0x0000018C...   \n",
       "6                     4      <function f_regression at 0x0000018CE2D01360>   \n",
       "7                     4  <function mutual_info_regression at 0x0000018C...   \n",
       "8                     5      <function f_regression at 0x0000018CE2D01360>   \n",
       "9                     5  <function mutual_info_regression at 0x0000018C...   \n",
       "10                    6      <function f_regression at 0x0000018CE2D01360>   \n",
       "11                    6  <function mutual_info_regression at 0x0000018C...   \n",
       "12                    7      <function f_regression at 0x0000018CE2D01360>   \n",
       "13                    7  <function mutual_info_regression at 0x0000018C...   \n",
       "14                    8      <function f_regression at 0x0000018CE2D01360>   \n",
       "15                    8  <function mutual_info_regression at 0x0000018C...   \n",
       "16                    9      <function f_regression at 0x0000018CE2D01360>   \n",
       "17                    9  <function mutual_info_regression at 0x0000018C...   \n",
       "18                   10      <function f_regression at 0x0000018CE2D01360>   \n",
       "19                   10  <function mutual_info_regression at 0x0000018C...   \n",
       "\n",
       "                                               params  split0_test_score  \\\n",
       "0   {'selectkbest__k': 1, 'selectkbest__score_func...          -3.085352   \n",
       "1   {'selectkbest__k': 1, 'selectkbest__score_func...          -3.085352   \n",
       "2   {'selectkbest__k': 2, 'selectkbest__score_func...          -1.124360   \n",
       "3   {'selectkbest__k': 2, 'selectkbest__score_func...          -1.124360   \n",
       "4   {'selectkbest__k': 3, 'selectkbest__score_func...          -1.121435   \n",
       "5   {'selectkbest__k': 3, 'selectkbest__score_func...          -1.121435   \n",
       "6   {'selectkbest__k': 4, 'selectkbest__score_func...          -0.552931   \n",
       "7   {'selectkbest__k': 4, 'selectkbest__score_func...          -0.552931   \n",
       "8   {'selectkbest__k': 5, 'selectkbest__score_func...          -0.550698   \n",
       "9   {'selectkbest__k': 5, 'selectkbest__score_func...          -0.547246   \n",
       "10  {'selectkbest__k': 6, 'selectkbest__score_func...          -0.545900   \n",
       "11  {'selectkbest__k': 6, 'selectkbest__score_func...          -0.545900   \n",
       "12  {'selectkbest__k': 7, 'selectkbest__score_func...          -0.349777   \n",
       "13  {'selectkbest__k': 7, 'selectkbest__score_func...          -0.349777   \n",
       "14  {'selectkbest__k': 8, 'selectkbest__score_func...          -0.349813   \n",
       "15  {'selectkbest__k': 8, 'selectkbest__score_func...          -0.350006   \n",
       "16  {'selectkbest__k': 9, 'selectkbest__score_func...          -0.350414   \n",
       "17  {'selectkbest__k': 9, 'selectkbest__score_func...          -0.349569   \n",
       "18  {'selectkbest__k': 10, 'selectkbest__score_fun...          -0.350517   \n",
       "19  {'selectkbest__k': 10, 'selectkbest__score_fun...          -0.349865   \n",
       "\n",
       "    split1_test_score  split2_test_score  split3_test_score  \\\n",
       "0           -3.623526          -3.330173          -3.479427   \n",
       "1           -3.623526          -3.330173          -3.479427   \n",
       "2           -3.631806          -3.331630          -1.074533   \n",
       "3           -1.097453          -1.042697          -1.074533   \n",
       "4           -1.078426          -1.039469          -1.071359   \n",
       "5           -1.078426          -1.039469          -0.902718   \n",
       "6           -0.513276          -0.522180          -0.562066   \n",
       "7           -0.513276          -0.522180          -0.562066   \n",
       "8           -0.509849          -0.519118          -0.556645   \n",
       "9           -0.509849          -0.509177          -0.548822   \n",
       "10          -0.497324          -0.505293          -0.540403   \n",
       "11          -0.497324          -0.386253          -0.540403   \n",
       "12          -0.406696          -0.386899          -0.365457   \n",
       "13          -0.406696          -0.386899          -0.365457   \n",
       "14          -0.406767          -0.387764          -0.364707   \n",
       "15          -0.406767          -0.386755          -0.365342   \n",
       "16          -0.405929          -0.384554          -0.364615   \n",
       "17          -0.406775          -0.386097          -0.365828   \n",
       "18          -0.412796          -0.384529          -0.356543   \n",
       "19          -0.405436          -0.387091          -0.363189   \n",
       "\n",
       "    split4_test_score  mean_test_score  std_test_score  rank_test_score  \n",
       "0           -2.943924        -3.292480        0.249141               19  \n",
       "1           -2.943924        -3.292480        0.249141               19  \n",
       "2           -1.078144        -2.048095        1.174523               18  \n",
       "3           -1.078144        -1.083438        0.026975               17  \n",
       "4           -1.074366        -1.077011        0.026168               16  \n",
       "5           -0.926761        -1.013762        0.085248               15  \n",
       "6           -0.492656        -0.528622        0.025612               13  \n",
       "7           -0.492656        -0.528622        0.025612               13  \n",
       "8           -0.489953        -0.525253        0.025115               12  \n",
       "9           -0.489953        -0.521010        0.023199               11  \n",
       "10          -0.487873        -0.515359        0.023418               10  \n",
       "11          -0.379731        -0.469922        0.072974                9  \n",
       "12          -0.380649        -0.377896        0.019305                5  \n",
       "13          -0.380649        -0.377896        0.019305                5  \n",
       "14          -0.381157        -0.378042        0.019515                8  \n",
       "15          -0.381157        -0.378005        0.019277                7  \n",
       "16          -0.382140        -0.377531        0.018864                2  \n",
       "17          -0.380346        -0.377723        0.019262                3  \n",
       "18          -0.379016        -0.376680        0.022187                1  \n",
       "19          -0.383729        -0.377862        0.019386                4  "
      ]
     },
     "execution_count": 28,
     "metadata": {},
     "output_type": "execute_result"
    }
   ],
   "source": [
    "results"
   ]
  },
  {
   "cell_type": "code",
   "execution_count": 26,
   "id": "a38b1c6a-c932-4752-9411-a0b7499c109f",
   "metadata": {
    "tags": []
   },
   "outputs": [
    {
     "data": {
      "text/html": [
       "<div>\n",
       "<style scoped>\n",
       "    .dataframe tbody tr th:only-of-type {\n",
       "        vertical-align: middle;\n",
       "    }\n",
       "\n",
       "    .dataframe tbody tr th {\n",
       "        vertical-align: top;\n",
       "    }\n",
       "\n",
       "    .dataframe thead th {\n",
       "        text-align: right;\n",
       "    }\n",
       "</style>\n",
       "<table border=\"1\" class=\"dataframe\">\n",
       "  <thead>\n",
       "    <tr style=\"text-align: right;\">\n",
       "      <th></th>\n",
       "      <th>param_selectkbest__k</th>\n",
       "      <th>param_selectkbest__score_func</th>\n",
       "      <th>mean_test_score</th>\n",
       "      <th>std_test_score</th>\n",
       "    </tr>\n",
       "  </thead>\n",
       "  <tbody>\n",
       "    <tr>\n",
       "      <th>18</th>\n",
       "      <td>10</td>\n",
       "      <td>&lt;function f_regression at 0x0000018CE2D01360&gt;</td>\n",
       "      <td>-0.376680</td>\n",
       "      <td>0.022187</td>\n",
       "    </tr>\n",
       "    <tr>\n",
       "      <th>16</th>\n",
       "      <td>9</td>\n",
       "      <td>&lt;function f_regression at 0x0000018CE2D01360&gt;</td>\n",
       "      <td>-0.377531</td>\n",
       "      <td>0.018864</td>\n",
       "    </tr>\n",
       "    <tr>\n",
       "      <th>17</th>\n",
       "      <td>9</td>\n",
       "      <td>&lt;function mutual_info_regression at 0x0000018C...</td>\n",
       "      <td>-0.377723</td>\n",
       "      <td>0.019262</td>\n",
       "    </tr>\n",
       "    <tr>\n",
       "      <th>19</th>\n",
       "      <td>10</td>\n",
       "      <td>&lt;function mutual_info_regression at 0x0000018C...</td>\n",
       "      <td>-0.377862</td>\n",
       "      <td>0.019386</td>\n",
       "    </tr>\n",
       "    <tr>\n",
       "      <th>13</th>\n",
       "      <td>7</td>\n",
       "      <td>&lt;function mutual_info_regression at 0x0000018C...</td>\n",
       "      <td>-0.377896</td>\n",
       "      <td>0.019305</td>\n",
       "    </tr>\n",
       "    <tr>\n",
       "      <th>12</th>\n",
       "      <td>7</td>\n",
       "      <td>&lt;function f_regression at 0x0000018CE2D01360&gt;</td>\n",
       "      <td>-0.377896</td>\n",
       "      <td>0.019305</td>\n",
       "    </tr>\n",
       "    <tr>\n",
       "      <th>15</th>\n",
       "      <td>8</td>\n",
       "      <td>&lt;function mutual_info_regression at 0x0000018C...</td>\n",
       "      <td>-0.378005</td>\n",
       "      <td>0.019277</td>\n",
       "    </tr>\n",
       "    <tr>\n",
       "      <th>14</th>\n",
       "      <td>8</td>\n",
       "      <td>&lt;function f_regression at 0x0000018CE2D01360&gt;</td>\n",
       "      <td>-0.378042</td>\n",
       "      <td>0.019515</td>\n",
       "    </tr>\n",
       "    <tr>\n",
       "      <th>11</th>\n",
       "      <td>6</td>\n",
       "      <td>&lt;function mutual_info_regression at 0x0000018C...</td>\n",
       "      <td>-0.469922</td>\n",
       "      <td>0.072974</td>\n",
       "    </tr>\n",
       "    <tr>\n",
       "      <th>10</th>\n",
       "      <td>6</td>\n",
       "      <td>&lt;function f_regression at 0x0000018CE2D01360&gt;</td>\n",
       "      <td>-0.515359</td>\n",
       "      <td>0.023418</td>\n",
       "    </tr>\n",
       "    <tr>\n",
       "      <th>9</th>\n",
       "      <td>5</td>\n",
       "      <td>&lt;function mutual_info_regression at 0x0000018C...</td>\n",
       "      <td>-0.521010</td>\n",
       "      <td>0.023199</td>\n",
       "    </tr>\n",
       "    <tr>\n",
       "      <th>8</th>\n",
       "      <td>5</td>\n",
       "      <td>&lt;function f_regression at 0x0000018CE2D01360&gt;</td>\n",
       "      <td>-0.525253</td>\n",
       "      <td>0.025115</td>\n",
       "    </tr>\n",
       "    <tr>\n",
       "      <th>7</th>\n",
       "      <td>4</td>\n",
       "      <td>&lt;function mutual_info_regression at 0x0000018C...</td>\n",
       "      <td>-0.528622</td>\n",
       "      <td>0.025612</td>\n",
       "    </tr>\n",
       "    <tr>\n",
       "      <th>6</th>\n",
       "      <td>4</td>\n",
       "      <td>&lt;function f_regression at 0x0000018CE2D01360&gt;</td>\n",
       "      <td>-0.528622</td>\n",
       "      <td>0.025612</td>\n",
       "    </tr>\n",
       "    <tr>\n",
       "      <th>5</th>\n",
       "      <td>3</td>\n",
       "      <td>&lt;function mutual_info_regression at 0x0000018C...</td>\n",
       "      <td>-1.013762</td>\n",
       "      <td>0.085248</td>\n",
       "    </tr>\n",
       "    <tr>\n",
       "      <th>4</th>\n",
       "      <td>3</td>\n",
       "      <td>&lt;function f_regression at 0x0000018CE2D01360&gt;</td>\n",
       "      <td>-1.077011</td>\n",
       "      <td>0.026168</td>\n",
       "    </tr>\n",
       "    <tr>\n",
       "      <th>3</th>\n",
       "      <td>2</td>\n",
       "      <td>&lt;function mutual_info_regression at 0x0000018C...</td>\n",
       "      <td>-1.083438</td>\n",
       "      <td>0.026975</td>\n",
       "    </tr>\n",
       "    <tr>\n",
       "      <th>2</th>\n",
       "      <td>2</td>\n",
       "      <td>&lt;function f_regression at 0x0000018CE2D01360&gt;</td>\n",
       "      <td>-2.048095</td>\n",
       "      <td>1.174523</td>\n",
       "    </tr>\n",
       "    <tr>\n",
       "      <th>1</th>\n",
       "      <td>1</td>\n",
       "      <td>&lt;function mutual_info_regression at 0x0000018C...</td>\n",
       "      <td>-3.292480</td>\n",
       "      <td>0.249141</td>\n",
       "    </tr>\n",
       "    <tr>\n",
       "      <th>0</th>\n",
       "      <td>1</td>\n",
       "      <td>&lt;function f_regression at 0x0000018CE2D01360&gt;</td>\n",
       "      <td>-3.292480</td>\n",
       "      <td>0.249141</td>\n",
       "    </tr>\n",
       "  </tbody>\n",
       "</table>\n",
       "</div>"
      ],
      "text/plain": [
       "   param_selectkbest__k                      param_selectkbest__score_func  \\\n",
       "18                   10      <function f_regression at 0x0000018CE2D01360>   \n",
       "16                    9      <function f_regression at 0x0000018CE2D01360>   \n",
       "17                    9  <function mutual_info_regression at 0x0000018C...   \n",
       "19                   10  <function mutual_info_regression at 0x0000018C...   \n",
       "13                    7  <function mutual_info_regression at 0x0000018C...   \n",
       "12                    7      <function f_regression at 0x0000018CE2D01360>   \n",
       "15                    8  <function mutual_info_regression at 0x0000018C...   \n",
       "14                    8      <function f_regression at 0x0000018CE2D01360>   \n",
       "11                    6  <function mutual_info_regression at 0x0000018C...   \n",
       "10                    6      <function f_regression at 0x0000018CE2D01360>   \n",
       "9                     5  <function mutual_info_regression at 0x0000018C...   \n",
       "8                     5      <function f_regression at 0x0000018CE2D01360>   \n",
       "7                     4  <function mutual_info_regression at 0x0000018C...   \n",
       "6                     4      <function f_regression at 0x0000018CE2D01360>   \n",
       "5                     3  <function mutual_info_regression at 0x0000018C...   \n",
       "4                     3      <function f_regression at 0x0000018CE2D01360>   \n",
       "3                     2  <function mutual_info_regression at 0x0000018C...   \n",
       "2                     2      <function f_regression at 0x0000018CE2D01360>   \n",
       "1                     1  <function mutual_info_regression at 0x0000018C...   \n",
       "0                     1      <function f_regression at 0x0000018CE2D01360>   \n",
       "\n",
       "    mean_test_score  std_test_score  \n",
       "18        -0.376680        0.022187  \n",
       "16        -0.377531        0.018864  \n",
       "17        -0.377723        0.019262  \n",
       "19        -0.377862        0.019386  \n",
       "13        -0.377896        0.019305  \n",
       "12        -0.377896        0.019305  \n",
       "15        -0.378005        0.019277  \n",
       "14        -0.378042        0.019515  \n",
       "11        -0.469922        0.072974  \n",
       "10        -0.515359        0.023418  \n",
       "9         -0.521010        0.023199  \n",
       "8         -0.525253        0.025115  \n",
       "7         -0.528622        0.025612  \n",
       "6         -0.528622        0.025612  \n",
       "5         -1.013762        0.085248  \n",
       "4         -1.077011        0.026168  \n",
       "3         -1.083438        0.026975  \n",
       "2         -2.048095        1.174523  \n",
       "1         -3.292480        0.249141  \n",
       "0         -3.292480        0.249141  "
      ]
     },
     "execution_count": 26,
     "metadata": {},
     "output_type": "execute_result"
    }
   ],
   "source": [
    "results = pd.DataFrame(cv.cv_results_)  \n",
    "results[['param_selectkbest__k','param_selectkbest__score_func','mean_test_score','std_test_score']]\\\n",
    "    .sort_values('mean_test_score',ascending=False)"
   ]
  },
  {
   "cell_type": "code",
   "execution_count": 27,
   "id": "616b8b8c-64d9-4993-95ed-187bb804d451",
   "metadata": {
    "tags": []
   },
   "outputs": [
    {
     "data": {
      "image/png": "[encoded data removed]",
      "text/plain": [
       "<Figure size 979.25x500 with 1 Axes>"
      ]
     },
     "metadata": {},
     "output_type": "display_data"
    }
   ],
   "source": [
    "sns.relplot(results, x='param_selectkbest__k', y='mean_test_score', style='param_selectkbest__score_func')\n",
    "plt.show()"
   ]
  },
  {
   "cell_type": "code",
   "execution_count": 29,
   "id": "b21d4f4d-cab5-46b7-bf38-f6b4db85b98f",
   "metadata": {
    "tags": []
   },
   "outputs": [
    {
     "data": {
      "image/png": "[encoded data removed]",
      "text/plain": [
       "<Figure size 979.25x500 with 1 Axes>"
      ]
     },
     "metadata": {},
     "output_type": "display_data"
    }
   ],
   "source": [
    "sns.relplot(results, x='param_selectkbest__k', y='mean_fit_time', style='param_selectkbest__score_func')\n",
    "plt.show()"
   ]
  },
  {
   "cell_type": "markdown",
   "id": "db29ea61-40e2-4678-bbe0-f65c40a54d62",
   "metadata": {
    "tags": []
   },
   "source": [
    "##### Part 3: Model Comparison\n",
    " - fit and predict using default model parameters\n",
    " - consider score, fit time\n",
    " - LinReg, Ridge, GB, XGB worth considering and tuning\n",
    "   - can try full exploration of various XGB options\n",
    "   - include ExtraTrees?\n",
    " - for final nomination consider stacking regressors"
   ]
  },
  {
   "cell_type": "code",
   "execution_count": 36,
   "id": "b7987d93-9e58-451a-925d-94387361df24",
   "metadata": {
    "tags": []
   },
   "outputs": [],
   "source": [
    "def_models = {\n",
    "    'linreg': LinearRegression(),\n",
    "    'Ridge': Ridge(),\n",
    "    'Lasso': Lasso(),\n",
    "    'SGD': SGDRegressor(),\n",
    "    'random forest': RandomForestRegressor(),\n",
    "    'et': ExtraTreesRegressor(),\n",
    "    'gradient boosting': GradientBoostingRegressor(),\n",
    "    'xgb_linear': xgb.XGBRegressor(booster=\"gblinear\"),\n",
    "    'xgb_tree': xgb.XGBRegressor(booster=\"gbtree\"),\n",
    "}\n",
    "\n",
    "# Ridge,  Lasso()"
   ]
  },
  {
   "cell_type": "code",
   "execution_count": 37,
   "id": "6df19f34-c8d8-41bc-8ba6-20fcba5b6ff2",
   "metadata": {
    "tags": []
   },
   "outputs": [],
   "source": [
    "model_scores = pd.DataFrame()"
   ]
  },
  {
   "cell_type": "code",
   "execution_count": 38,
   "id": "cce74d5e-af2d-48c5-a247-3b3d744f8de9",
   "metadata": {},
   "outputs": [],
   "source": [
    "def model_scoring(name, model):\n",
    "    cv = cross_validate(model, \n",
    "                        SelectKBest(mutual_info_regression,k=6).fit_transform(X,y), \n",
    "                        #X,\n",
    "                        y, \n",
    "                        cv=8, \n",
    "                        scoring='neg_root_mean_squared_error')\n",
    "    model_scores.loc[name, 'score'] = round(1e3*np.mean(cv['test_score']))\n",
    "    model_scores.loc[name, 'std'] = round(np.std(cv['test_score']))\n",
    "    model_scores.loc[name, 'fit_time'] = round(cv['fit_time'].sum(),2)"
   ]
  },
  {
   "cell_type": "code",
   "execution_count": 39,
   "id": "0f7eee9b-47d0-46b9-a776-37571f30dd4c",
   "metadata": {},
   "outputs": [
    {
     "name": "stdout",
     "output_type": "stream",
     "text": [
      "CPU times: total: 26.7 s\n",
      "Wall time: 15.5 s\n"
     ]
    }
   ],
   "source": [
    "%%time\n",
    "for name,model in def_models.items():\n",
    "    model_scoring(name,model)"
   ]
  },
  {
   "cell_type": "code",
   "execution_count": 40,
   "id": "58ee0714-4c30-4f2f-9246-5d2f714a0f44",
   "metadata": {},
   "outputs": [
    {
     "data": {
      "text/html": [
       "<div>\n",
       "<style scoped>\n",
       "    .dataframe tbody tr th:only-of-type {\n",
       "        vertical-align: middle;\n",
       "    }\n",
       "\n",
       "    .dataframe tbody tr th {\n",
       "        vertical-align: top;\n",
       "    }\n",
       "\n",
       "    .dataframe thead th {\n",
       "        text-align: right;\n",
       "    }\n",
       "</style>\n",
       "<table border=\"1\" class=\"dataframe\">\n",
       "  <thead>\n",
       "    <tr style=\"text-align: right;\">\n",
       "      <th></th>\n",
       "      <th>score</th>\n",
       "      <th>std</th>\n",
       "      <th>fit_time</th>\n",
       "    </tr>\n",
       "  </thead>\n",
       "  <tbody>\n",
       "    <tr>\n",
       "      <th>linreg</th>\n",
       "      <td>-343.0</td>\n",
       "      <td>0.0</td>\n",
       "      <td>0.01</td>\n",
       "    </tr>\n",
       "    <tr>\n",
       "      <th>Ridge</th>\n",
       "      <td>-441.0</td>\n",
       "      <td>0.0</td>\n",
       "      <td>0.01</td>\n",
       "    </tr>\n",
       "    <tr>\n",
       "      <th>et</th>\n",
       "      <td>-568.0</td>\n",
       "      <td>0.0</td>\n",
       "      <td>3.40</td>\n",
       "    </tr>\n",
       "    <tr>\n",
       "      <th>gradient boosting</th>\n",
       "      <td>-595.0</td>\n",
       "      <td>0.0</td>\n",
       "      <td>1.68</td>\n",
       "    </tr>\n",
       "    <tr>\n",
       "      <th>xgb_tree</th>\n",
       "      <td>-649.0</td>\n",
       "      <td>0.0</td>\n",
       "      <td>0.71</td>\n",
       "    </tr>\n",
       "    <tr>\n",
       "      <th>random forest</th>\n",
       "      <td>-692.0</td>\n",
       "      <td>0.0</td>\n",
       "      <td>6.15</td>\n",
       "    </tr>\n",
       "    <tr>\n",
       "      <th>SGD</th>\n",
       "      <td>-832.0</td>\n",
       "      <td>0.0</td>\n",
       "      <td>0.12</td>\n",
       "    </tr>\n",
       "    <tr>\n",
       "      <th>xgb_linear</th>\n",
       "      <td>-848.0</td>\n",
       "      <td>0.0</td>\n",
       "      <td>0.12</td>\n",
       "    </tr>\n",
       "    <tr>\n",
       "      <th>Lasso</th>\n",
       "      <td>-1100.0</td>\n",
       "      <td>0.0</td>\n",
       "      <td>0.01</td>\n",
       "    </tr>\n",
       "  </tbody>\n",
       "</table>\n",
       "</div>"
      ],
      "text/plain": [
       "                    score  std  fit_time\n",
       "linreg             -343.0  0.0      0.01\n",
       "Ridge              -441.0  0.0      0.01\n",
       "et                 -568.0  0.0      3.40\n",
       "gradient boosting  -595.0  0.0      1.68\n",
       "xgb_tree           -649.0  0.0      0.71\n",
       "random forest      -692.0  0.0      6.15\n",
       "SGD                -832.0  0.0      0.12\n",
       "xgb_linear         -848.0  0.0      0.12\n",
       "Lasso             -1100.0  0.0      0.01"
      ]
     },
     "execution_count": 40,
     "metadata": {},
     "output_type": "execute_result"
    }
   ],
   "source": [
    "model_scores.sort_values('score', ascending=False)"
   ]
  },
  {
   "cell_type": "code",
   "execution_count": 35,
   "id": "23cf4334-35e3-4339-9a4c-f330dac31d05",
   "metadata": {
    "tags": []
   },
   "outputs": [
    {
     "data": {
      "text/html": [
       "<div>\n",
       "<style scoped>\n",
       "    .dataframe tbody tr th:only-of-type {\n",
       "        vertical-align: middle;\n",
       "    }\n",
       "\n",
       "    .dataframe tbody tr th {\n",
       "        vertical-align: top;\n",
       "    }\n",
       "\n",
       "    .dataframe thead th {\n",
       "        text-align: right;\n",
       "    }\n",
       "</style>\n",
       "<table border=\"1\" class=\"dataframe\">\n",
       "  <thead>\n",
       "    <tr style=\"text-align: right;\">\n",
       "      <th></th>\n",
       "      <th>score</th>\n",
       "      <th>std</th>\n",
       "      <th>fit_time</th>\n",
       "    </tr>\n",
       "  </thead>\n",
       "  <tbody>\n",
       "    <tr>\n",
       "      <th>et</th>\n",
       "      <td>-560.0</td>\n",
       "      <td>0.0</td>\n",
       "      <td>3.39</td>\n",
       "    </tr>\n",
       "    <tr>\n",
       "      <th>gradient boosting</th>\n",
       "      <td>-598.0</td>\n",
       "      <td>0.0</td>\n",
       "      <td>1.66</td>\n",
       "    </tr>\n",
       "    <tr>\n",
       "      <th>hist</th>\n",
       "      <td>-743.0</td>\n",
       "      <td>0.0</td>\n",
       "      <td>3.69</td>\n",
       "    </tr>\n",
       "    <tr>\n",
       "      <th>bag</th>\n",
       "      <td>-760.0</td>\n",
       "      <td>0.0</td>\n",
       "      <td>0.64</td>\n",
       "    </tr>\n",
       "    <tr>\n",
       "      <th>ada</th>\n",
       "      <td>-1464.0</td>\n",
       "      <td>0.0</td>\n",
       "      <td>1.08</td>\n",
       "    </tr>\n",
       "  </tbody>\n",
       "</table>\n",
       "</div>"
      ],
      "text/plain": [
       "                    score  std  fit_time\n",
       "et                 -560.0  0.0      3.39\n",
       "gradient boosting  -598.0  0.0      1.66\n",
       "hist               -743.0  0.0      3.69\n",
       "bag                -760.0  0.0      0.64\n",
       "ada               -1464.0  0.0      1.08"
      ]
     },
     "execution_count": 35,
     "metadata": {},
     "output_type": "execute_result"
    }
   ],
   "source": [
    "model_scores.sort_values('score', ascending=False)"
   ]
  },
  {
   "cell_type": "markdown",
   "id": "0a2662a5-ab0d-4973-8300-834527c925c9",
   "metadata": {},
   "source": [
    "##### Part 4: XGBoost\n",
    " - have not used outside of tutorial thus far | [guide](https://xgboost.readthedocs.io/en/stable/tutorials/model.html)\n",
    " - [parameters](https://xgboost.readthedocs.io/en/stable/parameter.html)\n",
    "   - various `boster`'s available, default is `gbtree`\n",
    "     - specific parameters when using tree booster: learning rate, max_depth, etc . . .\n",
    "   - `gblinear` booster also has options"
   ]
  },
  {
   "cell_type": "code",
   "execution_count": null,
   "id": "21d865ef-d74e-45cd-8028-71e6cbc1adf3",
   "metadata": {},
   "outputs": [],
   "source": []
  },
  {
   "cell_type": "markdown",
   "id": "ea605a58-faee-47a4-88b1-cca27edd2687",
   "metadata": {},
   "source": [
    "### Preliminary Tuning\n",
    "*provide final model selections for next step*\n",
    "\n",
    "  - linear regression models relatively fast, so can utilize full grid search instead of randomzied search\n",
    "  - random search more appropriate for GradientBoosting, ExtraTrees which have longer fit times\n",
    "  - relatively large range and few points for now, centered around default when possible\n",
    "  - plot relationships and view results tables\n",
    "    - cv score (X_train folded 5 times), test score (X_test)\n",
    "    - best estimator predictions vs actual"
   ]
  },
  {
   "cell_type": "markdown",
   "id": "423bffb4-a166-4b49-8456-e25959a903a2",
   "metadata": {},
   "source": [
    "##### LinReg, Ridge start"
   ]
  },
  {
   "cell_type": "code",
   "execution_count": null,
   "id": "0f619071-69da-4814-9dbe-9da24943bf11",
   "metadata": {},
   "outputs": [],
   "source": [
    "ks = [val+1 for val in range(10)]\n",
    "kb_pipe = make_pipeline(SelectKBest(score_func=f_regression, k=10), LinearRegression())"
   ]
  },
  {
   "cell_type": "code",
   "execution_count": null,
   "id": "7bbf9607-87b6-41d0-996d-5710add307ea",
   "metadata": {},
   "outputs": [],
   "source": [
    "grid_params = {\n",
    "    'selectkbest__k': ks,\n",
    "    'selectkbest__score_func': [f_regression, mutual_info_regression]\n",
    "}"
   ]
  },
  {
   "cell_type": "code",
   "execution_count": null,
   "id": "ceeb1584-af05-470b-ba5c-13235df835d7",
   "metadata": {},
   "outputs": [],
   "source": [
    "cv = GridSearchCV(kb_pipe, param_grid=grid_params, cv=5,\n",
    "                  scoring='neg_root_mean_squared_error', \n",
    "                  n_jobs=-1,)"
   ]
  },
  {
   "cell_type": "code",
   "execution_count": null,
   "id": "32218fae-067a-4238-8921-1d92f6175462",
   "metadata": {},
   "outputs": [],
   "source": [
    "%%time\n",
    "cv.fit(X_train,y_train)"
   ]
  },
  {
   "cell_type": "code",
   "execution_count": null,
   "id": "5fead60b-c00a-4902-834c-756f67818c24",
   "metadata": {},
   "outputs": [],
   "source": [
    "results = pd.DataFrame(cv.cv_results_)"
   ]
  },
  {
   "cell_type": "code",
   "execution_count": null,
   "id": "e70aa23e-a9d8-40eb-9201-adee96bee66b",
   "metadata": {},
   "outputs": [],
   "source": []
  },
  {
   "cell_type": "code",
   "execution_count": null,
   "id": "1435a607-5935-46d1-bf78-c1e37fc67bc3",
   "metadata": {},
   "outputs": [],
   "source": []
  },
  {
   "cell_type": "code",
   "execution_count": null,
   "id": "724c2f86-a856-4556-a2cb-32c59f296210",
   "metadata": {},
   "outputs": [],
   "source": []
  },
  {
   "cell_type": "code",
   "execution_count": null,
   "id": "42713981-458b-45cf-9025-a137819e0af1",
   "metadata": {},
   "outputs": [],
   "source": [
    "##### Part 2: KBest GridSearchCV"
   ]
  },
  {
   "cell_type": "code",
   "execution_count": null,
   "id": "3dff7a49-61cc-4d9c-a4a4-314ecdd7704a",
   "metadata": {},
   "outputs": [],
   "source": []
  },
  {
   "cell_type": "code",
   "execution_count": null,
   "id": "bd7d2993-8857-425a-806c-bc51050c0dea",
   "metadata": {},
   "outputs": [],
   "source": []
  },
  {
   "cell_type": "code",
   "execution_count": null,
   "id": "780567d2-2aab-477a-9291-8136cc46b139",
   "metadata": {},
   "outputs": [],
   "source": []
  },
  {
   "cell_type": "code",
   "execution_count": null,
   "id": "328a10d1-f3e6-4757-b73a-cbf997904d49",
   "metadata": {},
   "outputs": [],
   "source": [
    "##### Part 2: KBest GridSearchCV"
   ]
  }
 ],
 "metadata": {
  "kernelspec": {
   "display_name": "Python 3 (ipykernel)",
   "language": "python",
   "name": "python3"
  },
  "language_info": {
   "codemirror_mode": {
    "name": "ipython",
    "version": 3
   },
   "file_extension": ".py",
   "mimetype": "text/x-python",
   "name": "python",
   "nbconvert_exporter": "python",
   "pygments_lexer": "ipython3",
   "version": "3.10.13"
  }
 },
 "nbformat": 4,
 "nbformat_minor": 5
}
