{
 "cells": [
  {
   "cell_type": "markdown",
   "id": "3d4d2b72-0835-44f9-bf3a-e6545e31ab35",
   "metadata": {},
   "source": [
    "Checklist\n",
    "\n",
    "- try 2-3 different modelling methods with appropriate evaluation/metrics\n",
    "  - understand when to apply which types of models\n",
    "    - dicsuss in notebook: regression task . . . supervised\n",
    "  - identify one of the tested models as the best\n",
    "  \n",
    "*detailed*\n",
    " - \"try number of different methods\" --> repeat RSCV with various solvers, can do two rounds on this notebook\n",
    " - review model outcomes and iterate if needed\n",
    " - identify \"best\" model, note that it is not most performant (can include GradientBoosting to show tradeoff)\n",
    " - review target feature, results."
   ]
  },
  {
   "cell_type": "markdown",
   "id": "86fcc563-98dc-4760-943b-dc2233d79eaa",
   "metadata": {},
   "source": [
    "**Load Packages, Data**"
   ]
  },
  {
   "cell_type": "code",
   "execution_count": 1,
   "id": "0306e2ef-fe5b-4795-8427-190b4ed4b76f",
   "metadata": {},
   "outputs": [],
   "source": [
    "# data, numbers\n",
    "import pandas as pd\n",
    "import numpy as np\n",
    "from scipy import stats\n",
    "# plotting\n",
    "import seaborn as sns\n",
    "import matplotlib.pyplot as plt\n",
    "# utilities\n",
    "from time import time\n",
    "from tqdm import tqdm\n",
    "from pathlib import Path\n",
    "\n",
    "# Modeling and related from Scikit-Learn and XGBoost\n",
    "from sklearn.preprocessing import StandardScaler\n",
    "from sklearn.model_selection import train_test_split, RandomizedSearchCV\n",
    "from sklearn.feature_selection import SelectKBest, f_regression\n",
    "from sklearn.pipeline import make_pipeline\n",
    "from sklearn.metrics import mean_squared_error, mean_absolute_error\n",
    "# specific models\n",
    "from sklearn.linear_model import LinearRegression, Ridge\n",
    "from sklearn.ensemble import GradientBoostingRegressor\n",
    "import xgboost as xgb"
   ]
  },
  {
   "cell_type": "code",
   "execution_count": 2,
   "id": "8cf60687-a6e3-42df-b7db-b18ef57e5e90",
   "metadata": {},
   "outputs": [
    {
     "data": {
      "text/plain": [
       "(1521, 20)"
      ]
     },
     "execution_count": 2,
     "metadata": {},
     "output_type": "execute_result"
    }
   ],
   "source": [
    "data = pd.read_parquet(Path('data/game_stats.parquet'))\n",
    "data.shape"
   ]
  },
  {
   "cell_type": "markdown",
   "id": "2f78bc40-4860-4857-a005-6ade1f82994a",
   "metadata": {},
   "source": [
    "**Split Data, Scale**\n",
    "  - train/test and validate\n",
    "    - use train/test to tune models\n",
    "    - use validate to test models\n",
    "    \n",
    "Increase size of validation set? Adjust CV folds for training/testing sets?"
   ]
  },
  {
   "cell_type": "code",
   "execution_count": null,
   "id": "2bf9f1a6-e9a1-4be6-b17f-d94aa7790e1d",
   "metadata": {},
   "outputs": [],
   "source": []
  },
  {
   "cell_type": "code",
   "execution_count": null,
   "id": "785edaf5-cbee-42df-b476-9ad0841cf002",
   "metadata": {},
   "outputs": [],
   "source": []
  },
  {
   "cell_type": "code",
   "execution_count": null,
   "id": "83ea6084-3e41-4870-905e-ea509e07e94c",
   "metadata": {},
   "outputs": [],
   "source": []
  },
  {
   "cell_type": "code",
   "execution_count": null,
   "id": "53300d2d-45e7-4eb9-aa04-81517d0cae0b",
   "metadata": {},
   "outputs": [],
   "source": [
    "X = data.iloc[:,6:-2]\n",
    "y1 = data['home_margin'] # target for regression\n",
    "y2 = data['home_win'] # target for classification\n",
    "\n",
    "# Initial Split, this test set will be hold out for scoring\n",
    "X_train, X_test, y1_train, y1_test = train_test_split(X, y1, test_size=0.2)\n",
    "y2_train = y2[y1_train.index]\n",
    "y2_test = y2[y1_test.index]\n",
    "features = X_train.columns\n",
    "print(X_train.shape)\n",
    "print(X_test.shape)"
   ]
  },
  {
   "cell_type": "code",
   "execution_count": null,
   "id": "5411875a-b83d-4791-86c9-264ea6451600",
   "metadata": {},
   "outputs": [],
   "source": [
    "# Scale data, fit scaler to training data\n",
    "scaler = StandardScaler()\n",
    "X_train = scaler.fit_transform(X_train)\n",
    "X_test = scaler.transform(X_test)"
   ]
  },
  {
   "cell_type": "markdown",
   "id": "cdbf06c1-f5ef-4293-b09b-80c5d77378b2",
   "metadata": {},
   "source": [
    "**Parameter Tuning**"
   ]
  },
  {
   "cell_type": "code",
   "execution_count": null,
   "id": "75b0e010-79f4-484a-9792-4dcad8f42e05",
   "metadata": {},
   "outputs": [],
   "source": [
    "def_models = {\n",
    "    'Ridge': Ridge(), # 2s\n",
    "    'xgb_linear': xgb.XGBRegressor(booster=\"gblinear\"), # 5s\n",
    "    'xgb_tree': xgb.XGBRegressor(booster=\"gbtree\"), # 15ss\n",
    "    'gradient_boosting': GradientBoostingRegressor(), # 10 min\n",
    "}\n",
    "\n",
    "parameters = {\n",
    "    # defaults: alpha=1 [0,inf) | tol=1e-4\n",
    "    'Ridge': {'rscv_iterations':150, 'alpha':stats.loguniform(0.001,5050,0,1), 'tol':stats.loguniform(1e-4,1e0,0,1), 'solver':['saga']},\n",
    "    \n",
    "    # eta/learning_rate, gamma/min_split_loss, max_depth\n",
    "    # defaults: eta=0.3, gamma=0, max_depth=6, \n",
    "    'xgb_tree': {'rscv_iterations':45, 'eta':stats.beta(3,6,0,1), 'gamma':stats.uniform(0,3), 'max_depth':stats.binom(4,0.5,2),},\n",
    "\n",
    "}"
   ]
  },
  {
   "cell_type": "code",
   "execution_count": null,
   "id": "b05ceef7-445e-4a1b-a03f-3cf37d3f36d9",
   "metadata": {},
   "outputs": [],
   "source": []
  },
  {
   "cell_type": "code",
   "execution_count": null,
   "id": "48a083ac-cfe0-4885-a06a-94f3b0dac1f9",
   "metadata": {},
   "outputs": [],
   "source": [
    "# use pipelines\n",
    "\n",
    "ks = [val+1 for val in range(12)]\n",
    "kb_pipe = make_pipeline(SelectKBest(score_func=f_regression, k=12), LinearRegression())\n",
    "grid_params = {\n",
    "    'selectkbest__k': ks,\n",
    "    'linearregression__positive': [False, True]\n",
    "}"
   ]
  }
 ],
 "metadata": {
  "kernelspec": {
   "display_name": "Python 3 (ipykernel)",
   "language": "python",
   "name": "python3"
  },
  "language_info": {
   "codemirror_mode": {
    "name": "ipython",
    "version": 3
   },
   "file_extension": ".py",
   "mimetype": "text/x-python",
   "name": "python",
   "nbconvert_exporter": "python",
   "pygments_lexer": "ipython3",
   "version": "3.10.13"
  }
 },
 "nbformat": 4,
 "nbformat_minor": 5
}
