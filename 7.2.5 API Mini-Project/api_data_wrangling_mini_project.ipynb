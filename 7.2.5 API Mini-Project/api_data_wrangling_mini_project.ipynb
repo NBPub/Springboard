{
 "cells": [
  {
   "cell_type": "markdown",
   "metadata": {},
   "source": [
    "# [Answers](#Exercises)"
   ]
  },
  {
   "cell_type": "markdown",
   "metadata": {},
   "source": [
    "This exercise will require you to pull some data from https://data.nasdaq.com/ (formerly Quandl API)."
   ]
  },
  {
   "cell_type": "markdown",
   "metadata": {},
   "source": [
    "As a first step, you will need to register a free account on the https://data.nasdaq.com/ website."
   ]
  },
  {
   "cell_type": "markdown",
   "metadata": {},
   "source": [
    "After you register, you will be provided with a unique API key, that you should store:\n",
    "\n",
    "*Note*: Use a `.env` file and put your key in there and `python-dotenv` to access it in this notebook. \n",
    "\n",
    "The code below uses a key that was used when generating this project but has since been deleted. Never submit your keys to source control. There is a `.env-example` file in this repository to illusrtate what you need. Copy that to a file called `.env` and use your own api key in that `.env` file. Make sure you also have a `.gitignore` file with a line for `.env` added to it. \n",
    "\n",
    "The standard Python gitignore is [here](https://github.com/github/gitignore/blob/master/Python.gitignore) you can just copy that. "
   ]
  },
  {
   "cell_type": "code",
   "execution_count": 1,
   "metadata": {},
   "outputs": [
    {
     "name": "stdout",
     "output_type": "stream",
     "text": [
      "KRfk96yoWvruWZ-LjPbo\n"
     ]
    }
   ],
   "source": [
    "print(API_KEY)"
   ]
  },
  {
   "cell_type": "markdown",
   "metadata": {},
   "source": [
    "*I replaced my own key with the example above prior to submission. It will not be located within an \".env\" file within the repo. Please use your own key when evaluating my work, thanks.*"
   ]
  },
  {
   "cell_type": "code",
   "execution_count": 28,
   "metadata": {},
   "outputs": [],
   "source": [
    "API_KEY = 'KRfk96yoWvruWZ-LjPbo' # INVALID KEY LEFT IN CELL PRIOR TO ASSIGNMENT SUBMISSION"
   ]
  },
  {
   "cell_type": "code",
   "execution_count": 2,
   "metadata": {},
   "outputs": [],
   "source": [
    "# First, import the relevant modules\n",
    "import requests\n",
    "import json"
   ]
  },
  {
   "cell_type": "markdown",
   "metadata": {},
   "source": [
    "Note: API's can change a bit with each version, for this exercise it is reccomended to use the nasdaq api at `https://data.nasdaq.com/api/v3/`. This is the same api as what used to be quandl so `https://www.quandl.com/api/v3/` should work too.\n",
    "\n",
    "Hint: We are looking for the `AFX_X` data on the `datasets/FSE/` dataset."
   ]
  },
  {
   "cell_type": "code",
   "execution_count": 3,
   "metadata": {},
   "outputs": [],
   "source": [
    "# Now, call the Nasdaq API and pull out a small sample of the data (only one day) to get a glimpse\n",
    "# into the JSON structure that will be returned"
   ]
  },
  {
   "cell_type": "code",
   "execution_count": 3,
   "metadata": {},
   "outputs": [],
   "source": [
    "URL = f'https://data.nasdaq.com/api/v3/datasets/FSE/AFX_X.json?start_date=2020-11-30&end_date=2020-12-01&api_key={API_KEY}'\n",
    "r = requests.get(URL)\n",
    "if r.status_code == 200:\n",
    "    data = r.json()"
   ]
  },
  {
   "cell_type": "code",
   "execution_count": 4,
   "metadata": {},
   "outputs": [
    {
     "data": {
      "text/plain": [
       "{'dataset': {'id': 10095370,\n",
       "  'dataset_code': 'AFX_X',\n",
       "  'database_code': 'FSE',\n",
       "  'name': 'Carl Zeiss Meditec (AFX_X)',\n",
       "  'description': 'Stock Prices for Carl Zeiss Meditec (2020-11-02) from the Frankfurt Stock Exchange.<br><br>Trading System: Xetra<br><br>ISIN: DE0005313704',\n",
       "  'refreshed_at': '2020-12-01T14:48:09.907Z',\n",
       "  'newest_available_date': '2020-12-01',\n",
       "  'oldest_available_date': '2000-06-07',\n",
       "  'column_names': ['Date',\n",
       "   'Open',\n",
       "   'High',\n",
       "   'Low',\n",
       "   'Close',\n",
       "   'Change',\n",
       "   'Traded Volume',\n",
       "   'Turnover',\n",
       "   'Last Price of the Day',\n",
       "   'Daily Traded Units',\n",
       "   'Daily Turnover'],\n",
       "  'frequency': 'daily',\n",
       "  'type': 'Time Series',\n",
       "  'premium': False,\n",
       "  'limit': None,\n",
       "  'transform': None,\n",
       "  'column_index': None,\n",
       "  'start_date': '2020-11-30',\n",
       "  'end_date': '2020-12-01',\n",
       "  'data': [['2020-12-01',\n",
       "    112.2,\n",
       "    112.2,\n",
       "    111.5,\n",
       "    112.0,\n",
       "    None,\n",
       "    51.0,\n",
       "    5703.0,\n",
       "    None,\n",
       "    None,\n",
       "    None],\n",
       "   ['2020-11-30',\n",
       "    111.0,\n",
       "    113.6,\n",
       "    111.0,\n",
       "    112.1,\n",
       "    None,\n",
       "    315.0,\n",
       "    35111.5,\n",
       "    None,\n",
       "    None,\n",
       "    None]],\n",
       "  'collapse': None,\n",
       "  'order': None,\n",
       "  'database_id': 6129}}"
      ]
     },
     "execution_count": 4,
     "metadata": {},
     "output_type": "execute_result"
    }
   ],
   "source": [
    "# Inspect the JSON structure of the object you created, and take note of how nested it is,\n",
    "# as well as the overall structure\n",
    "data"
   ]
  },
  {
   "cell_type": "markdown",
   "metadata": {},
   "source": [
    "These are your tasks for this mini project:\n",
    "\n",
    "1. Collect data from the Franfurt Stock Exchange, for the ticker AFX_X, for the whole year 2017 (keep in mind that the date format is YYYY-MM-DD).\n",
    "2. Convert the returned JSON object into a Python dictionary.\n",
    "3. Calculate what the highest and lowest opening prices were for the stock in this period.\n",
    "4. What was the largest change in any one day (based on High and Low price)?\n",
    "5. What was the largest change between any two days (based on Closing Price)?\n",
    "6. What was the average daily trading volume during this year?\n",
    "7. (Optional) What was the median trading volume during this year. (Note: you may need to implement your own function for calculating the median.)\n",
    "\n",
    "----"
   ]
  },
  {
   "cell_type": "markdown",
   "metadata": {},
   "source": [
    "Data comes as list for each day within `\"data\"` key. List contains, in order (see `\"column_names\"` key\n",
    " - date \"YYYY-MM-DD\"\n",
    " - Opening price\n",
    " - High\n",
    " - Low\n",
    " - Close\n",
    " - Change\n",
    " - Traded Volume\n",
    " - Turnover\n",
    " - Last Price of the Day\n",
    " - Daily Traded Units\n",
    " - Daily Turnover\n",
    "```\n",
    "  ['2020-11-30',\n",
    "    111.0,\n",
    "    113.6,\n",
    "    111.0,\n",
    "    112.1,\n",
    "    None,\n",
    "    315.0,\n",
    "    35111.5,\n",
    "    None,\n",
    "    None,\n",
    "    None]\n",
    "```"
   ]
  },
  {
   "cell_type": "markdown",
   "metadata": {},
   "source": [
    "----\n",
    "# Exercises"
   ]
  },
  {
   "cell_type": "markdown",
   "metadata": {},
   "source": [
    "1. Collect data from the Franfurt Stock Exchange, for the ticker AFX_X, for the whole year 2017 (keep in mind that the date format is YYYY-MM-DD).\n",
    "2. Convert the returned JSON object into a Python dictionary.\n",
    "\n",
    "*dataset collected in cell below, individual column data extracted into lists later*\n",
    "\n",
    "*`json` and `requests` packages imported above*"
   ]
  },
  {
   "cell_type": "code",
   "execution_count": 5,
   "metadata": {
    "tags": []
   },
   "outputs": [],
   "source": [
    "call_params = 'start_date=2017-01-01&end_date=2017-12-31&order=asc&collapse=daily'\n",
    "key = f'&api_key={API_KEY}'\n",
    "\n",
    "URL = f'https://data.nasdaq.com/api/v3/datasets/FSE/AFX_X.json?{call_params}{key}'\n",
    "r = requests.get(URL)\n",
    "if r.status_code == 200:\n",
    "    r = r.json()\n",
    "data = r['dataset']['data']"
   ]
  },
  {
   "cell_type": "code",
   "execution_count": 6,
   "metadata": {},
   "outputs": [
    {
     "data": {
      "text/plain": [
       "dict_keys(['id', 'dataset_code', 'database_code', 'name', 'description', 'refreshed_at', 'newest_available_date', 'oldest_available_date', 'column_names', 'frequency', 'type', 'premium', 'limit', 'transform', 'column_index', 'start_date', 'end_date', 'data', 'collapse', 'order', 'database_id'])"
      ]
     },
     "execution_count": 6,
     "metadata": {},
     "output_type": "execute_result"
    }
   ],
   "source": [
    "r['dataset'].keys()"
   ]
  },
  {
   "cell_type": "code",
   "execution_count": 7,
   "metadata": {
    "scrolled": true,
    "tags": []
   },
   "outputs": [],
   "source": [
    "# data\n",
    "# github notebook display does not allow for scrollable outputs, I will comment out long outputs prior to submission"
   ]
  },
  {
   "cell_type": "code",
   "execution_count": 8,
   "metadata": {},
   "outputs": [
    {
     "name": "stdout",
     "output_type": "stream",
     "text": [
      "0 Date\n",
      "1 Open\n",
      "2 High\n",
      "3 Low\n",
      "4 Close\n",
      "5 Change\n",
      "6 Traded Volume\n",
      "7 Turnover\n",
      "8 Last Price of the Day\n",
      "9 Daily Traded Units\n",
      "10 Daily Turnover\n"
     ]
    }
   ],
   "source": [
    "for i,val in enumerate(r['dataset']['column_names']):\n",
    "    print(i,val)"
   ]
  },
  {
   "cell_type": "code",
   "execution_count": 9,
   "metadata": {},
   "outputs": [],
   "source": [
    "# changes is mostly none, skip\n",
    "# 3 None for opens, skip for now to allow max() operation on list\n",
    "\n",
    "opens = []\n",
    "closes = []\n",
    "highs = []\n",
    "lows = []\n",
    "vols = []\n",
    "# changes = []\n",
    "\n",
    "for datum in data:\n",
    "    if datum[1]:\n",
    "        opens.append(datum[1]) \n",
    "    highs.append(datum[2])\n",
    "    lows.append(datum[3]) \n",
    "    closes.append(datum[4])\n",
    "    # changes.append(datum[5])\n",
    "    vols.append(datum[6])"
   ]
  },
  {
   "cell_type": "code",
   "execution_count": 10,
   "metadata": {},
   "outputs": [
    {
     "name": "stdout",
     "output_type": "stream",
     "text": [
      "Missing opens: 0 out of 252\n",
      "Missing highs: 0 out of 255\n",
      "Missing lows: 0 out of 255\n",
      "Missing closes: 0 out of 255\n",
      "Missing vols: 0 out of 255\n"
     ]
    }
   ],
   "source": [
    "print('Missing opens:', opens.count(None), 'out of', len(opens))\n",
    "print('Missing highs:', highs.count(None), 'out of', len(highs))\n",
    "print('Missing lows:', lows.count(None), 'out of', len(lows))\n",
    "print('Missing closes:', closes.count(None), 'out of', len(closes))\n",
    "print('Missing vols:', vols.count(None), 'out of', len(vols))"
   ]
  },
  {
   "cell_type": "markdown",
   "metadata": {},
   "source": [
    "---\n",
    "3. Calculate what the highest and lowest opening prices were for the stock in this period.\n",
    "\n",
    "**The maximum opening price for 2017 was \\\\$53.11 and the minimum was \\\\$34.0.**"
   ]
  },
  {
   "cell_type": "code",
   "execution_count": 11,
   "metadata": {
    "scrolled": true,
    "tags": []
   },
   "outputs": [
    {
     "name": "stdout",
     "output_type": "stream",
     "text": [
      "The maximum opening price for 2017 was $53.11 and the minimum was $34.0.\n"
     ]
    }
   ],
   "source": [
    "print(f'The maximum opening price for 2017 was ${max(opens)} and the minimum was ${min(opens)}.')"
   ]
  },
  {
   "cell_type": "markdown",
   "metadata": {},
   "source": [
    "---\n",
    "4. What was the largest change in any one day (based on High and Low price)?\n",
    "\n",
    "**The largest change in 2017 based on high price was -\\\\$2.81 and was -\\\\$3.44 based on low price.**\n",
    "\n",
    "*I used the API to return price differences instead of calculating them from the original dataset. The largest change considered both negative and positive changes, and in this case they were both negative values.*"
   ]
  },
  {
   "cell_type": "code",
   "execution_count": 12,
   "metadata": {},
   "outputs": [],
   "source": [
    "call_params = 'start_date=2017-01-01&end_date=2017-12-31&order=asc&collapse=daily&transform=diff&column_index=2'\n",
    "key = f'&api_key={API_KEY}'\n",
    "\n",
    "URL = f'https://data.nasdaq.com/api/v3/datasets/FSE/AFX_X.json?{call_params}{key}'\n",
    "r4a = requests.get(URL)\n",
    "if r4a.status_code == 200:\n",
    "    r4a = r4a.json()\n",
    "data4a = r4a['dataset']['data']\n",
    "\n",
    "call_params = 'start_date=2017-01-01&end_date=2017-12-31&order=asc&collapse=daily&transform=diff&column_index=3'\n",
    "key = f'&api_key={API_KEY}'\n",
    "\n",
    "URL = f'https://data.nasdaq.com/api/v3/datasets/FSE/AFX_X.json?{call_params}{key}'\n",
    "r4b = requests.get(URL)\n",
    "if r4b.status_code == 200:\n",
    "    r4b = r4b.json()\n",
    "data4b = r4b['dataset']['data']"
   ]
  },
  {
   "cell_type": "code",
   "execution_count": 13,
   "metadata": {},
   "outputs": [],
   "source": [
    "high_changes = [val[1] for val in data4a]\n",
    "high_change_bounds = (min(high_changes),max(high_changes))\n",
    "\n",
    "low_changes = [val[1] for val in data4b]\n",
    "low_change_bounds = (min(low_changes),max(low_changes))"
   ]
  },
  {
   "cell_type": "code",
   "execution_count": 14,
   "metadata": {},
   "outputs": [
    {
     "data": {
      "text/plain": [
       "(-2.81, 2.46)"
      ]
     },
     "execution_count": 14,
     "metadata": {},
     "output_type": "execute_result"
    }
   ],
   "source": [
    "high_change_bounds"
   ]
  },
  {
   "cell_type": "code",
   "execution_count": 15,
   "metadata": {},
   "outputs": [
    {
     "data": {
      "text/plain": [
       "(-3.44, 1.61)"
      ]
     },
     "execution_count": 15,
     "metadata": {},
     "output_type": "execute_result"
    }
   ],
   "source": [
    "low_change_bounds"
   ]
  },
  {
   "cell_type": "markdown",
   "metadata": {},
   "source": [
    "---\n",
    "5. What was the largest change between any two days (based on Closing Price)?\n",
    "\n",
    "**The largest two-day change in 2017 based on closing price was -\\\\$3.15**"
   ]
  },
  {
   "cell_type": "code",
   "execution_count": 16,
   "metadata": {},
   "outputs": [],
   "source": [
    "two_day_change_close = [closes[i+2]-closes[i] for i in range(len(closes)-2)]"
   ]
  },
  {
   "cell_type": "code",
   "execution_count": 17,
   "metadata": {},
   "outputs": [
    {
     "name": "stdout",
     "output_type": "stream",
     "text": [
      "(-3.1499999999999986, 2.280000000000001)\n"
     ]
    }
   ],
   "source": [
    "two_day_change_bounds = (min(two_day_change_close),max(two_day_change_close))\n",
    "print(two_day_change_bounds)"
   ]
  },
  {
   "cell_type": "markdown",
   "metadata": {},
   "source": [
    "---\n",
    "6. What was the average daily trading volume during this year?\n",
    "\n",
    "The average trading volume during 2017 was **32,265** when considering the total and each day of the year. The average when considering only the 255 days with daily trading volume data was **89,124.**"
   ]
  },
  {
   "cell_type": "code",
   "execution_count": 18,
   "metadata": {},
   "outputs": [
    {
     "name": "stdout",
     "output_type": "stream",
     "text": [
      "62264.94794520548 89124.33725490196 volume data for 255 days\n"
     ]
    }
   ],
   "source": [
    "avg_vol = sum(vols)/365\n",
    "avg_vol2 = sum(vols)/len(vols)\n",
    "\n",
    "print(avg_vol, avg_vol2, 'volume data for', len(vols), 'days')"
   ]
  },
  {
   "cell_type": "markdown",
   "metadata": {},
   "source": [
    "---\n",
    "7. (Optional) What was the median trading volume during this year. (Note: you may need to implement your own function for calculating the median.)\n",
    "\n",
    "The median trading volume during 2017 was **76,600**"
   ]
  },
  {
   "cell_type": "code",
   "execution_count": 26,
   "metadata": {},
   "outputs": [],
   "source": [
    "vols.sort()"
   ]
  },
  {
   "cell_type": "code",
   "execution_count": 19,
   "metadata": {
    "scrolled": true,
    "tags": []
   },
   "outputs": [],
   "source": [
    "# vols"
   ]
  },
  {
   "cell_type": "code",
   "execution_count": 27,
   "metadata": {},
   "outputs": [
    {
     "name": "stdout",
     "output_type": "stream",
     "text": [
      "median daily trading volume: 76600.0\n"
     ]
    }
   ],
   "source": [
    "print('median daily trading volume:', vols[round(len(vols)/2)])"
   ]
  }
 ],
 "metadata": {
  "interpreter": {
   "hash": "7635eb1b9d0fe97add78a7368b6b431c09bb8ad5c42e437d64abdd99821c31ae"
  },
  "kernelspec": {
   "display_name": "Python 3 (ipykernel)",
   "language": "python",
   "name": "python3"
  },
  "language_info": {
   "codemirror_mode": {
    "name": "ipython",
    "version": 3
   },
   "file_extension": ".py",
   "mimetype": "text/x-python",
   "name": "python",
   "nbconvert_exporter": "python",
   "pygments_lexer": "ipython3",
   "version": "3.10.9"
  }
 },
 "nbformat": 4,
 "nbformat_minor": 4
}
