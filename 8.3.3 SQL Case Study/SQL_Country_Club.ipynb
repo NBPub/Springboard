{
 "cells": [
  {
   "cell_type": "markdown",
   "id": "19115a5f-d8cd-43e5-9596-1377e35dbbfc",
   "metadata": {},
   "source": [
    "#### [github notebook link](https://github.com/NBPub/Springboard/blob/main/8.3.3%20SQL%20Case%20Study/SQL_Country_Club.ipynb)\n",
    "\n",
    "# Instructions\n",
    "\n",
    "- `files/sqlite_db_pythonsqlite.db` - This is the database file you are looking to use python to write SQL queries against.\n",
    "  - [db repository link](https://github.com/NBPub/Springboard/blob/main/8.3.3%20SQL%20Case%20Study/files/sqlite_db_pythonsqlite.db)\n",
    "- `files/SQLTask Tier 2.sql` - This is a text file with the list of questions we are looking to answer via SQL queries on `sqlite_db_pythonsqlite.db`. \n",
    "  - SQL queries used for submission also added to this [file](https://github.com/NBPub/Springboard/blob/main/8.3.3%20SQL%20Case%20Study/files/SQLTasks%20Tier%202.sql)"
   ]
  },
  {
   "cell_type": "markdown",
   "id": "4ab8cd2a-3c48-44e1-9781-ca652db703cd",
   "metadata": {
    "tags": []
   },
   "source": [
    "# Tasks\n",
    "## [Questions 1-9](#PHPMyAdmin-Interface)\n",
    "**Brainstorming while server is unavailable. I'm going to answer them all here . . .**\n",
    "\n",
    "## [Questions 10-13](#Python-SQLite3-Questions)\n",
    " - **Notebook code utilizes [python sqlite3](https://docs.python.org/3/library/sqlite3.html) to query databse**\n",
    " -  [SQL Queries](#SQL-Queries)\n",
    "    - *list of queries used to answer question in SQL-styled markdown codeblocks (like 1-9 above)*\n",
    "\n",
    "## \n",
    "## \n",
    "---"
   ]
  },
  {
   "cell_type": "markdown",
   "id": "03c54732-c729-4a96-9657-47991313090a",
   "metadata": {
    "tags": []
   },
   "source": [
    "- Questions 1-9\n",
    "\n",
    "### PHPMyAdmin Interface\n",
    "   - [Springboard SQL server](https://sql.springboard.com/)\n",
    "     - *server has been unavailable every time I've tried assignment, I should be fine with various SQL broswers. I'm currently using Adminer to help with a PostgreSQL instance*\n",
    "     - I attempted to answer questions locally, and have listed code below, expand cell if collapsed"
   ]
  },
  {
   "cell_type": "markdown",
   "id": "ae8f9e3e-94fa-4d56-ab11-6995f2f65110",
   "metadata": {
    "tags": []
   },
   "source": [
    "*used [DB Browser for SQLite](https://sqlitebrowser.org/) to explore database and test queries*"
   ]
  },
  {
   "cell_type": "markdown",
   "id": "be6424f5-162c-4882-b56f-430ef70df8c2",
   "metadata": {
    "tags": []
   },
   "source": [
    "Q1: Some of the facilities charge a fee to members, but some do not.\n",
    "Write a SQL query to produce a list of the names of the facilities that do.\n",
    "```sql\n",
    "SELECT name FROM Facilities WHERE membercost = 0;\n",
    "```\n",
    "\n",
    "Q2: How many facilities do not charge a fee to members?\n",
    "```sql\n",
    "SELECT COUNT(*) FROM Facilities WHERE membercost = 0;\n",
    "```\n",
    "\n",
    "\n",
    "Q3: Write an SQL query to show a list of facilities that charge a fee to members,\n",
    "where the fee is less than 20% of the facility's monthly maintenance cost.\n",
    "Return the facid, facility name, member cost, and monthly maintenance of the\n",
    "facilities in question.\n",
    "```sql\n",
    "SELECT facid, name, membercost, monthlymaintenance\n",
    "FROM Facilities\n",
    "WHERE membercost < monthlymaintenance*0.2;\n",
    "```\n",
    "\n",
    "\n",
    "Q4: Write an SQL query to retrieve the details of facilities with ID 1 and 5.\n",
    "Try writing the query without using the OR operator.\n",
    "```sql\n",
    "SELECT facid, name, membercost, monthlymaintenance\n",
    "FROM Facilities\n",
    "WHERE membercost < monthlymaintenance*0.2;\n",
    "```\n",
    "\n",
    "Q5: Produce a list of facilities, with each labelled as\n",
    "'cheap' or 'expensive', depending on if their monthly maintenance cost is\n",
    "more than $100. Return the name and monthly maintenance of the facilities\n",
    "in question.\n",
    "\n",
    "```sql\n",
    "SELECT facid, name, membercost, monthlymaintenance\n",
    "FROM Facilities\n",
    "WHERE membercost < monthlymaintenance*0.2;\n",
    "```\n",
    "Q6: You'd like to get the first and last name of the last member(s)\n",
    "who signed up. Try not to use the LIMIT clause for your solution. */\n",
    "```sql\n",
    "SELECT facid, name, membercost, monthlymaintenance\n",
    "FROM Facilities\n",
    "WHERE membercost < monthlymaintenance*0.2;\n",
    "```\n",
    "\n",
    "Q7: Produce a list of all members who have used a tennis court.\n",
    "Include in your output the name of the court, and the name of the member\n",
    "formatted as a single column. Ensure no duplicate data, and order by\n",
    "the member name.\n",
    "```sql\n",
    "SELECT facid, name, membercost, monthlymaintenance\n",
    "FROM Facilities\n",
    "WHERE membercost < monthlymaintenance*0.2;\n",
    "```\n",
    "\n",
    "Q8: Produce a list of bookings on the day of 2012-09-14 which\n",
    "will cost the member (or guest) more than $30. Remember that guests have\n",
    "different costs to members (the listed costs are per half-hour 'slot'), and\n",
    "the guest user's ID is always 0. Include in your output the name of the\n",
    "facility, the name of the member formatted as a single column, and the cost.\n",
    "Order by descending cost, and do not use any subqueries.\n",
    "```sql\n",
    "SELECT facid, name, membercost, monthlymaintenance\n",
    "FROM Facilities\n",
    "WHERE membercost < monthlymaintenance*0.2;\n",
    "```\n",
    "\n",
    "Q9: This time, produce the same result as in Q8, but using a subquery.\n",
    "```sql\n",
    "SELECT facid, name, membercost, monthlymaintenance\n",
    "FROM Facilities\n",
    "WHERE membercost < monthlymaintenance*0.2;\n",
    "```"
   ]
  },
  {
   "cell_type": "markdown",
   "id": "f8a9f1d6-c9ac-451e-9821-95da7de19606",
   "metadata": {},
   "source": [
    "---"
   ]
  },
  {
   "cell_type": "markdown",
   "id": "1e5d2ae4-8c4a-4958-b6bf-e587bc1887c3",
   "metadata": {
    "tags": []
   },
   "source": [
    " - Questions 10-13 using SQLite file\n",
    " \n",
    "## Python SQLite3 Questions"
   ]
  },
  {
   "cell_type": "code",
   "execution_count": 1,
   "id": "a8d262ff-b083-487b-8327-7624ce484c36",
   "metadata": {},
   "outputs": [],
   "source": [
    "import sqlite3\n",
    "con = sqlite3.connect(\"files/sqlite_db_pythonsqlite.db\")"
   ]
  },
  {
   "cell_type": "markdown",
   "id": "022c3427-d1dd-4a61-8b78-44752c83ab7c",
   "metadata": {},
   "source": [
    "**Q10:** Produce a list of facilities with a total revenue less than 1000.\n",
    "The output of facility name and total revenue, sorted by revenue. Remember\n",
    "that there's a different cost for guests and members!"
   ]
  },
  {
   "cell_type": "code",
   "execution_count": null,
   "id": "18aeae75-ad8f-4539-b7dc-1661b93cd737",
   "metadata": {},
   "outputs": [],
   "source": [
    "# Facilities have two costs: \"membercost\" + \"guestcost\", index by \"facid\"\n",
    "# Members index by \"memid\", 0 is guest.\n",
    "# Bookings have facid, memid, and number of slots\n",
    "\n",
    "# Facility Name | Total Revenue\n",
    "# Revenue = Member Bookings * member cost + Guest Bookings * guest cost"
   ]
  },
  {
   "cell_type": "code",
   "execution_count": null,
   "id": "2f2b9dd7-5641-4407-836a-165f934cdc7f",
   "metadata": {},
   "outputs": [],
   "source": [
    "# Sum member bookings * member cost for each facility, add same for guests, then take total"
   ]
  },
  {
   "cell_type": "code",
   "execution_count": 15,
   "id": "7eb5c1d1-d646-4e25-8d7a-970d201fbe20",
   "metadata": {},
   "outputs": [],
   "source": [
    "query = '''\n",
    "SELECT name, member_rev+guest_rev AS total_revenue FROM \n",
    "(SELECT facid, name,  SUM(slots)*membercost AS member_rev\n",
    "FROM Bookings LEFT JOIN Facilities USING(facid)\n",
    "WHERE memid > 0 GROUP BY facid)\n",
    "INNER JOIN (\n",
    "SELECT facid, SUM(slots)*guestcost AS guest_rev\n",
    "FROM Bookings LEFT JOIN Facilities USING(facid)\n",
    "WHERE memid = 0 GROUP BY facid) \n",
    "USING(facid) WHERE total_revenue < 1000\n",
    "ORDER BY total_revenue\n",
    "'''"
   ]
  },
  {
   "cell_type": "code",
   "execution_count": 16,
   "id": "366e5ed3-1c17-4bfd-8241-77c7e0bf3c8f",
   "metadata": {},
   "outputs": [
    {
     "data": {
      "text/plain": [
       "[('Table Tennis', 180), ('Snooker Table', 240), ('Pool Table', 270)]"
      ]
     },
     "execution_count": 16,
     "metadata": {},
     "output_type": "execute_result"
    }
   ],
   "source": [
    "cur = con.cursor()\n",
    "cur.execute(query)\n",
    "result = cur.fetchall()\n",
    "result"
   ]
  },
  {
   "cell_type": "markdown",
   "id": "3664f792-acc2-4772-a5cc-362af6499ff4",
   "metadata": {},
   "source": [
    "| name | total_revenue |\n",
    "|---------|-------|\n",
    "| Table Tennis | 180 |\n",
    "| Snooker Table | 240 |\n",
    "| Pool Table | 270 |"
   ]
  },
  {
   "cell_type": "markdown",
   "id": "08bee359-371a-4fab-abc9-15e7ea0f8143",
   "metadata": {},
   "source": [
    "---"
   ]
  },
  {
   "cell_type": "markdown",
   "id": "f3cf8969-4794-457b-a102-134583666f57",
   "metadata": {},
   "source": [
    "**Q11:** Produce a report of members and who recommended them in alphabetic surname,firstname order"
   ]
  },
  {
   "cell_type": "code",
   "execution_count": null,
   "id": "1b744f72-95ae-4cf9-a525-4d37ed2267e7",
   "metadata": {},
   "outputs": [],
   "source": [
    "# member rows have memid reference in recommended column"
   ]
  },
  {
   "cell_type": "code",
   "execution_count": 2,
   "id": "79a6eea7-82a4-4e18-bda6-5ddc9b6327c1",
   "metadata": {},
   "outputs": [],
   "source": [
    "query = '''\n",
    "SELECT M.surname \"Surname\", M.firstname \"Firstname\",\n",
    " R.surname || ', ' || R.firstname AS \"Recommending Member\"\n",
    "FROM Members M\n",
    "LEFT JOIN Members R on R.memid=M.recommendedby \n",
    "WHERE M.memid > 0\n",
    "ORDER BY Surname, Firstname\n",
    "'''"
   ]
  },
  {
   "cell_type": "markdown",
   "id": "c7707d91-095d-464f-9efc-62b3d51cdb59",
   "metadata": {},
   "source": [
    "\n",
    "| Surname | Firstname | Recommending Member |\n",
    "|---------|-------|----------|\n",
    "| Bader | Florence | Stibbons, Ponder |\n",
    "| Bader | Anne | Stibbons, Ponder |\n",
    "| ... | ... | ... |\n",
    "| Worthington-Smyth | Henry | Smith, Tracy |"
   ]
  },
  {
   "cell_type": "code",
   "execution_count": 5,
   "id": "76590c02-cece-44bb-9a13-b848625af2b1",
   "metadata": {},
   "outputs": [],
   "source": [
    "cur = con.cursor()\n",
    "cur.execute(query)\n",
    "result = cur.fetchall()"
   ]
  },
  {
   "cell_type": "code",
   "execution_count": 6,
   "id": "99f7223c-1db4-456e-b5f4-88259fd633ee",
   "metadata": {},
   "outputs": [
    {
     "data": {
      "text/plain": [
       "[('Bader', 'Florence', 'Stibbons, Ponder'),\n",
       " ('Baker', 'Anne', 'Stibbons, Ponder'),\n",
       " ('Baker', 'Timothy', 'Farrell, Jemima'),\n",
       " ('Boothe', 'Tim', 'Rownam, Tim'),\n",
       " ('Butters', 'Gerald', 'Smith, Darren'),\n",
       " ('Coplin', 'Joan', 'Baker, Timothy'),\n",
       " ('Crumpet', 'Erica', 'Smith, Tracy'),\n",
       " ('Dare', 'Nancy', 'Joplette, Janice'),\n",
       " ('Farrell', 'David', None),\n",
       " ('Farrell', 'Jemima', None),\n",
       " ('Genting', 'Matthew', 'Butters, Gerald'),\n",
       " ('Hunt', 'John', 'Purview, Millicent'),\n",
       " ('Jones', 'David', 'Joplette, Janice'),\n",
       " ('Jones', 'Douglas', 'Jones, David'),\n",
       " ('Joplette', 'Janice', 'Smith, Darren'),\n",
       " ('Mackenzie', 'Anna', 'Smith, Darren'),\n",
       " ('Owen', 'Charles', 'Smith, Darren'),\n",
       " ('Pinker', 'David', 'Farrell, Jemima'),\n",
       " ('Purview', 'Millicent', 'Smith, Tracy'),\n",
       " ('Rownam', 'Tim', None),\n",
       " ('Rumney', 'Henrietta', 'Genting, Matthew'),\n",
       " ('Sarwin', 'Ramnaresh', 'Bader, Florence'),\n",
       " ('Smith', 'Darren', None),\n",
       " ('Smith', 'Darren', None),\n",
       " ('Smith', 'Jack', 'Smith, Darren'),\n",
       " ('Smith', 'Tracy', None),\n",
       " ('Stibbons', 'Ponder', 'Tracy, Burton'),\n",
       " ('Tracy', 'Burton', None),\n",
       " ('Tupperware', 'Hyacinth', None),\n",
       " ('Worthington-Smyth', 'Henry', 'Smith, Tracy')]"
      ]
     },
     "execution_count": 6,
     "metadata": {},
     "output_type": "execute_result"
    }
   ],
   "source": [
    "result"
   ]
  },
  {
   "cell_type": "markdown",
   "id": "092c1d21-82c6-4f88-96ef-a62b1b6070cb",
   "metadata": {},
   "source": [
    "---"
   ]
  },
  {
   "cell_type": "markdown",
   "id": "c9d3fecd-ccfc-480d-bc6f-a6ea91725b6f",
   "metadata": {},
   "source": [
    "**Q12:** Find the facilities with their usage by member, but not guests"
   ]
  },
  {
   "cell_type": "code",
   "execution_count": null,
   "id": "a8737f0d-29a8-4ec0-9fa8-733a4038e20b",
   "metadata": {},
   "outputs": [],
   "source": [
    "# Bookings have facid, memid, and slots they booked"
   ]
  },
  {
   "cell_type": "code",
   "execution_count": 7,
   "id": "587abc96-0130-4f46-8365-fb49842c0c17",
   "metadata": {},
   "outputs": [],
   "source": [
    "query = '''\n",
    "SELECT name AS facility, SUM(slots) AS member_usage FROM Bookings\n",
    "LEFT JOIN Facilities USING(facid)\n",
    "WHERE memid > 0 GROUP BY facid ORDER BY member_usage DESC\n",
    "'''"
   ]
  },
  {
   "cell_type": "code",
   "execution_count": 8,
   "id": "d8ddf9fb-7cd3-4307-ae67-12181718c0f0",
   "metadata": {},
   "outputs": [
    {
     "data": {
      "text/plain": [
       "[('Badminton Court', 1086),\n",
       " ('Tennis Court 1', 957),\n",
       " ('Massage Room 1', 884),\n",
       " ('Tennis Court 2', 882),\n",
       " ('Snooker Table', 860),\n",
       " ('Pool Table', 856),\n",
       " ('Table Tennis', 794),\n",
       " ('Squash Court', 418),\n",
       " ('Massage Room 2', 54)]"
      ]
     },
     "execution_count": 8,
     "metadata": {},
     "output_type": "execute_result"
    }
   ],
   "source": [
    "cur = con.cursor()\n",
    "cur.execute(query)\n",
    "result = cur.fetchall()\n",
    "result"
   ]
  },
  {
   "cell_type": "markdown",
   "id": "9a453fc1-17d9-4628-b399-022b5ea8f588",
   "metadata": {},
   "source": [
    "| facility | member_usage |\n",
    "|---------|-------|\n",
    "| Badminton Court | 1086 |\n",
    "| Tennis Court 1 | 957 |\n",
    "| ... | ... |\n",
    "| Massage Room 2 | 54 |"
   ]
  },
  {
   "cell_type": "markdown",
   "id": "1897c2d9-5b3a-4837-94b8-6c9683e16dcf",
   "metadata": {},
   "source": [
    "---"
   ]
  },
  {
   "cell_type": "markdown",
   "id": "e7ad1bd3-f645-46e4-8f8c-2cc2f8f07cdc",
   "metadata": {},
   "source": [
    "**Q13:** Find the facilities usage by month, but not guests\n",
    "\n",
    "*provided answer for all facilities by month, and for each facility by month*"
   ]
  },
  {
   "cell_type": "markdown",
   "id": "5071fcd4-7406-4257-9b8c-a9439594ec9f",
   "metadata": {},
   "source": [
    "**Members Using All Facilities by Month**"
   ]
  },
  {
   "cell_type": "code",
   "execution_count": 13,
   "id": "9e40b8a9-554b-4cbe-b1fd-3d4081e58aa6",
   "metadata": {},
   "outputs": [
    {
     "data": {
      "text/plain": [
       "[('07', 1061), ('08', 2531), ('09', 3199)]"
      ]
     },
     "execution_count": 13,
     "metadata": {},
     "output_type": "execute_result"
    }
   ],
   "source": [
    "query = '''\n",
    "SELECT SUBSTRING(starttime,6,2) AS month, SUM(slots) AS member_usage \n",
    "FROM Bookings\n",
    "WHERE memid > 0 GROUP BY month\n",
    "'''\n",
    "\n",
    "cur = con.cursor()\n",
    "cur.execute(query)\n",
    "result = cur.fetchall()\n",
    "result"
   ]
  },
  {
   "cell_type": "markdown",
   "id": "27ef2cff-aa5c-4926-bf81-6adc8fdf586c",
   "metadata": {},
   "source": [
    "| month | member_usage |\n",
    "|---------|-------|\n",
    "| 07 | 1061 |\n",
    "| 08 | 2531 |\n",
    "| 09 | 3199 |"
   ]
  },
  {
   "cell_type": "markdown",
   "id": "aa1a2fa9-6d5c-4ccf-8782-3d6b3d18eced",
   "metadata": {},
   "source": [
    "**Members Using Each Facility by Month**"
   ]
  },
  {
   "cell_type": "code",
   "execution_count": 10,
   "id": "f750e4a6-e440-4e54-b02d-6f50c08c79a7",
   "metadata": {},
   "outputs": [],
   "source": [
    "query = '''\n",
    "SELECT SUBSTRING(starttime,6,2) AS month, name AS facility, SUM(slots) AS member_usage \n",
    "FROM Bookings\n",
    "LEFT JOIN Facilities USING(facid)\n",
    "WHERE memid > 0 GROUP BY month, facid\n",
    "'''"
   ]
  },
  {
   "cell_type": "code",
   "execution_count": 11,
   "id": "4dbfa40d-0244-4809-be83-a13e932c8aef",
   "metadata": {},
   "outputs": [
    {
     "data": {
      "text/plain": [
       "[('07', 'Tennis Court 1', 201),\n",
       " ('07', 'Tennis Court 2', 123),\n",
       " ('07', 'Badminton Court', 165),\n",
       " ('07', 'Table Tennis', 98),\n",
       " ('07', 'Massage Room 1', 166),\n",
       " ('07', 'Massage Room 2', 8),\n",
       " ('07', 'Squash Court', 50),\n",
       " ('07', 'Snooker Table', 140),\n",
       " ('07', 'Pool Table', 110),\n",
       " ('08', 'Tennis Court 1', 339),\n",
       " ('08', 'Tennis Court 2', 345),\n",
       " ('08', 'Badminton Court', 414),\n",
       " ('08', 'Table Tennis', 296),\n",
       " ('08', 'Massage Room 1', 316),\n",
       " ('08', 'Massage Room 2', 18),\n",
       " ('08', 'Squash Court', 184),\n",
       " ('08', 'Snooker Table', 316),\n",
       " ('08', 'Pool Table', 303),\n",
       " ('09', 'Tennis Court 1', 417),\n",
       " ('09', 'Tennis Court 2', 414),\n",
       " ('09', 'Badminton Court', 507),\n",
       " ('09', 'Table Tennis', 400),\n",
       " ('09', 'Massage Room 1', 402),\n",
       " ('09', 'Massage Room 2', 28),\n",
       " ('09', 'Squash Court', 184),\n",
       " ('09', 'Snooker Table', 404),\n",
       " ('09', 'Pool Table', 443)]"
      ]
     },
     "execution_count": 11,
     "metadata": {},
     "output_type": "execute_result"
    }
   ],
   "source": [
    "cur = con.cursor()\n",
    "cur.execute(query)\n",
    "result = cur.fetchall()\n",
    "result"
   ]
  },
  {
   "cell_type": "code",
   "execution_count": null,
   "id": "ec012c05-c391-4726-bc19-8efd6c0d23c3",
   "metadata": {},
   "outputs": [],
   "source": []
  },
  {
   "cell_type": "markdown",
   "id": "703c50b3-9fa9-492c-8653-f93ba3a242ef",
   "metadata": {
    "tags": []
   },
   "source": [
    "### SQL Queries"
   ]
  },
  {
   "cell_type": "markdown",
   "id": "3e9bb2cb-a16e-429c-866f-5d068ee6ca74",
   "metadata": {
    "tags": []
   },
   "source": [
    "\n",
    "#### 10\n",
    "```sql\n",
    "SELECT name, member_rev+guest_rev AS total_revenue FROM \n",
    "(SELECT facid, name,  SUM(slots)*membercost AS member_rev\n",
    "FROM Bookings LEFT JOIN Facilities USING(facid)\n",
    "WHERE memid > 0 GROUP BY facid)\n",
    "INNER JOIN (\n",
    "SELECT facid, SUM(slots)*guestcost AS guest_rev\n",
    "FROM Bookings LEFT JOIN Facilities USING(facid)\n",
    "WHERE memid = 0 GROUP BY facid) \n",
    "USING(facid) WHERE total_revenue < 1000\n",
    "ORDER BY total_revenue\n",
    "```\n",
    "\n",
    "#### 11\n",
    "```sql\n",
    "SELECT M.surname \"Surname\", M.firstname \"Firstname\",\n",
    " R.surname || ', ' || R.firstname AS \"Recommending Member\"\n",
    "FROM Members M\n",
    "LEFT JOIN Members R on R.memid=M.recommendedby \n",
    "WHERE M.memid > 0\n",
    "ORDER BY Surname, Firstname\n",
    "```\n",
    "\n",
    "#### 12\n",
    "```sql\n",
    "SELECT name AS facility, SUM(slots) AS member_usage FROM Bookings\n",
    "LEFT JOIN Facilities USING(facid)\n",
    "WHERE memid > 0 GROUP BY facid ORDER BY member_usage DESC\n",
    "```\n",
    "\n",
    "#### 13\n",
    "```sql\n",
    "/* All facilities by month */\n",
    "SELECT SUBSTRING(starttime,6,2) AS month, SUM(slots) AS member_usage \n",
    "FROM Bookings\n",
    "WHERE memid > 0 GROUP BY month;\n",
    "/* Each facility by month */\n",
    "SELECT SUBSTRING(starttime,6,2) AS month, name AS facility, SUM(slots) AS member_usage \n",
    "FROM Bookings\n",
    "LEFT JOIN Facilities USING(facid)\n",
    "WHERE memid > 0 GROUP BY month, facid;\n",
    "```"
   ]
  }
 ],
 "metadata": {
  "kernelspec": {
   "display_name": "Python 3 (ipykernel)",
   "language": "python",
   "name": "python3"
  },
  "language_info": {
   "codemirror_mode": {
    "name": "ipython",
    "version": 3
   },
   "file_extension": ".py",
   "mimetype": "text/x-python",
   "name": "python",
   "nbconvert_exporter": "python",
   "pygments_lexer": "ipython3",
   "version": "3.10.9"
  }
 },
 "nbformat": 4,
 "nbformat_minor": 5
}
