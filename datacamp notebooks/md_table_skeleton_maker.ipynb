{
 "cells": [
  {
   "cell_type": "code",
   "execution_count": 1,
   "id": "86f6a304-909d-442a-b85e-5126f34999c6",
   "metadata": {
    "tags": []
   },
   "outputs": [],
   "source": [
    "import pandas as pd\n",
    "import numpy as np"
   ]
  },
  {
   "cell_type": "code",
   "execution_count": 2,
   "id": "467946ca-e1bb-4d57-8b36-074802b0ef9f",
   "metadata": {
    "tags": []
   },
   "outputs": [
    {
     "name": "stdout",
     "output_type": "stream",
     "text": [
      "|    |   0 |   1 |   2 |   3 |\n",
      "|---:|----:|----:|----:|----:|\n",
      "|  0 |   0 |   0 |   0 |   0 |\n",
      "|  1 |   0 |   0 |   0 |   0 |\n",
      "|  2 |   0 |   0 |   0 |   0 |\n",
      "|  3 |   0 |   0 |   0 |   0 |\n"
     ]
    }
   ],
   "source": [
    "print(\n",
    "    pd.DataFrame(np.zeros((4,4))).to_markdown()\n",
    ")"
   ]
  },
  {
   "cell_type": "code",
   "execution_count": null,
   "id": "f696562a-4cd2-4af1-afa8-487408fca885",
   "metadata": {},
   "outputs": [],
   "source": []
  }
 ],
 "metadata": {
  "kernelspec": {
   "display_name": "Python 3 (ipykernel)",
   "language": "python",
   "name": "python3"
  },
  "language_info": {
   "codemirror_mode": {
    "name": "ipython",
    "version": 3
   },
   "file_extension": ".py",
   "mimetype": "text/x-python",
   "name": "python",
   "nbconvert_exporter": "python",
   "pygments_lexer": "ipython3",
   "version": "3.10.13"
  }
 },
 "nbformat": 4,
 "nbformat_minor": 5
}
