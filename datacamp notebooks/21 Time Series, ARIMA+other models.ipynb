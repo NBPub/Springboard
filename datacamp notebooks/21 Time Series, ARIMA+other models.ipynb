{
 "cells": [
  {
   "cell_type": "markdown",
   "id": "1a0cb03e-29c7-4bab-8b63-5492e78902a8",
   "metadata": {},
   "source": [
    "Contents\n",
    " - [previous notebook **14**, time series+ARIMA introduction](/14%20Supervised%20Learning%2BTimeSeries.ipynb)\n",
    " - **[21.3]()** ARIMA Models\n",
    "   - only chapter 3, the best of the best models\n",
    "   - before: ARIMA intro, fitting the future | after: seasonal ARIMA models\n",
    " - **[21.4]()** Machine Learning for Time Series\n",
    "   - [Chapter One]() introduction, simple linear+classification models\n",
    "   - [Chapter Two]() time series as inputs\n",
    "   - [Chapter Three]() predicting time series data\n",
    "   - [Chapter Four]() Validating and Inspecting Time Series Models\n",
    " - *21.5 Manipulating Time Series Data*\n",
    " - *21.6 Visualizing Time Series Data*\n",
    " "
   ]
  },
  {
   "cell_type": "markdown",
   "id": "0dc6ce8a-69f9-4f49-9d12-efbf60273b26",
   "metadata": {},
   "source": [
    "### 21.3 ARIMA Review\n",
    "\n",
    "  - AR or MA\n",
    "  - AIC, BIC\n",
    "  - parameter search\n",
    "  - diagnostics\n",
    "  - box-jenkins method\n",
    "  - identification\n",
    "  - estimation"
   ]
  },
  {
   "cell_type": "markdown",
   "id": "e6d5e5e8-cbca-43c8-ae73-9360f21706dd",
   "metadata": {},
   "source": [
    "##### Autocorrelation, Partial Autocorrelation\n",
    " - for **MA(q)** model\n",
    "   - ACF cuts off after lag `q`\n",
    "   - PCF tails off gradually\n",
    " - if both tail of gradually it is **ARIMA(p,q)**"
   ]
  },
  {
   "cell_type": "code",
   "execution_count": null,
   "id": "c2c98c2f-1113-4ea3-89f4-2f18564d101c",
   "metadata": {},
   "outputs": [],
   "source": []
  },
  {
   "cell_type": "code",
   "execution_count": null,
   "id": "c5d7978c-1ab7-479c-a429-2b600e998221",
   "metadata": {},
   "outputs": [],
   "source": []
  },
  {
   "cell_type": "code",
   "execution_count": null,
   "id": "3a1ec53e-e632-4a15-969a-75476a87e7ec",
   "metadata": {},
   "outputs": [],
   "source": []
  },
  {
   "cell_type": "code",
   "execution_count": null,
   "id": "d98ec0e4-7786-4073-b5f9-c4feda311396",
   "metadata": {},
   "outputs": [],
   "source": []
  },
  {
   "cell_type": "code",
   "execution_count": null,
   "id": "835b0552-63ea-48e0-acbb-876eb27ef2e2",
   "metadata": {},
   "outputs": [],
   "source": []
  },
  {
   "cell_type": "code",
   "execution_count": null,
   "id": "c2e3b791-4fb5-4611-b476-c51eb3a70860",
   "metadata": {},
   "outputs": [],
   "source": []
  },
  {
   "cell_type": "code",
   "execution_count": null,
   "id": "0374ccbe-4682-4eaa-b606-3a02a9b8b29b",
   "metadata": {},
   "outputs": [],
   "source": []
  }
 ],
 "metadata": {
  "kernelspec": {
   "display_name": "Python 3 (ipykernel)",
   "language": "python",
   "name": "python3"
  },
  "language_info": {
   "codemirror_mode": {
    "name": "ipython",
    "version": 3
   },
   "file_extension": ".py",
   "mimetype": "text/x-python",
   "name": "python",
   "nbconvert_exporter": "python",
   "pygments_lexer": "ipython3",
   "version": "3.10.13"
  }
 },
 "nbformat": 4,
 "nbformat_minor": 5
}
