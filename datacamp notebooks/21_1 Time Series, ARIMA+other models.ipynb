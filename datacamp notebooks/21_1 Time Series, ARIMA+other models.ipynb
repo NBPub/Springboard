{
 "cells": [
  {
   "cell_type": "markdown",
   "id": "f72cef2c-256c-4fb8-bbf6-a6db212cd4c5",
   "metadata": {
    "tags": []
   },
   "source": [
    "### Time Series Analysis\n",
    "chapters 1-5\n",
    " - [Time Series Data, Correlation, Autocorrelation](#Chapter-One)\n",
    " - [Autocorrelation Function](#Chapter-Two---Autocorrelation-Function)\n",
    " - [Autoregressive (AR) Models](#Chapter-Three---Autoregressive-(AR)-Models)\n",
    " - [Moving Average (MA) Models, ARMA](#Chapter-Four---Moving-Average-(MA)-Models)\n",
    " - [Putting it all together](#Chapter-Five---Example)\n",
    " \n",
    "advanced topics recommended after chapter 5\n",
    " - GARCH, Nonlinear, Multivariate Time Series, Regime Switching, State Space models\n",
    " - Kalman Filtering"
   ]
  },
  {
   "cell_type": "markdown",
   "id": "4f8086e0-cd9f-4617-ab54-b67991b539d8",
   "metadata": {
    "tags": []
   },
   "source": [
    "#### Chapter One"
   ]
  },
  {
   "cell_type": "code",
   "execution_count": null,
   "id": "beb300c1-0b95-4885-a1e5-b2694eb61c5a",
   "metadata": {},
   "outputs": [],
   "source": [
    "# diet is some search trends data frame, convert index to time\n",
    "# Import pandas and plotting modules\n",
    "import pandas as pd\n",
    "import matplotlib.pyplot as plt\n",
    "\n",
    "# Convert the date index to datetime\n",
    "diet.index = pd.to_datetime(diet.index)\n",
    "\n",
    "# Slice the dataset to keep only 2012\n",
    "diet2012 = diet[diet.index.year==2012]\n",
    "\n",
    "# Plot the entire time series diet and show gridlines\n",
    "diet.plot(grid=True)\n",
    "plt.show()\n",
    "\n",
    "# Plot 2012 data\n",
    "diet2012.plot(grid=True)\n",
    "plt.show()"
   ]
  },
  {
   "cell_type": "code",
   "execution_count": null,
   "id": "7b788ce2-3eb9-4a63-acdd-2f73e0e31f0a",
   "metadata": {},
   "outputs": [],
   "source": [
    "# merging time series with different dates\n",
    "# make set of two indices, take difference, \n",
    "# then do df1.join(df2, how='inner')\n",
    "\n",
    "# Compute percent change using pct_change()\n",
    "returns = stocks_and_bonds.pct_change()\n",
    "\n",
    "# Compute correlation using corr()\n",
    "correlation = returns.SP500.corr(returns.US10Y)\n",
    "print(\"Correlation of stocks and interest rates: \", correlation)\n",
    "\n",
    "# Make scatter plot\n",
    "plt.scatter(returns.SP500, returns.US10Y)\n",
    "plt.show()\n",
    "\n",
    "\n",
    "# compare correlation before/after percent change\n",
    "# Compute correlation of levels\n",
    "correlation1 = levels.DJI.corr(levels.UFO)\n",
    "print(\"Correlation of levels: \", correlation1)\n",
    "\n",
    "# Compute correlation of percent changes\n",
    "changes = levels.pct_change()\n",
    "correlation2 = changes.DJI.corr(changes.UFO)\n",
    "print(\"Correlation of changes: \", correlation2)"
   ]
  },
  {
   "cell_type": "code",
   "execution_count": null,
   "id": "4fcceef8-ee86-4e29-bc1d-f2ea8fdd4b84",
   "metadata": {},
   "outputs": [],
   "source": [
    "# Linear Regression, statsmodels\n",
    "\n",
    "# Import the statsmodels module\n",
    "import statsmodels.api as sm\n",
    "\n",
    "# Compute correlation of x and y\n",
    "correlation = x.corr(y)\n",
    "print(\"The correlation between x and y is %4.2f\" %(correlation))\n",
    "\n",
    "# Convert the Series x to a DataFrame and name the column x\n",
    "dfx = pd.DataFrame(x, columns=['x'])\n",
    "\n",
    "# Add a constant to the DataFrame dfx\n",
    "dfx1 = sm.add_constant(dfx)\n",
    "\n",
    "# Regress y on dfx1\n",
    "result = sm.OLS(y, dfx1).fit()\n",
    "\n",
    "# Print out the results and look at the relationship between R-squared and the correlation above\n",
    "print(result.summary())"
   ]
  },
  {
   "cell_type": "code",
   "execution_count": null,
   "id": "fb800c8b-1de5-4ce7-a7cb-24ddc6e8e105",
   "metadata": {},
   "outputs": [],
   "source": [
    "# Autocorrelation, time series with itself\n",
    "# for this dataset, try resampling to week/year\n",
    "\n",
    "# Convert the daily data to weekly data\n",
    "MSFT = MSFT.resample(rule='W').last()\n",
    "\n",
    "# Compute the percentage change of prices\n",
    "returns = MSFT.pct_change()\n",
    "\n",
    "# Compute and print the autocorrelation of returns\n",
    "autocorrelation = returns['Adj Close'].autocorr()\n",
    "print(\"The autocorrelation of weekly returns is %4.2f\" %(autocorrelation))"
   ]
  },
  {
   "cell_type": "code",
   "execution_count": null,
   "id": "c721b753-a4e8-43e1-9f96-13180562f195",
   "metadata": {},
   "outputs": [],
   "source": [
    "# Compute the daily change in interest rates \n",
    "daily_diff = daily_rates.diff()\n",
    "\n",
    "# Compute and print the autocorrelation of daily changes\n",
    "autocorrelation_daily = daily_diff['US10Y'].autocorr()\n",
    "print(\"The autocorrelation of daily interest rate changes is %4.2f\" %(autocorrelation_daily))\n",
    "\n",
    "# Convert the daily data to annual data\n",
    "yearly_rates = daily_rates.resample(rule='A').last()\n",
    "\n",
    "# Repeat above for annual data\n",
    "yearly_diff = yearly_rates.diff()\n",
    "autocorrelation_yearly = yearly_diff['US10Y'].autocorr()\n",
    "print(\"The autocorrelation of annual interest rate changes is %4.2f\" %(autocorrelation_yearly))"
   ]
  },
  {
   "cell_type": "markdown",
   "id": "a96ff4b0-34e3-4725-8892-725af7253016",
   "metadata": {
    "jp-MarkdownHeadingCollapsed": true,
    "tags": []
   },
   "source": [
    "#### Chapter Two - Autocorrelation Function\n",
    " - statsmodels `plot_acf` [docs](https://www.statsmodels.org/stable/generated/statsmodels.graphics.tsaplots.plot_acf.html)"
   ]
  },
  {
   "cell_type": "code",
   "execution_count": null,
   "id": "f6034b2c-c6d2-4a94-a328-52919bdd3fde",
   "metadata": {},
   "outputs": [],
   "source": [
    "from statsmodels.tsa.stattools import acf\n",
    "from statsmodels.graphics.tsaplots import plot_acf"
   ]
  },
  {
   "cell_type": "code",
   "execution_count": null,
   "id": "c8010eb6-3d95-428b-a628-e29f2cf3ffcb",
   "metadata": {},
   "outputs": [],
   "source": [
    "# Import the acf module and the plot_acf module from statsmodels\n",
    "from statsmodels.tsa.stattools import acf\n",
    "from statsmodels.graphics.tsaplots import plot_acf\n",
    "\n",
    "# Compute the acf array of HRB\n",
    "acf_array = acf(HRB)\n",
    "print(acf_array)\n",
    "\n",
    "# Plot the acf function\n",
    "plot_acf(HRB,alpha=1) # alpha=1 suppresses confidence interval\n",
    "plt.show()"
   ]
  },
  {
   "cell_type": "code",
   "execution_count": null,
   "id": "74d33e5f-0480-401a-af61-49f2139f839a",
   "metadata": {},
   "outputs": [],
   "source": [
    "# Import the plot_acf module from statsmodels and sqrt from math\n",
    "from statsmodels.graphics.tsaplots import plot_acf\n",
    "from math import sqrt\n",
    "\n",
    "# Compute and print the autocorrelation of MSFT weekly returns\n",
    "autocorrelation = returns['Adj Close'].autocorr()\n",
    "print(\"The autocorrelation of weekly MSFT returns is %4.2f\" %(autocorrelation))\n",
    "\n",
    "# Find the number of observations by taking the length of the returns DataFrame\n",
    "nobs = len(returns)\n",
    "\n",
    "# Compute the approximate confidence interval\n",
    "conf = 1.96/sqrt(nobs)\n",
    "print(\"The approximate confidence interval is +/- %4.2f\" %(conf))\n",
    "\n",
    "# Plot the autocorrelation function with 95% confidence intervals and 20 lags using plot_acf\n",
    "plot_acf(returns, alpha=0.05, lags=20)\n",
    "plt.show()"
   ]
  },
  {
   "cell_type": "markdown",
   "id": "6eb6ce8c-116a-4adc-bcb8-d03690d2ef84",
   "metadata": {},
   "source": [
    "**White Noise** series with\n",
    " - constant mean\n",
    " - constant variance\n",
    " - zero autocorrelation at all lags\n",
    " - *Gaussian* if distributed normally\n",
    " \n",
    "**Random Walk**\n",
    " - can't forecast, best to use today to predict tomorrow\n",
    " - Dickey-Fuller test for random walk [wiki](https://en.wikipedia.org/wiki/Dickey%E2%80%93Fuller_test)\n",
    " - statsmodels has `adfuller` to perfrom Augmented Dickey-Fuller test"
   ]
  },
  {
   "cell_type": "code",
   "execution_count": null,
   "id": "789b1840-884b-4a02-8248-e80c10227250",
   "metadata": {},
   "outputs": [],
   "source": [
    "# Import the plot_acf module from statsmodels\n",
    "from statsmodels.graphics.tsaplots import plot_acf\n",
    "# Import the adfuller module from statsmodels\n",
    "from statsmodels.tsa.stattools import adfuller\n",
    "\n",
    "import pandas as pd\n",
    "import numpy as np\n",
    "from math import sqrt"
   ]
  },
  {
   "cell_type": "code",
   "execution_count": null,
   "id": "51a0bc87-45e1-41c9-b254-36203e35fbcf",
   "metadata": {},
   "outputs": [],
   "source": [
    "# Simulate white noise returns\n",
    "returns = np.random.normal(loc=0.02, scale=0.05, size=1000)\n",
    "\n",
    "# Print out the mean and standard deviation of returns\n",
    "mean = np.mean(returns)\n",
    "std = np.std(returns)\n",
    "print(\"The mean is %5.3f and the standard deviation is %5.3f\" %(mean,std))\n",
    "\n",
    "# Plot returns series\n",
    "plt.plot(returns)\n",
    "plt.show()\n",
    "\n",
    "# Plot autocorrelation function of white noise returns\n",
    "plot_acf(returns, lags=20)\n",
    "plt.show()"
   ]
  },
  {
   "cell_type": "code",
   "execution_count": null,
   "id": "d11186c8-5788-45e3-b35b-680b8e2db14a",
   "metadata": {},
   "outputs": [],
   "source": [
    "# Generate 500 random steps with mean=0 and standard deviation=1\n",
    "steps = np.random.normal(loc=0, scale=1.0, size=500)\n",
    "\n",
    "# Set first element to 0 so that the first price will be the starting stock price\n",
    "steps[0]=0\n",
    "\n",
    "# Simulate stock prices, P with a starting price of 100\n",
    "P = 100 + np.cumsum(steps)\n",
    "\n",
    "# Plot the simulated stock prices\n",
    "plt.plot(P)\n",
    "plt.title(\"Simulated Random Walk\")\n",
    "plt.show()"
   ]
  },
  {
   "cell_type": "code",
   "execution_count": null,
   "id": "c3842fc5-0036-4aca-8ab6-a71de59a7258",
   "metadata": {},
   "outputs": [],
   "source": [
    "# Random Walk with drift\n",
    "# Generate 500 random steps\n",
    "steps = np.random.normal(loc=0.001, scale=0.01, size=500) + 1\n",
    "\n",
    "# Set first element to 1\n",
    "steps[0]=1\n",
    "\n",
    "# Simulate the stock price, P, by taking the cumulative product\n",
    "P = 100 * np.cumprod(steps)\n",
    "\n",
    "# Plot the simulated stock prices\n",
    "plt.plot(P)\n",
    "plt.title(\"Simulated Random Walk with Drift\")\n",
    "plt.show()"
   ]
  },
  {
   "cell_type": "code",
   "execution_count": null,
   "id": "1ae851ae-9304-4e99-b469-d8b2c6c60186",
   "metadata": {},
   "outputs": [],
   "source": [
    "# is amazon closing price a random walk?\n",
    "# Import the adfuller module from statsmodels\n",
    "from statsmodels.tsa.stattools import adfuller\n",
    "\n",
    "# Run the ADF test on the price series and print out the results\n",
    "results = adfuller(AMZN['Adj Close'])\n",
    "print(results)\n",
    "\n",
    "# Just print out the p-value\n",
    "print('The p-value of the test on prices is: ' + str(results[1]))\n",
    "\n",
    "# cannot reject hypothesis, p value high"
   ]
  },
  {
   "cell_type": "code",
   "execution_count": null,
   "id": "61f7edfb-bf50-413b-b769-d5a8163cef96",
   "metadata": {},
   "outputs": [],
   "source": [
    "# Create a DataFrame of AMZN returns (percent change)\n",
    "AMZN_ret = AMZN.pct_change()\n",
    "\n",
    "# Eliminate the NaN in the first row of returns\n",
    "AMZN_ret = AMZN_ret.dropna()\n",
    "\n",
    "# Run the ADF test on the return series and print out the p-value\n",
    "results = adfuller(AMZN_ret)\n",
    "print('The p-value of the test on returns is: ' + str(results[1]))\n",
    "\n",
    "# p-value very small, can easily reject null hypothesis"
   ]
  },
  {
   "cell_type": "markdown",
   "id": "981fe90f-d728-45af-ae13-4477ebafe3c2",
   "metadata": {},
   "source": [
    "**Stationarity**\n",
    " - *strong* distribution of data is time-invariant\n",
    " - *weak* mean, variance, and autocorrelation are time-invariant\n",
    "   - random walk is non-stationary, variance grows with time\n",
    "   - seasonal series are non-stationary, mean varies with time of year\n",
    " - can transfrom nonstationary series to stationary"
   ]
  },
  {
   "cell_type": "code",
   "execution_count": null,
   "id": "435d6f60-93e1-435d-9dd0-d488401e7dab",
   "metadata": {},
   "outputs": [],
   "source": [
    "# Import the plot_acf module from statsmodels\n",
    "from statsmodels.graphics.tsaplots import plot_acf\n",
    "\n",
    "# Seasonally adjust quarterly earnings\n",
    "HRBsa = HRB.diff(periods=4)\n",
    "\n",
    "# Print the first 10 rows of the seasonally adjusted series\n",
    "print(HRBsa.iloc[:10,:])\n",
    "\n",
    "# Drop the NaN data in the first four rows\n",
    "HRBsa = HRBsa.dropna()\n",
    "\n",
    "# Plot the autocorrelation function of the seasonally adjusted series\n",
    "plot_acf(HRBsa)\n",
    "plt.show()"
   ]
  },
  {
   "cell_type": "markdown",
   "id": "b1c0cce1-5e15-4706-a8ef-05c9d99f2559",
   "metadata": {
    "jp-MarkdownHeadingCollapsed": true,
    "tags": []
   },
   "source": [
    "#### Chapter Three - Autoregressive (AR) Models\n",
    " - [Autoregressive Model wiki](https://en.wikipedia.org/wiki/Autoregressive_model), various orders AR(1), AR(2). . .\n",
    "\n",
    "> The autoregressive model specifies that the output variable depends linearly on its own previous values and on a stochastic term (an imperfectly predictable term). . . Together with the moving-average (MA) model, it is a special case and key component of the more general autoregressive–moving-average (ARMA) and autoregressive integrated moving average (ARIMA) models of time series, which have a more complicated stochastic structure\n",
    " - statsmodels `ArmaProcess`\n",
    " - statsmodels `ARIMA` over `ARMA`, latter is deprecated"
   ]
  },
  {
   "cell_type": "code",
   "execution_count": null,
   "id": "3641053e-f28d-488c-9e41-ff64d2faeabf",
   "metadata": {},
   "outputs": [],
   "source": [
    "# import the module for simulating data\n",
    "from statsmodels.tsa.arima_process import ArmaProcess"
   ]
  },
  {
   "cell_type": "code",
   "execution_count": null,
   "id": "6ca2b2d2-fba6-4b90-83fb-e239fa8acf81",
   "metadata": {},
   "outputs": [],
   "source": [
    "# note sign switch of AR parameter\n",
    "\n",
    "# Plot 1: AR parameter = +0.9\n",
    "plt.subplot(2,1,1)\n",
    "ar1 = np.array([1, -0.9])\n",
    "ma1 = np.array([1])\n",
    "AR_object1 = ArmaProcess(ar1, ma1)\n",
    "simulated_data_1 = AR_object1.generate_sample(nsample=1000)\n",
    "plt.plot(simulated_data_1)\n",
    "\n",
    "# Plot 2: AR parameter = -0.9\n",
    "plt.subplot(2,1,2)\n",
    "ar2 = np.array([1, 0.9])\n",
    "ma2 = np.array([1])\n",
    "AR_object2 = ArmaProcess(ar2, ma2)\n",
    "simulated_data_2 = AR_object2.generate_sample(nsample=1000)\n",
    "plt.plot(simulated_data_2)\n",
    "plt.show()"
   ]
  },
  {
   "cell_type": "code",
   "execution_count": null,
   "id": "c741a0d8-b2e7-4609-b3d9-6f3d72daf346",
   "metadata": {},
   "outputs": [],
   "source": [
    "# Import the plot_acf module from statsmodels\n",
    "from statsmodels.graphics.tsaplots import plot_acf\n",
    "\n",
    "# Plot 1: AR parameter = +0.9\n",
    "plot_acf(simulated_data_1, alpha=1, lags=20)\n",
    "plt.show()"
   ]
  },
  {
   "cell_type": "code",
   "execution_count": null,
   "id": "348bcd74-57b0-40ce-8fa2-2d281143e075",
   "metadata": {},
   "outputs": [],
   "source": [
    "# Import the ARIMA module from statsmodels\n",
    "from statsmodels.tsa.arima.model import ARIMA\n",
    "\n",
    "# Fit an AR(1) model to the first simulated data\n",
    "mod = ARIMA(simulated_data_1, order=(1,0,0))\n",
    "res = mod.fit()\n",
    "\n",
    "# Print out summary information on the fit\n",
    "print(res.summary())\n",
    "\n",
    "# Print out the estimate for phi\n",
    "print(\"When the true phi=0.9, the estimate of phi is:\")\n",
    "print(res.params[1])"
   ]
  },
  {
   "cell_type": "code",
   "execution_count": null,
   "id": "1434516c-3fa8-4bb3-9c82-c3c0f0b79ef9",
   "metadata": {},
   "outputs": [],
   "source": [
    "# Plot the data and the forecast\n",
    "fig, ax = plt.subplots()\n",
    "simulated_data_1.loc[950:].plot(ax=ax)\n",
    "plot_predict(res, start=1000, end=1010, ax=ax)\n",
    "plt.show()"
   ]
  },
  {
   "cell_type": "code",
   "execution_count": null,
   "id": "172f0463-f019-4a6f-aed3-c47925f03c14",
   "metadata": {},
   "outputs": [],
   "source": [
    "# Forecast interst rates using an AR(1) model\n",
    "mod = ARIMA(interest_rate_data, order=(1,0,0))\n",
    "res = mod.fit()\n",
    "\n",
    "# Plot the data and the forecast\n",
    "fig, ax = plt.subplots()\n",
    "interest_rate_data.plot(ax=ax)\n",
    "plot_predict(res, start=0, end='2027', alpha=None, ax=ax)\n",
    "plt.show()"
   ]
  },
  {
   "cell_type": "code",
   "execution_count": null,
   "id": "cb0e0e56-7123-42b0-a91c-9e2141732936",
   "metadata": {},
   "outputs": [],
   "source": [
    "# Forecast interst rates using an AR(1) model\n",
    "mod = ARIMA(interest_rate_data, order=(1,0,0))\n",
    "res = mod.fit()\n",
    "\n",
    "# Plot the data and the forecast\n",
    "fig, ax = plt.subplots()\n",
    "interest_rate_data.plot(ax=ax)\n",
    "plot_predict(res, start=0, end='2027', alpha=None, ax=ax)\n",
    "plt.show()"
   ]
  },
  {
   "cell_type": "code",
   "execution_count": null,
   "id": "cc5a44ef-7f0a-468a-83c0-2a9b7ceea9cc",
   "metadata": {},
   "outputs": [],
   "source": [
    "# Import the plot_acf module from statsmodels\n",
    "from statsmodels.graphics.tsaplots import plot_acf\n",
    "\n",
    "# Plot the interest rate series and the simulated random walk series side-by-side\n",
    "fig, axes = plt.subplots(2,1)\n",
    "\n",
    "# Plot the autocorrelation of the interest rate series in the top plot\n",
    "fig = plot_acf(interest_rate_data, alpha=1, lags=12, ax=axes[0])\n",
    "\n",
    "# Plot the autocorrelation of the simulated random walk series in the bottom plot\n",
    "fig = plot_acf(simulated_data, alpha=1, lags=12, ax=axes[1])\n",
    "\n",
    "# Label axes\n",
    "axes[0].set_title(\"Interest Rate Data\")\n",
    "axes[1].set_title(\"Simulated Random Walk Data\")\n",
    "plt.show()"
   ]
  },
  {
   "cell_type": "markdown",
   "id": "05f413aa-c8ac-442c-8732-860f865655ff",
   "metadata": {},
   "source": [
    "**Choosing the Right Order - Information Criteria**\n",
    " - higher orders will fit better, AIC and BIC score goodness of fit / number of parameters"
   ]
  },
  {
   "cell_type": "code",
   "execution_count": null,
   "id": "3aa18ed0-d9cd-4928-b0d3-442385314e7a",
   "metadata": {},
   "outputs": [],
   "source": [
    "# Import the modules for simulating data and for plotting the PACF\n",
    "from statsmodels.tsa.arima_process import ArmaProcess\n",
    "from statsmodels.graphics.tsaplots import plot_pacf\n",
    "\n",
    "# Simulate AR(1) with phi=+0.6\n",
    "ma = np.array([1])\n",
    "ar = np.array([1, -0.6])\n",
    "AR_object = ArmaProcess(ar, ma)\n",
    "simulated_data_1 = AR_object.generate_sample(nsample=5000)\n",
    "\n",
    "# Plot PACF for AR(1)\n",
    "plot_pacf(simulated_data_1, lags=20)\n",
    "plt.show()\n",
    "\n",
    "# Simulate AR(2) with phi1=+0.6, phi2=+0.3\n",
    "ma = np.array([1])\n",
    "ar = np.array([1, -0.6, -0.3])\n",
    "AR_object = ArmaProcess(ar, ma)\n",
    "simulated_data_2 = AR_object.generate_sample(nsample=5000)\n",
    "\n",
    "# Plot PACF for AR(2)\n",
    "plot_pacf(simulated_data_2, lags=20)\n",
    "plt.show()"
   ]
  },
  {
   "cell_type": "code",
   "execution_count": null,
   "id": "1d7625c5-537b-46f6-ab1f-9d66d22a61dc",
   "metadata": {},
   "outputs": [],
   "source": [
    "# Import the module for estimating an ARIMA model\n",
    "from statsmodels.tsa.arima.model import ARIMA\n",
    "\n",
    "# Fit the data to an AR(p) for p = 0,...,6 , and save the BIC\n",
    "BIC = np.zeros(7)\n",
    "for p in range(7):\n",
    "    mod = ARIMA(simulated_data_2, order=(p,0,0))\n",
    "    res = mod.fit()\n",
    "# Save BIC for AR(p)    \n",
    "    BIC[p] = res.bic\n",
    "    \n",
    "# Plot the BIC as a function of p\n",
    "plt.plot(range(1,7), BIC[1:7], marker='o')\n",
    "plt.xlabel('Order of AR Model')\n",
    "plt.ylabel('Bayesian Information Criterion')\n",
    "plt.show()"
   ]
  },
  {
   "cell_type": "markdown",
   "id": "b40a27ee-69ea-4955-99e6-84e61d08b00f",
   "metadata": {
    "jp-MarkdownHeadingCollapsed": true,
    "tags": []
   },
   "source": [
    "#### Chapter Four - Moving Average (MA) Models\n",
    "[wikipedia](https://en.wikipedia.org/wiki/Moving-average_model)\n",
    "\n",
    "> In time series analysis, the moving-average model (MA model), also known as moving-average process, is a common approach for modeling univariate time series.[1][2] The moving-average model specifies that the output variable is cross-correlated with a non-identical to itself random-variable.\n",
    "<br><br>Together with the autoregressive (AR) model, the moving-average model is a special case and key component of the more general ARMA and ARIMA models of time series,[3] which have a more complicated stochastic structure. Contrary to the AR model, the finite MA model is always stationary.\n",
    "\n",
    "As in the last chapter, when inputting the coefficients, you must include the zero-lag coefficient of 1, but unlike the last chapter on AR models, the sign of the MA coefficients is what we would expect. \n",
    "\n",
    "Create an instance of the ARIMA class. . .the order (p,d,q) of the model (in this case, for an MA(1)), is order=(0,0,1)."
   ]
  },
  {
   "cell_type": "code",
   "execution_count": null,
   "id": "e4ffc301-995e-44fb-ae5c-bc542eb82081",
   "metadata": {},
   "outputs": [],
   "source": [
    "# import the module for simulating data\n",
    "from statsmodels.tsa.arima_process import ArmaProcess\n",
    "\n",
    "# Plot 1: MA parameter = -0.9\n",
    "plt.subplot(2,1,1)\n",
    "ar1 = np.array([1])\n",
    "ma1 = np.array([1, -0.9])\n",
    "MA_object1 = ArmaProcess(ar1, ma1)\n",
    "simulated_data_1 = MA_object1.generate_sample(nsample=1000)\n",
    "plt.plot(simulated_data_1)\n",
    "\n",
    "# Plot 2: MA parameter = +0.9\n",
    "plt.subplot(2,1,2)\n",
    "ar2 = np.array([1])\n",
    "ma2 = np.array([1, 0.9])\n",
    "MA_object2 = ArmaProcess(ar2, ma2)\n",
    "simulated_data_2 = MA_object2.generate_sample(nsample=1000)\n",
    "plt.plot(simulated_data_2)\n",
    "\n",
    "plt.show()"
   ]
  },
  {
   "cell_type": "code",
   "execution_count": null,
   "id": "d14bec04-2c47-4cc8-adc7-289d50dd3090",
   "metadata": {},
   "outputs": [],
   "source": [
    "plot_acf(simulated_data_1, lags=20)\n",
    "plt.show()\n",
    "\n",
    "plot_acf(simulated_data_2, lags=20)\n",
    "plt.show()"
   ]
  },
  {
   "cell_type": "code",
   "execution_count": null,
   "id": "949645c7-1d0b-4753-8942-341618aa9f41",
   "metadata": {},
   "outputs": [],
   "source": [
    "# Import the ARIMA module from statsmodels\n",
    "from statsmodels.tsa.arima.model import ARIMA\n",
    "\n",
    "# Fit an MA(1) model to the first simulated data\n",
    "mod = ARIMA(simulated_data_1, order=(0,0,1))\n",
    "res = mod.fit()\n",
    "\n",
    "# Print out summary information on the fit\n",
    "print(res.summary())\n",
    "\n",
    "# Print out the estimate for the constant and for theta\n",
    "print(\"When the true theta=-0.9, the estimate of theta is:\")\n",
    "print(res.params[1])"
   ]
  },
  {
   "cell_type": "code",
   "execution_count": null,
   "id": "8885ba1f-d9a7-4267-b9c6-f4822e06719d",
   "metadata": {},
   "outputs": [],
   "source": [
    "# Import the ARIMA and plot_predict from statsmodels\n",
    "from statsmodels.tsa.arima.model import ARIMA\n",
    "from statsmodels.graphics.tsaplots import plot_predict\n",
    "\n",
    "# Forecast the first MA(1) model\n",
    "mod = ARIMA(simulated_data_1, order=(0,0,1))\n",
    "res = mod.fit()\n",
    "\n",
    "# Plot the data and the forecast\n",
    "fig, ax = plt.subplots()\n",
    "simulated_data_1.loc[950:].plot(ax=ax)\n",
    "plot_predict(res, start=1000, end=1010, ax=ax)\n",
    "plt.show()"
   ]
  },
  {
   "cell_type": "markdown",
   "id": "59a98e4d-f428-477d-b4b9-c8f8d1776f85",
   "metadata": {},
   "source": [
    "**ARMA Model**"
   ]
  },
  {
   "cell_type": "code",
   "execution_count": null,
   "id": "036f5cb4-7d5d-40aa-ae11-f2084710fa90",
   "metadata": {},
   "outputs": [],
   "source": [
    "# Find missing rows using difference of sets\n",
    "set_missing = set(range(391)) - set(intraday.index)\n",
    "\n",
    "# Print the difference\n",
    "print(\"Missing rows: \", set_missing)\n",
    "\n",
    "# Fill in the missing rows\n",
    "intraday = intraday.reindex(range(391), method='ffill')\n",
    "\n",
    "intraday.index = pd.date_range(start='2017-09-01 9:30', end='2017-09-01 16:00', freq='1min')\n",
    "\n",
    "# Plot the intraday time series\n",
    "intraday.plot(grid=True)\n",
    "plt.show()"
   ]
  },
  {
   "cell_type": "code",
   "execution_count": null,
   "id": "7e45653b-8033-42ed-a987-963ee57cb945",
   "metadata": {},
   "outputs": [],
   "source": [
    "# Import plot_acf and ARIMA modules from statsmodels\n",
    "from statsmodels.graphics.tsaplots import plot_acf\n",
    "from statsmodels.tsa.arima.model import ARIMA\n",
    "\n",
    "# Compute returns from prices and drop the NaN\n",
    "returns = intraday.pct_change()\n",
    "returns = returns.dropna()\n",
    "\n",
    "# Plot ACF of returns with lags up to 60 minutes\n",
    "plot_acf(returns, lags=60)\n",
    "plt.show()\n",
    "\n",
    "# Fit the data to an MA(1) model\n",
    "mod = ARIMA(returns, order=(0,0,1))\n",
    "res = mod.fit()\n",
    "print(res.params[1])"
   ]
  },
  {
   "cell_type": "code",
   "execution_count": null,
   "id": "8532dcfa-639d-4911-893d-c16343d8c6ee",
   "metadata": {},
   "outputs": [],
   "source": [
    "# import the modules for simulating data and plotting the ACF\n",
    "from statsmodels.tsa.arima_process import ArmaProcess\n",
    "from statsmodels.graphics.tsaplots import plot_acf\n",
    "\n",
    "# Build a list MA parameters\n",
    "ma = [0.8**i for i in range(30)]\n",
    "\n",
    "# Simulate the MA(30) model\n",
    "ar = np.array([1])\n",
    "AR_object = ArmaProcess(ar, ma)\n",
    "simulated_data = AR_object.generate_sample(nsample=5000)\n",
    "\n",
    "# Plot the ACF\n",
    "plot_acf(simulated_data, lags=30)\n",
    "plt.show()"
   ]
  },
  {
   "cell_type": "markdown",
   "id": "e40c0d7a-6e7e-4c55-9423-af4acd7e3e1b",
   "metadata": {
    "jp-MarkdownHeadingCollapsed": true,
    "tags": []
   },
   "source": [
    "#### Chapter Five - Example\n",
    " - **CoIntegration** - two series may be random walks, but their combination might not be (is forecastable)\n",
    "   - various economic examples listed (related subsidies, competing companies)\n",
    " - statsmodels `coint` function\n",
    " - Test for cointegration, of series `P` and `Q`, in two steps:\n",
    "   - 1: Regress both series to find slope, `c`\n",
    "   - 2: Run augmented Dickey-Fuller test on `P + cQ` to see if resulting combination is random walk"
   ]
  },
  {
   "cell_type": "code",
   "execution_count": null,
   "id": "3de0acb9-72ce-4980-8873-be415a110a64",
   "metadata": {},
   "outputs": [],
   "source": [
    "# Heating Oil and Natural Gas prices, first 7.25 is a unit conversion\n",
    "\n",
    "# Plot the prices separately\n",
    "plt.subplot(2,1,1)\n",
    "plt.plot(7.25*HO, label='Heating Oil')\n",
    "plt.plot(NG, label='Natural Gas')\n",
    "plt.legend(loc='best', fontsize='small')\n",
    "\n",
    "# Plot the spread\n",
    "plt.subplot(2,1,2)\n",
    "plt.plot(7.25*HO-NG, label='Spread')\n",
    "plt.legend(loc='best', fontsize='small')\n",
    "plt.axhline(y=0, linestyle='--', color='k')\n",
    "plt.show()"
   ]
  },
  {
   "cell_type": "code",
   "execution_count": null,
   "id": "15d06d63-50e4-40f4-9a96-9d97b7a6b311",
   "metadata": {},
   "outputs": [],
   "source": [
    "# Import the adfuller module from statsmodels\n",
    "from statsmodels.tsa.stattools import adfuller\n",
    "\n",
    "# Compute the ADF for HO and NG\n",
    "result_HO = adfuller(HO['Close'])\n",
    "print(\"The p-value for the ADF test on HO is \", result_HO[1])\n",
    "result_NG = adfuller(NG['Close'])\n",
    "print(\"The p-value for the ADF test on NG is \", result_NG[1])\n",
    "\n",
    "# Compute the ADF of the spread\n",
    "result_spread = adfuller(7.25 * HO['Close'] - NG['Close'])\n",
    "print(\"The p-value for the ADF test on the spread is \", result_spread[1])"
   ]
  },
  {
   "cell_type": "code",
   "execution_count": null,
   "id": "16fe3169-f36b-462f-ab30-d30f768fbed2",
   "metadata": {},
   "outputs": [],
   "source": [
    "# Import the statsmodels module for regression and the adfuller function\n",
    "import statsmodels.api as sm\n",
    "from statsmodels.tsa.stattools import adfuller\n",
    "\n",
    "# Regress BTC on ETH\n",
    "ETH = sm.add_constant(ETH)\n",
    "result = sm.OLS(BTC,ETH).fit()\n",
    "\n",
    "# Compute ADF\n",
    "b = result.params[1]\n",
    "adf_stats = adfuller(BTC['Price'] - b*ETH['Price'])\n",
    "print(\"The p-value for the ADF test is \", adf_stats[1])"
   ]
  },
  {
   "cell_type": "code",
   "execution_count": null,
   "id": "3bb94a91-1721-45cb-af25-305b6de17b78",
   "metadata": {},
   "outputs": [],
   "source": [
    "# Import the adfuller function from the statsmodels module\n",
    "from statsmodels.tsa.stattools import adfuller\n",
    "\n",
    "# Convert the index to a datetime object\n",
    "temp_NY.index = pd.to_datetime(temp_NY.index, format='%Y')\n",
    "\n",
    "# Plot average temperatures\n",
    "temp_NY.plot()\n",
    "plt.show()\n",
    "\n",
    "# Compute and print ADF p-value\n",
    "result = adfuller(temp_NY['TAVG'])\n",
    "print(\"The p-value for the ADF test is \", result[1])"
   ]
  },
  {
   "cell_type": "code",
   "execution_count": null,
   "id": "022c6f72-31d1-4d88-8ca1-fcf33ccfa1dc",
   "metadata": {},
   "outputs": [],
   "source": [
    "# Import the modules for plotting the sample ACF and PACF\n",
    "from statsmodels.graphics.tsaplots import plot_acf, plot_pacf\n",
    "\n",
    "# Take first difference of the temperature Series\n",
    "chg_temp = temp_NY.diff()\n",
    "chg_temp = chg_temp.dropna()\n",
    "\n",
    "# Plot the ACF and PACF on the same page\n",
    "fig, axes = plt.subplots(2,1)\n",
    "\n",
    "# Plot the ACF\n",
    "plot_acf(chg_temp, lags=20, ax=axes[0])\n",
    "\n",
    "# Plot the PACF\n",
    "plot_pacf(chg_temp, lags=20, ax=axes[1])\n",
    "plt.show()"
   ]
  },
  {
   "cell_type": "code",
   "execution_count": null,
   "id": "4c92bc8f-17b5-4aa7-bebe-e07dd8c86918",
   "metadata": {},
   "outputs": [],
   "source": [
    "# Import the module for estimating an ARIMA model\n",
    "from statsmodels.tsa.arima.model import ARIMA\n",
    "\n",
    "# Fit the data to an AR(1) model and print AIC:\n",
    "mod_ar1 = ARIMA(chg_temp, order=(1, 0, 0))\n",
    "res_ar1 = mod_ar1.fit()\n",
    "print(\"The AIC for an AR(1) is: \", res_ar1.aic)\n",
    "\n",
    "# Fit the data to an AR(2) model and print AIC:\n",
    "mod_ar2 = ARIMA(chg_temp, order=(2, 0, 0))\n",
    "res_ar2 = mod_ar2.fit()\n",
    "print(\"The AIC for an AR(2) is: \", res_ar2.aic)\n",
    "\n",
    "# Fit the data to an ARMA(1,1) model and print AIC:\n",
    "mod_arma11 = ARIMA(chg_temp, order=(1, 1, 0))\n",
    "res_arma11 = mod_arma11.fit()\n",
    "print(\"The AIC for an ARMA(1,1) is: \", res_arma11.aic)"
   ]
  },
  {
   "cell_type": "code",
   "execution_count": null,
   "id": "3e90dfe3-1832-492f-8772-5f1cafe705a1",
   "metadata": {},
   "outputs": [],
   "source": [
    "# Import the ARIMA module from statsmodels\n",
    "from statsmodels.tsa.arima.model import ARIMA\n",
    "from statsmodels.graphics.tsaplots import plot_predict\n",
    "\n",
    "# Forecast temperatures using an ARIMA(1,1,1) model\n",
    "mod = ARIMA(temp_NY, trend='t', order=(1,1,1))\n",
    "res = mod.fit()\n",
    "\n",
    "# Plot the original series and the forecasted series\n",
    "fig, ax = plt.subplots()\n",
    "temp_NY.plot(ax=ax)\n",
    "plot_predict(res, start='1872', end='2046', ax=ax)\n",
    "plt.show()"
   ]
  }
 ],
 "metadata": {
  "kernelspec": {
   "display_name": "Python 3 (ipykernel)",
   "language": "python",
   "name": "python3"
  },
  "language_info": {
   "codemirror_mode": {
    "name": "ipython",
    "version": 3
   },
   "file_extension": ".py",
   "mimetype": "text/x-python",
   "name": "python",
   "nbconvert_exporter": "python",
   "pygments_lexer": "ipython3",
   "version": "3.10.13"
  }
 },
 "nbformat": 4,
 "nbformat_minor": 5
}
